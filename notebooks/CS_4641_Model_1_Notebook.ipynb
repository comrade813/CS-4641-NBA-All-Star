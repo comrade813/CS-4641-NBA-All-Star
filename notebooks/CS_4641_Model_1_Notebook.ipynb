{
 "cells": [
  {
   "cell_type": "code",
   "execution_count": 452,
   "metadata": {
    "id": "nEdYctuyj4Or"
   },
   "outputs": [],
   "source": [
    "# import libraries\n",
    "import numpy as np\n",
    "import torch\n",
    "import torch.nn as nn\n",
    "import torch.nn.functional as F\n",
    "import tqdm\n",
    "\n",
    "import pandas as pd\n",
    "import sklearn\n",
    "from sklearn.model_selection import train_test_split\n",
    "from sklearn.metrics import classification_report\n",
    "from torch.utils.data import Dataset, DataLoader\n",
    "\n",
    "\n"
   ]
  },
  {
   "cell_type": "code",
   "execution_count": 453,
   "metadata": {},
   "outputs": [
    {
     "name": "stdout",
     "output_type": "stream",
     "text": [
      "Requirement already satisfied: torch in /Users/manas/miniconda3/lib/python3.8/site-packages (1.11.0)\n",
      "Requirement already satisfied: typing-extensions in /Users/manas/miniconda3/lib/python3.8/site-packages (from torch) (4.1.1)\n"
     ]
    }
   ],
   "source": [
    "! pip install torch"
   ]
  },
  {
   "cell_type": "code",
   "execution_count": 454,
   "metadata": {},
   "outputs": [],
   "source": [
    "import random\n",
    "def set_seed(SEED):\n",
    "    random.seed(SEED)\n",
    "    np.random.seed(SEED)\n",
    "    torch.manual_seed(SEED)\n",
    "set_seed(40)"
   ]
  },
  {
   "cell_type": "code",
   "execution_count": 455,
   "metadata": {},
   "outputs": [],
   "source": [
    "#Load Data\n",
    "fully_processed_path = '../data/fully_processed/full_normalized_None.csv'\n",
    "dataset = pd.read_csv(fully_processed_path)\n",
    "\n",
    "#print(dataset.columns)\n",
    "#print(dataset)\n",
    "\n",
    "#X, y = dataset.drop([\"name\", \"is_all_star\"], axis=1), dataset[\"is_all_star\"]\n",
    "\n",
    "X = dataset.drop(['name'],axis=1)\n"
   ]
  },
  {
   "cell_type": "code",
   "execution_count": 456,
   "metadata": {},
   "outputs": [],
   "source": [
    "#normalize every player feature based on position and season"
   ]
  },
  {
   "cell_type": "code",
   "execution_count": 457,
   "metadata": {},
   "outputs": [],
   "source": [
    "SEED = 69\n",
    "train_ratio = 0.6\n",
    "test_ratio = 0.2\n",
    "val_ratio = 0.2\n",
    "\n",
    "X_train, X_tmp = train_test_split(X, test_size=test_ratio+val_ratio)\n",
    "X_test, X_val = train_test_split(X_tmp,test_size=val_ratio/(val_ratio + test_ratio))"
   ]
  },
  {
   "cell_type": "code",
   "execution_count": 458,
   "metadata": {},
   "outputs": [
    {
     "data": {
      "text/plain": [
       "\"\\nall_stars = X_train[X_train['is_all_star'] == 1]\\nnon_all_stars = X_train[X_train['is_all_star'] == 0]\\nall_stars = all_stars.sample(n=non_all_stars.shape[0], replace = True)\\nX_train = pd.concat([all_stars, non_all_stars])\\nX_train = X_train.sample(frac=1)\\n\""
      ]
     },
     "execution_count": 458,
     "metadata": {},
     "output_type": "execute_result"
    }
   ],
   "source": [
    "'''\n",
    "all_stars = X_train[X_train['is_all_star'] == 1]\n",
    "non_all_stars = X_train[X_train['is_all_star'] == 0]\n",
    "all_stars = all_stars.sample(n=non_all_stars.shape[0], replace = True)\n",
    "X_train = pd.concat([all_stars, non_all_stars])\n",
    "X_train = X_train.sample(frac=1)\n",
    "'''"
   ]
  },
  {
   "cell_type": "code",
   "execution_count": 459,
   "metadata": {},
   "outputs": [
    {
     "data": {
      "text/html": [
       "<div>\n",
       "<style scoped>\n",
       "    .dataframe tbody tr th:only-of-type {\n",
       "        vertical-align: middle;\n",
       "    }\n",
       "\n",
       "    .dataframe tbody tr th {\n",
       "        vertical-align: top;\n",
       "    }\n",
       "\n",
       "    .dataframe thead th {\n",
       "        text-align: right;\n",
       "    }\n",
       "</style>\n",
       "<table border=\"1\" class=\"dataframe\">\n",
       "  <thead>\n",
       "    <tr style=\"text-align: right;\">\n",
       "      <th></th>\n",
       "      <th>age</th>\n",
       "      <th>games_played</th>\n",
       "      <th>minutes_played</th>\n",
       "      <th>player_efficiency_rating</th>\n",
       "      <th>true_shooting_percentage</th>\n",
       "      <th>three_point_attempt_rate</th>\n",
       "      <th>free_throw_attempt_rate</th>\n",
       "      <th>offensive_rebound_percentage</th>\n",
       "      <th>defensive_rebound_percentage</th>\n",
       "      <th>total_rebound_percentage</th>\n",
       "      <th>...</th>\n",
       "      <th>offensive_box_plus_minus</th>\n",
       "      <th>defensive_box_plus_minus</th>\n",
       "      <th>box_plus_minus</th>\n",
       "      <th>value_over_replacement_player</th>\n",
       "      <th>POS_CENTER</th>\n",
       "      <th>POS_POINT GUARD</th>\n",
       "      <th>POS_POWER FORWARD</th>\n",
       "      <th>POS_SHOOTING GUARD</th>\n",
       "      <th>POS_SMALL FORWARD</th>\n",
       "      <th>is_all_star</th>\n",
       "    </tr>\n",
       "  </thead>\n",
       "  <tbody>\n",
       "    <tr>\n",
       "      <th>8392</th>\n",
       "      <td>3.026412</td>\n",
       "      <td>0.881908</td>\n",
       "      <td>0.866351</td>\n",
       "      <td>0.942753</td>\n",
       "      <td>-0.042901</td>\n",
       "      <td>-1.133944</td>\n",
       "      <td>0.597906</td>\n",
       "      <td>0.827797</td>\n",
       "      <td>0.402423</td>\n",
       "      <td>0.613014</td>\n",
       "      <td>...</td>\n",
       "      <td>0.799677</td>\n",
       "      <td>0.309593</td>\n",
       "      <td>0.838864</td>\n",
       "      <td>1.094383</td>\n",
       "      <td>0</td>\n",
       "      <td>0</td>\n",
       "      <td>0</td>\n",
       "      <td>1</td>\n",
       "      <td>0</td>\n",
       "      <td>1</td>\n",
       "    </tr>\n",
       "    <tr>\n",
       "      <th>7656</th>\n",
       "      <td>0.231294</td>\n",
       "      <td>1.010335</td>\n",
       "      <td>1.928625</td>\n",
       "      <td>1.789750</td>\n",
       "      <td>0.656781</td>\n",
       "      <td>0.604894</td>\n",
       "      <td>0.914289</td>\n",
       "      <td>0.061403</td>\n",
       "      <td>-0.078750</td>\n",
       "      <td>-0.050452</td>\n",
       "      <td>...</td>\n",
       "      <td>2.192356</td>\n",
       "      <td>0.312240</td>\n",
       "      <td>1.840409</td>\n",
       "      <td>4.144447</td>\n",
       "      <td>0</td>\n",
       "      <td>1</td>\n",
       "      <td>0</td>\n",
       "      <td>0</td>\n",
       "      <td>0</td>\n",
       "      <td>1</td>\n",
       "    </tr>\n",
       "    <tr>\n",
       "      <th>7330</th>\n",
       "      <td>0.316904</td>\n",
       "      <td>1.139628</td>\n",
       "      <td>1.787738</td>\n",
       "      <td>2.923514</td>\n",
       "      <td>0.511870</td>\n",
       "      <td>-0.319356</td>\n",
       "      <td>0.919078</td>\n",
       "      <td>2.172290</td>\n",
       "      <td>4.954738</td>\n",
       "      <td>4.764279</td>\n",
       "      <td>...</td>\n",
       "      <td>2.597015</td>\n",
       "      <td>1.713709</td>\n",
       "      <td>3.098528</td>\n",
       "      <td>4.365603</td>\n",
       "      <td>0</td>\n",
       "      <td>1</td>\n",
       "      <td>0</td>\n",
       "      <td>0</td>\n",
       "      <td>0</td>\n",
       "      <td>1</td>\n",
       "    </tr>\n",
       "    <tr>\n",
       "      <th>5096</th>\n",
       "      <td>2.229294</td>\n",
       "      <td>0.576916</td>\n",
       "      <td>1.048563</td>\n",
       "      <td>0.813756</td>\n",
       "      <td>0.258776</td>\n",
       "      <td>-0.120820</td>\n",
       "      <td>-0.568190</td>\n",
       "      <td>-1.055545</td>\n",
       "      <td>0.929528</td>\n",
       "      <td>0.043767</td>\n",
       "      <td>...</td>\n",
       "      <td>0.764021</td>\n",
       "      <td>0.994624</td>\n",
       "      <td>0.957654</td>\n",
       "      <td>1.677385</td>\n",
       "      <td>1</td>\n",
       "      <td>0</td>\n",
       "      <td>0</td>\n",
       "      <td>0</td>\n",
       "      <td>0</td>\n",
       "      <td>1</td>\n",
       "    </tr>\n",
       "    <tr>\n",
       "      <th>3462</th>\n",
       "      <td>1.290585</td>\n",
       "      <td>0.912610</td>\n",
       "      <td>1.544014</td>\n",
       "      <td>1.020626</td>\n",
       "      <td>0.771698</td>\n",
       "      <td>-0.219654</td>\n",
       "      <td>1.794169</td>\n",
       "      <td>-0.581855</td>\n",
       "      <td>0.485424</td>\n",
       "      <td>0.069559</td>\n",
       "      <td>...</td>\n",
       "      <td>1.255009</td>\n",
       "      <td>0.489169</td>\n",
       "      <td>1.166839</td>\n",
       "      <td>1.833439</td>\n",
       "      <td>0</td>\n",
       "      <td>0</td>\n",
       "      <td>0</td>\n",
       "      <td>0</td>\n",
       "      <td>1</td>\n",
       "      <td>1</td>\n",
       "    </tr>\n",
       "    <tr>\n",
       "      <th>...</th>\n",
       "      <td>...</td>\n",
       "      <td>...</td>\n",
       "      <td>...</td>\n",
       "      <td>...</td>\n",
       "      <td>...</td>\n",
       "      <td>...</td>\n",
       "      <td>...</td>\n",
       "      <td>...</td>\n",
       "      <td>...</td>\n",
       "      <td>...</td>\n",
       "      <td>...</td>\n",
       "      <td>...</td>\n",
       "      <td>...</td>\n",
       "      <td>...</td>\n",
       "      <td>...</td>\n",
       "      <td>...</td>\n",
       "      <td>...</td>\n",
       "      <td>...</td>\n",
       "      <td>...</td>\n",
       "      <td>...</td>\n",
       "      <td>...</td>\n",
       "    </tr>\n",
       "    <tr>\n",
       "      <th>8441</th>\n",
       "      <td>-0.173618</td>\n",
       "      <td>0.855893</td>\n",
       "      <td>1.251326</td>\n",
       "      <td>3.194629</td>\n",
       "      <td>0.662102</td>\n",
       "      <td>-0.742527</td>\n",
       "      <td>1.200273</td>\n",
       "      <td>0.512421</td>\n",
       "      <td>3.396645</td>\n",
       "      <td>2.992803</td>\n",
       "      <td>...</td>\n",
       "      <td>2.854890</td>\n",
       "      <td>2.929573</td>\n",
       "      <td>3.375981</td>\n",
       "      <td>5.654306</td>\n",
       "      <td>0</td>\n",
       "      <td>0</td>\n",
       "      <td>1</td>\n",
       "      <td>0</td>\n",
       "      <td>0</td>\n",
       "      <td>1</td>\n",
       "    </tr>\n",
       "    <tr>\n",
       "      <th>2282</th>\n",
       "      <td>-1.068500</td>\n",
       "      <td>0.629686</td>\n",
       "      <td>1.613921</td>\n",
       "      <td>1.199162</td>\n",
       "      <td>0.636461</td>\n",
       "      <td>0.167689</td>\n",
       "      <td>0.447669</td>\n",
       "      <td>-0.505076</td>\n",
       "      <td>1.098936</td>\n",
       "      <td>0.471207</td>\n",
       "      <td>...</td>\n",
       "      <td>1.136576</td>\n",
       "      <td>-0.049448</td>\n",
       "      <td>0.884364</td>\n",
       "      <td>2.136887</td>\n",
       "      <td>1</td>\n",
       "      <td>0</td>\n",
       "      <td>0</td>\n",
       "      <td>0</td>\n",
       "      <td>0</td>\n",
       "      <td>1</td>\n",
       "    </tr>\n",
       "    <tr>\n",
       "      <th>4234</th>\n",
       "      <td>-0.732872</td>\n",
       "      <td>1.032885</td>\n",
       "      <td>1.890820</td>\n",
       "      <td>1.319847</td>\n",
       "      <td>0.603893</td>\n",
       "      <td>-0.221421</td>\n",
       "      <td>-0.748877</td>\n",
       "      <td>-0.462170</td>\n",
       "      <td>0.727995</td>\n",
       "      <td>0.337028</td>\n",
       "      <td>...</td>\n",
       "      <td>1.370046</td>\n",
       "      <td>0.631601</td>\n",
       "      <td>1.399376</td>\n",
       "      <td>3.010702</td>\n",
       "      <td>1</td>\n",
       "      <td>0</td>\n",
       "      <td>0</td>\n",
       "      <td>0</td>\n",
       "      <td>0</td>\n",
       "      <td>1</td>\n",
       "    </tr>\n",
       "    <tr>\n",
       "      <th>7546</th>\n",
       "      <td>0.315559</td>\n",
       "      <td>0.759251</td>\n",
       "      <td>1.363543</td>\n",
       "      <td>0.446350</td>\n",
       "      <td>0.263330</td>\n",
       "      <td>0.238866</td>\n",
       "      <td>0.281477</td>\n",
       "      <td>-0.492574</td>\n",
       "      <td>0.246469</td>\n",
       "      <td>0.094206</td>\n",
       "      <td>...</td>\n",
       "      <td>0.561201</td>\n",
       "      <td>1.302284</td>\n",
       "      <td>0.909956</td>\n",
       "      <td>1.818271</td>\n",
       "      <td>0</td>\n",
       "      <td>0</td>\n",
       "      <td>1</td>\n",
       "      <td>0</td>\n",
       "      <td>0</td>\n",
       "      <td>1</td>\n",
       "    </tr>\n",
       "    <tr>\n",
       "      <th>1143</th>\n",
       "      <td>-0.940445</td>\n",
       "      <td>1.155817</td>\n",
       "      <td>1.872223</td>\n",
       "      <td>1.480210</td>\n",
       "      <td>0.853577</td>\n",
       "      <td>-0.305945</td>\n",
       "      <td>0.240792</td>\n",
       "      <td>-0.123843</td>\n",
       "      <td>0.789583</td>\n",
       "      <td>0.532113</td>\n",
       "      <td>...</td>\n",
       "      <td>1.124964</td>\n",
       "      <td>0.694917</td>\n",
       "      <td>1.231726</td>\n",
       "      <td>2.876588</td>\n",
       "      <td>1</td>\n",
       "      <td>0</td>\n",
       "      <td>0</td>\n",
       "      <td>0</td>\n",
       "      <td>0</td>\n",
       "      <td>1</td>\n",
       "    </tr>\n",
       "  </tbody>\n",
       "</table>\n",
       "<p>292 rows × 29 columns</p>\n",
       "</div>"
      ],
      "text/plain": [
       "           age  games_played  minutes_played  player_efficiency_rating  \\\n",
       "8392  3.026412      0.881908        0.866351                  0.942753   \n",
       "7656  0.231294      1.010335        1.928625                  1.789750   \n",
       "7330  0.316904      1.139628        1.787738                  2.923514   \n",
       "5096  2.229294      0.576916        1.048563                  0.813756   \n",
       "3462  1.290585      0.912610        1.544014                  1.020626   \n",
       "...        ...           ...             ...                       ...   \n",
       "8441 -0.173618      0.855893        1.251326                  3.194629   \n",
       "2282 -1.068500      0.629686        1.613921                  1.199162   \n",
       "4234 -0.732872      1.032885        1.890820                  1.319847   \n",
       "7546  0.315559      0.759251        1.363543                  0.446350   \n",
       "1143 -0.940445      1.155817        1.872223                  1.480210   \n",
       "\n",
       "      true_shooting_percentage  three_point_attempt_rate  \\\n",
       "8392                 -0.042901                 -1.133944   \n",
       "7656                  0.656781                  0.604894   \n",
       "7330                  0.511870                 -0.319356   \n",
       "5096                  0.258776                 -0.120820   \n",
       "3462                  0.771698                 -0.219654   \n",
       "...                        ...                       ...   \n",
       "8441                  0.662102                 -0.742527   \n",
       "2282                  0.636461                  0.167689   \n",
       "4234                  0.603893                 -0.221421   \n",
       "7546                  0.263330                  0.238866   \n",
       "1143                  0.853577                 -0.305945   \n",
       "\n",
       "      free_throw_attempt_rate  offensive_rebound_percentage  \\\n",
       "8392                 0.597906                      0.827797   \n",
       "7656                 0.914289                      0.061403   \n",
       "7330                 0.919078                      2.172290   \n",
       "5096                -0.568190                     -1.055545   \n",
       "3462                 1.794169                     -0.581855   \n",
       "...                       ...                           ...   \n",
       "8441                 1.200273                      0.512421   \n",
       "2282                 0.447669                     -0.505076   \n",
       "4234                -0.748877                     -0.462170   \n",
       "7546                 0.281477                     -0.492574   \n",
       "1143                 0.240792                     -0.123843   \n",
       "\n",
       "      defensive_rebound_percentage  total_rebound_percentage  ...  \\\n",
       "8392                      0.402423                  0.613014  ...   \n",
       "7656                     -0.078750                 -0.050452  ...   \n",
       "7330                      4.954738                  4.764279  ...   \n",
       "5096                      0.929528                  0.043767  ...   \n",
       "3462                      0.485424                  0.069559  ...   \n",
       "...                            ...                       ...  ...   \n",
       "8441                      3.396645                  2.992803  ...   \n",
       "2282                      1.098936                  0.471207  ...   \n",
       "4234                      0.727995                  0.337028  ...   \n",
       "7546                      0.246469                  0.094206  ...   \n",
       "1143                      0.789583                  0.532113  ...   \n",
       "\n",
       "      offensive_box_plus_minus  defensive_box_plus_minus  box_plus_minus  \\\n",
       "8392                  0.799677                  0.309593        0.838864   \n",
       "7656                  2.192356                  0.312240        1.840409   \n",
       "7330                  2.597015                  1.713709        3.098528   \n",
       "5096                  0.764021                  0.994624        0.957654   \n",
       "3462                  1.255009                  0.489169        1.166839   \n",
       "...                        ...                       ...             ...   \n",
       "8441                  2.854890                  2.929573        3.375981   \n",
       "2282                  1.136576                 -0.049448        0.884364   \n",
       "4234                  1.370046                  0.631601        1.399376   \n",
       "7546                  0.561201                  1.302284        0.909956   \n",
       "1143                  1.124964                  0.694917        1.231726   \n",
       "\n",
       "      value_over_replacement_player  POS_CENTER  POS_POINT GUARD  \\\n",
       "8392                       1.094383           0                0   \n",
       "7656                       4.144447           0                1   \n",
       "7330                       4.365603           0                1   \n",
       "5096                       1.677385           1                0   \n",
       "3462                       1.833439           0                0   \n",
       "...                             ...         ...              ...   \n",
       "8441                       5.654306           0                0   \n",
       "2282                       2.136887           1                0   \n",
       "4234                       3.010702           1                0   \n",
       "7546                       1.818271           0                0   \n",
       "1143                       2.876588           1                0   \n",
       "\n",
       "      POS_POWER FORWARD  POS_SHOOTING GUARD  POS_SMALL FORWARD  is_all_star  \n",
       "8392                  0                   1                  0            1  \n",
       "7656                  0                   0                  0            1  \n",
       "7330                  0                   0                  0            1  \n",
       "5096                  0                   0                  0            1  \n",
       "3462                  0                   0                  1            1  \n",
       "...                 ...                 ...                ...          ...  \n",
       "8441                  1                   0                  0            1  \n",
       "2282                  0                   0                  0            1  \n",
       "4234                  0                   0                  0            1  \n",
       "7546                  1                   0                  0            1  \n",
       "1143                  0                   0                  0            1  \n",
       "\n",
       "[292 rows x 29 columns]"
      ]
     },
     "execution_count": 459,
     "metadata": {},
     "output_type": "execute_result"
    }
   ],
   "source": [
    "#X.head()\n",
    "X_train[X_train['is_all_star'] == 1]"
   ]
  },
  {
   "cell_type": "code",
   "execution_count": 460,
   "metadata": {},
   "outputs": [
    {
     "name": "stdout",
     "output_type": "stream",
     "text": [
      "torch.Size([5698, 28]) torch.Size([1900, 28]) torch.Size([1900, 28])\n",
      "torch.Size([5698]) torch.Size([1900]) torch.Size([1900])\n"
     ]
    }
   ],
   "source": [
    "'''\n",
    "#split dataset into 60/20/20 for training, testing, validation\n",
    "SEED = 69\n",
    "train_ratio = 0.6\n",
    "test_ratio = 0.2\n",
    "val_ratio = 0.2\n",
    "\n",
    "\n",
    "\n",
    "X, y = X.drop(columns=['is_all_star']), X['is_all_star']\n",
    "\n",
    "X_train, X_tmp, y_train, y_tmp = train_test_split(X, y, test_size=test_ratio+val_ratio)\n",
    "X_test, X_val, y_test, y_val = train_test_split(X_tmp, y_tmp, test_size=val_ratio/(val_ratio + test_ratio))\n",
    "'''\n",
    "X_train, y_train = X_train.drop(columns=['is_all_star']), X_train['is_all_star']\n",
    "X_test, y_test = X_test.drop(columns=['is_all_star']), X_test['is_all_star']\n",
    "X_val, y_val = X_val.drop(columns=['is_all_star']), X_val['is_all_star']\n",
    "\n",
    "#convert data to tensors\n",
    "X_train, X_test, X_val = torch.LongTensor(X_train.values), torch.LongTensor(X_test.values), torch.LongTensor(X_val.values)\n",
    "y_train, y_test, y_val = torch.LongTensor(y_train.values), torch.LongTensor(y_test.values), torch.LongTensor(y_val.values)\n",
    "\n",
    "print(X_train.shape, X_test.shape, X_val.shape)\n",
    "print(y_train.shape, y_test.shape, y_val.shape)"
   ]
  },
  {
   "cell_type": "code",
   "execution_count": 461,
   "metadata": {},
   "outputs": [],
   "source": [
    "class dataset(Dataset):\n",
    "  def __init__(self,X,y):\n",
    "    self.X = X.float()\n",
    "    self.y = y.float()\n",
    "    self.length = self.X.shape[0]\n",
    " \n",
    "  def __getitem__(self,idx):\n",
    "    return self.X[idx],self.y[idx]\n",
    "  def __len__(self):\n",
    "    return self.length"
   ]
  },
  {
   "cell_type": "code",
   "execution_count": 462,
   "metadata": {},
   "outputs": [],
   "source": [
    "class AllStarClassifier(nn.Module):\n",
    "    def __init__(self, LAYER_1=30, LAYER_2=10, LAYER_3 = 10, LAYER_4 = 10):\n",
    "      super(AllStarClassifier, self).__init__()\n",
    "      # dense layers\n",
    "      self.layer1 = nn.Linear(LAYER_1, LAYER_2)\n",
    "      self.layer2 = nn.Linear(LAYER_2,  LAYER_3)\n",
    "      self.layer3 = nn.Linear(LAYER_3,  LAYER_4)\n",
    "      self.layer4 = nn.Linear(LAYER_4,  1)\n",
    "\n",
    "    def forward(self, X):\n",
    "\n",
    "      X = self.layer1(X)\n",
    "      X = F.relu(X)\n",
    "      X = self.layer2(X)\n",
    "      X = F.relu(X)\n",
    "      X = self.layer3(X)\n",
    "      X = F.relu(X)\n",
    "      X = self.layer4(X)\n",
    "      return torch.sigmoid(X)"
   ]
  },
  {
   "cell_type": "code",
   "execution_count": 463,
   "metadata": {},
   "outputs": [],
   "source": [
    "loss_fn = nn.BCELoss()\n",
    "\n",
    "learning_rate = 0.05\n",
    "num_epochs = 20\n",
    "batch_size = 32"
   ]
  },
  {
   "cell_type": "code",
   "execution_count": 464,
   "metadata": {},
   "outputs": [],
   "source": [
    "train_set = dataset(X_train,y_train)\n",
    "test_set = dataset(X_test,y_test)\n",
    "val_set = dataset(X_val,y_val)\n",
    "#DataLoader\n",
    "train_loader = DataLoader(train_set,batch_size=batch_size,shuffle=False)\n",
    "test_loader = DataLoader(test_set,batch_size=batch_size,shuffle=False)\n",
    "val_loader = DataLoader(val_set,batch_size=batch_size,shuffle=False)"
   ]
  },
  {
   "cell_type": "code",
   "execution_count": 465,
   "metadata": {},
   "outputs": [],
   "source": [
    "def EvalNet(dev_loader, net):\n",
    "    num_correct = 0\n",
    "    epoch_accuracy = []\n",
    "    epoch_loss = []\n",
    "    y_pred = []\n",
    "    y_actual = []\n",
    "    for i,(X,y) in enumerate(dev_loader):\n",
    "        output = net.forward(X)\n",
    "\n",
    "        loss = loss_fn(output,y.reshape(-1,1))\n",
    "        epoch_loss.append(loss.detach().numpy())\n",
    "\n",
    "        #get pred and actual values\n",
    "        y_pred.append(output.detach().numpy().round().reshape((output.shape[0])))\n",
    "        y_actual.append(y.detach().numpy().reshape((y.shape[0])))\n",
    "\n",
    "        accuracy = (output.reshape(-1).detach().numpy().round() == y.detach().numpy()).sum()/X.shape[0]\n",
    "        epoch_accuracy.append(accuracy)\n",
    "\n",
    "    eval_loss_list.append(sum(epoch_loss)/len(epoch_loss))\n",
    "    eval_accuracy_list.append(sum(epoch_accuracy) / len(epoch_accuracy))\n",
    "\n",
    "    y_pred = np.concatenate(y_pred)\n",
    "    y_actual = np.concatenate(y_actual)\n",
    "\n",
    "    print(\"Accuracy: %s\" % (sum(epoch_accuracy) / len(epoch_accuracy)))\n",
    "\n",
    "    return y_actual, y_pred\n",
    "\n",
    "def Metrics(dev_loader, net):\n",
    "  y, y_pred = EvalNet(dev_loader, net)\n",
    "  conversion_dict = {0: 'Non-All-Star' ,1: 'All-Star'}\n",
    "  processed_y, processed_y_pred = [],[]\n",
    "  for i in range(len(y)):\n",
    "    processed_y.append(conversion_dict[y[i]])\n",
    "    processed_y_pred.append(conversion_dict[y_pred[i]])\n",
    "  print(classification_report(processed_y, processed_y_pred, labels=['Non-All-Star', 'All-Star']))\n",
    "\n",
    "def Train(net, train_loader, n_iter, dev_loader, learning_rate=0.01):\n",
    "  print(\"Start Training!\")\n",
    "  optimizer = torch.optim.SGD(net.parameters(), lr=learning_rate)\n",
    "\n",
    "  for epoch in range(n_iter):\n",
    "    total_loss = 0.0\n",
    "    epoch_accuracy = []\n",
    "    epoch_loss = []\n",
    "    net.train()   #Put the network into training mode\n",
    "    for i,(X,y) in tqdm.tqdm_notebook(enumerate(train_loader)):\n",
    "      output = net(X)\n",
    "      \n",
    "      loss = loss_fn(output,y.reshape(-1,1))\n",
    "      epoch_loss.append(loss.detach().numpy())\n",
    "\n",
    "      accuracy = (output.reshape(-1).detach().numpy().round() == y.detach().numpy()).sum()/(X.shape[0])\n",
    "      epoch_accuracy.append(accuracy)\n",
    "\n",
    "      optimizer.zero_grad()\n",
    "      loss.backward()\n",
    "      optimizer.step()\n",
    "      \n",
    "\n",
    "    train_accuracy_list.append(sum(epoch_accuracy)/len(epoch_accuracy))\n",
    "    train_loss_list.append(sum(epoch_loss)/len(epoch_loss))\n",
    "    \n",
    "    net.eval()\n",
    "    with torch.no_grad():\n",
    "      print(f\"Loss on Train {epoch} = {sum(epoch_loss)/len(epoch_loss)}\")\n",
    "      Metrics(dev_loader, net)\n",
    "  return net"
   ]
  },
  {
   "cell_type": "code",
   "execution_count": 466,
   "metadata": {},
   "outputs": [
    {
     "name": "stdout",
     "output_type": "stream",
     "text": [
      "Start Training!\n"
     ]
    },
    {
     "name": "stderr",
     "output_type": "stream",
     "text": [
      "/var/folders/qb/y1tbczls1jq3tcnsg6h5cd700000gn/T/ipykernel_90229/2314894765.py:48: TqdmDeprecationWarning: This function will be removed in tqdm==5.0.0\n",
      "Please use `tqdm.notebook.tqdm` instead of `tqdm.tqdm_notebook`\n",
      "  for i,(X,y) in tqdm.tqdm_notebook(enumerate(train_loader)):\n"
     ]
    },
    {
     "data": {
      "application/vnd.jupyter.widget-view+json": {
       "model_id": "00968e5bc82e4bc18c1a49347ac9527d",
       "version_major": 2,
       "version_minor": 0
      },
      "text/plain": [
       "0it [00:00, ?it/s]"
      ]
     },
     "metadata": {},
     "output_type": "display_data"
    },
    {
     "name": "stdout",
     "output_type": "stream",
     "text": [
      "Loss on Train 0 = 0.29160328667257085\n",
      "Accuracy: 0.9444444444444444\n",
      "              precision    recall  f1-score   support\n",
      "\n",
      "Non-All-Star       0.94      1.00      0.97      1795\n",
      "    All-Star       0.00      0.00      0.00       105\n",
      "\n",
      "    accuracy                           0.94      1900\n",
      "   macro avg       0.47      0.50      0.49      1900\n",
      "weighted avg       0.89      0.94      0.92      1900\n",
      "\n"
     ]
    },
    {
     "name": "stderr",
     "output_type": "stream",
     "text": [
      "/Users/manas/miniconda3/lib/python3.8/site-packages/sklearn/metrics/_classification.py:1318: UndefinedMetricWarning: Precision and F-score are ill-defined and being set to 0.0 in labels with no predicted samples. Use `zero_division` parameter to control this behavior.\n",
      "  _warn_prf(average, modifier, msg_start, len(result))\n",
      "/Users/manas/miniconda3/lib/python3.8/site-packages/sklearn/metrics/_classification.py:1318: UndefinedMetricWarning: Precision and F-score are ill-defined and being set to 0.0 in labels with no predicted samples. Use `zero_division` parameter to control this behavior.\n",
      "  _warn_prf(average, modifier, msg_start, len(result))\n",
      "/Users/manas/miniconda3/lib/python3.8/site-packages/sklearn/metrics/_classification.py:1318: UndefinedMetricWarning: Precision and F-score are ill-defined and being set to 0.0 in labels with no predicted samples. Use `zero_division` parameter to control this behavior.\n",
      "  _warn_prf(average, modifier, msg_start, len(result))\n",
      "/var/folders/qb/y1tbczls1jq3tcnsg6h5cd700000gn/T/ipykernel_90229/2314894765.py:48: TqdmDeprecationWarning: This function will be removed in tqdm==5.0.0\n",
      "Please use `tqdm.notebook.tqdm` instead of `tqdm.tqdm_notebook`\n",
      "  for i,(X,y) in tqdm.tqdm_notebook(enumerate(train_loader)):\n"
     ]
    },
    {
     "data": {
      "application/vnd.jupyter.widget-view+json": {
       "model_id": "ba708acf9fcb43b6ba40c220a14905c8",
       "version_major": 2,
       "version_minor": 0
      },
      "text/plain": [
       "0it [00:00, ?it/s]"
      ]
     },
     "metadata": {},
     "output_type": "display_data"
    },
    {
     "name": "stdout",
     "output_type": "stream",
     "text": [
      "Loss on Train 1 = 0.13620347100929175\n",
      "Accuracy: 0.9444444444444444\n",
      "              precision    recall  f1-score   support\n",
      "\n",
      "Non-All-Star       0.94      1.00      0.97      1795\n",
      "    All-Star       0.00      0.00      0.00       105\n",
      "\n",
      "    accuracy                           0.94      1900\n",
      "   macro avg       0.47      0.50      0.49      1900\n",
      "weighted avg       0.89      0.94      0.92      1900\n",
      "\n"
     ]
    },
    {
     "name": "stderr",
     "output_type": "stream",
     "text": [
      "/Users/manas/miniconda3/lib/python3.8/site-packages/sklearn/metrics/_classification.py:1318: UndefinedMetricWarning: Precision and F-score are ill-defined and being set to 0.0 in labels with no predicted samples. Use `zero_division` parameter to control this behavior.\n",
      "  _warn_prf(average, modifier, msg_start, len(result))\n",
      "/Users/manas/miniconda3/lib/python3.8/site-packages/sklearn/metrics/_classification.py:1318: UndefinedMetricWarning: Precision and F-score are ill-defined and being set to 0.0 in labels with no predicted samples. Use `zero_division` parameter to control this behavior.\n",
      "  _warn_prf(average, modifier, msg_start, len(result))\n",
      "/Users/manas/miniconda3/lib/python3.8/site-packages/sklearn/metrics/_classification.py:1318: UndefinedMetricWarning: Precision and F-score are ill-defined and being set to 0.0 in labels with no predicted samples. Use `zero_division` parameter to control this behavior.\n",
      "  _warn_prf(average, modifier, msg_start, len(result))\n",
      "/var/folders/qb/y1tbczls1jq3tcnsg6h5cd700000gn/T/ipykernel_90229/2314894765.py:48: TqdmDeprecationWarning: This function will be removed in tqdm==5.0.0\n",
      "Please use `tqdm.notebook.tqdm` instead of `tqdm.tqdm_notebook`\n",
      "  for i,(X,y) in tqdm.tqdm_notebook(enumerate(train_loader)):\n"
     ]
    },
    {
     "data": {
      "application/vnd.jupyter.widget-view+json": {
       "model_id": "49dd612e4caf4518a7c0e922a2eaa659",
       "version_major": 2,
       "version_minor": 0
      },
      "text/plain": [
       "0it [00:00, ?it/s]"
      ]
     },
     "metadata": {},
     "output_type": "display_data"
    },
    {
     "name": "stdout",
     "output_type": "stream",
     "text": [
      "Loss on Train 2 = 0.10427426216426675\n",
      "Accuracy: 0.9444444444444444\n",
      "              precision    recall  f1-score   support\n",
      "\n",
      "Non-All-Star       0.94      1.00      0.97      1795\n",
      "    All-Star       0.00      0.00      0.00       105\n",
      "\n",
      "    accuracy                           0.94      1900\n",
      "   macro avg       0.47      0.50      0.49      1900\n",
      "weighted avg       0.89      0.94      0.92      1900\n",
      "\n"
     ]
    },
    {
     "name": "stderr",
     "output_type": "stream",
     "text": [
      "/Users/manas/miniconda3/lib/python3.8/site-packages/sklearn/metrics/_classification.py:1318: UndefinedMetricWarning: Precision and F-score are ill-defined and being set to 0.0 in labels with no predicted samples. Use `zero_division` parameter to control this behavior.\n",
      "  _warn_prf(average, modifier, msg_start, len(result))\n",
      "/Users/manas/miniconda3/lib/python3.8/site-packages/sklearn/metrics/_classification.py:1318: UndefinedMetricWarning: Precision and F-score are ill-defined and being set to 0.0 in labels with no predicted samples. Use `zero_division` parameter to control this behavior.\n",
      "  _warn_prf(average, modifier, msg_start, len(result))\n",
      "/Users/manas/miniconda3/lib/python3.8/site-packages/sklearn/metrics/_classification.py:1318: UndefinedMetricWarning: Precision and F-score are ill-defined and being set to 0.0 in labels with no predicted samples. Use `zero_division` parameter to control this behavior.\n",
      "  _warn_prf(average, modifier, msg_start, len(result))\n",
      "/var/folders/qb/y1tbczls1jq3tcnsg6h5cd700000gn/T/ipykernel_90229/2314894765.py:48: TqdmDeprecationWarning: This function will be removed in tqdm==5.0.0\n",
      "Please use `tqdm.notebook.tqdm` instead of `tqdm.tqdm_notebook`\n",
      "  for i,(X,y) in tqdm.tqdm_notebook(enumerate(train_loader)):\n"
     ]
    },
    {
     "data": {
      "application/vnd.jupyter.widget-view+json": {
       "model_id": "38c5c7e9f72c4059bd24dd39ec5bcee3",
       "version_major": 2,
       "version_minor": 0
      },
      "text/plain": [
       "0it [00:00, ?it/s]"
      ]
     },
     "metadata": {},
     "output_type": "display_data"
    },
    {
     "name": "stdout",
     "output_type": "stream",
     "text": [
      "Loss on Train 3 = 0.08841823950128931\n",
      "Accuracy: 0.9553819444444444\n",
      "              precision    recall  f1-score   support\n",
      "\n",
      "Non-All-Star       0.96      1.00      0.98      1795\n",
      "    All-Star       0.89      0.23      0.36       105\n",
      "\n",
      "    accuracy                           0.96      1900\n",
      "   macro avg       0.92      0.61      0.67      1900\n",
      "weighted avg       0.95      0.96      0.94      1900\n",
      "\n"
     ]
    },
    {
     "name": "stderr",
     "output_type": "stream",
     "text": [
      "/var/folders/qb/y1tbczls1jq3tcnsg6h5cd700000gn/T/ipykernel_90229/2314894765.py:48: TqdmDeprecationWarning: This function will be removed in tqdm==5.0.0\n",
      "Please use `tqdm.notebook.tqdm` instead of `tqdm.tqdm_notebook`\n",
      "  for i,(X,y) in tqdm.tqdm_notebook(enumerate(train_loader)):\n"
     ]
    },
    {
     "data": {
      "application/vnd.jupyter.widget-view+json": {
       "model_id": "267fe89026b740338f8b52470d5ae448",
       "version_major": 2,
       "version_minor": 0
      },
      "text/plain": [
       "0it [00:00, ?it/s]"
      ]
     },
     "metadata": {},
     "output_type": "display_data"
    },
    {
     "name": "stdout",
     "output_type": "stream",
     "text": [
      "Loss on Train 4 = 0.07453295511750285\n",
      "Accuracy: 0.9715277777777778\n",
      "              precision    recall  f1-score   support\n",
      "\n",
      "Non-All-Star       0.98      0.99      0.99      1795\n",
      "    All-Star       0.76      0.72      0.74       105\n",
      "\n",
      "    accuracy                           0.97      1900\n",
      "   macro avg       0.87      0.86      0.86      1900\n",
      "weighted avg       0.97      0.97      0.97      1900\n",
      "\n"
     ]
    },
    {
     "name": "stderr",
     "output_type": "stream",
     "text": [
      "/var/folders/qb/y1tbczls1jq3tcnsg6h5cd700000gn/T/ipykernel_90229/2314894765.py:48: TqdmDeprecationWarning: This function will be removed in tqdm==5.0.0\n",
      "Please use `tqdm.notebook.tqdm` instead of `tqdm.tqdm_notebook`\n",
      "  for i,(X,y) in tqdm.tqdm_notebook(enumerate(train_loader)):\n"
     ]
    },
    {
     "data": {
      "application/vnd.jupyter.widget-view+json": {
       "model_id": "01247f48f139476ab5e03ad3244e682d",
       "version_major": 2,
       "version_minor": 0
      },
      "text/plain": [
       "0it [00:00, ?it/s]"
      ]
     },
     "metadata": {},
     "output_type": "display_data"
    },
    {
     "name": "stdout",
     "output_type": "stream",
     "text": [
      "Loss on Train 5 = 0.06993447067137995\n",
      "Accuracy: 0.9710069444444444\n",
      "              precision    recall  f1-score   support\n",
      "\n",
      "Non-All-Star       0.98      0.99      0.98      1795\n",
      "    All-Star       0.75      0.72      0.74       105\n",
      "\n",
      "    accuracy                           0.97      1900\n",
      "   macro avg       0.87      0.85      0.86      1900\n",
      "weighted avg       0.97      0.97      0.97      1900\n",
      "\n"
     ]
    },
    {
     "name": "stderr",
     "output_type": "stream",
     "text": [
      "/var/folders/qb/y1tbczls1jq3tcnsg6h5cd700000gn/T/ipykernel_90229/2314894765.py:48: TqdmDeprecationWarning: This function will be removed in tqdm==5.0.0\n",
      "Please use `tqdm.notebook.tqdm` instead of `tqdm.tqdm_notebook`\n",
      "  for i,(X,y) in tqdm.tqdm_notebook(enumerate(train_loader)):\n"
     ]
    },
    {
     "data": {
      "application/vnd.jupyter.widget-view+json": {
       "model_id": "cbf2d1bfae58490197ce22a31e675c0f",
       "version_major": 2,
       "version_minor": 0
      },
      "text/plain": [
       "0it [00:00, ?it/s]"
      ]
     },
     "metadata": {},
     "output_type": "display_data"
    },
    {
     "name": "stdout",
     "output_type": "stream",
     "text": [
      "Loss on Train 6 = 0.0686588509674262\n",
      "Accuracy: 0.9694444444444444\n",
      "              precision    recall  f1-score   support\n",
      "\n",
      "Non-All-Star       0.98      0.99      0.98      1795\n",
      "    All-Star       0.74      0.70      0.72       105\n",
      "\n",
      "    accuracy                           0.97      1900\n",
      "   macro avg       0.86      0.84      0.85      1900\n",
      "weighted avg       0.97      0.97      0.97      1900\n",
      "\n"
     ]
    },
    {
     "name": "stderr",
     "output_type": "stream",
     "text": [
      "/var/folders/qb/y1tbczls1jq3tcnsg6h5cd700000gn/T/ipykernel_90229/2314894765.py:48: TqdmDeprecationWarning: This function will be removed in tqdm==5.0.0\n",
      "Please use `tqdm.notebook.tqdm` instead of `tqdm.tqdm_notebook`\n",
      "  for i,(X,y) in tqdm.tqdm_notebook(enumerate(train_loader)):\n"
     ]
    },
    {
     "data": {
      "application/vnd.jupyter.widget-view+json": {
       "model_id": "20e7341b077441edb1da9945cb6f9605",
       "version_major": 2,
       "version_minor": 0
      },
      "text/plain": [
       "0it [00:00, ?it/s]"
      ]
     },
     "metadata": {},
     "output_type": "display_data"
    },
    {
     "name": "stdout",
     "output_type": "stream",
     "text": [
      "Loss on Train 7 = 0.06755911354521842\n",
      "Accuracy: 0.968923611111111\n",
      "              precision    recall  f1-score   support\n",
      "\n",
      "Non-All-Star       0.98      0.98      0.98      1795\n",
      "    All-Star       0.73      0.70      0.72       105\n",
      "\n",
      "    accuracy                           0.97      1900\n",
      "   macro avg       0.86      0.84      0.85      1900\n",
      "weighted avg       0.97      0.97      0.97      1900\n",
      "\n"
     ]
    },
    {
     "name": "stderr",
     "output_type": "stream",
     "text": [
      "/var/folders/qb/y1tbczls1jq3tcnsg6h5cd700000gn/T/ipykernel_90229/2314894765.py:48: TqdmDeprecationWarning: This function will be removed in tqdm==5.0.0\n",
      "Please use `tqdm.notebook.tqdm` instead of `tqdm.tqdm_notebook`\n",
      "  for i,(X,y) in tqdm.tqdm_notebook(enumerate(train_loader)):\n"
     ]
    },
    {
     "data": {
      "application/vnd.jupyter.widget-view+json": {
       "model_id": "0de4340cc3d44e0aa91caf20b791a22f",
       "version_major": 2,
       "version_minor": 0
      },
      "text/plain": [
       "0it [00:00, ?it/s]"
      ]
     },
     "metadata": {},
     "output_type": "display_data"
    },
    {
     "name": "stdout",
     "output_type": "stream",
     "text": [
      "Loss on Train 8 = 0.06674649285454323\n",
      "Accuracy: 0.9694444444444444\n",
      "              precision    recall  f1-score   support\n",
      "\n",
      "Non-All-Star       0.98      0.98      0.98      1795\n",
      "    All-Star       0.74      0.71      0.72       105\n",
      "\n",
      "    accuracy                           0.97      1900\n",
      "   macro avg       0.86      0.85      0.85      1900\n",
      "weighted avg       0.97      0.97      0.97      1900\n",
      "\n"
     ]
    },
    {
     "name": "stderr",
     "output_type": "stream",
     "text": [
      "/var/folders/qb/y1tbczls1jq3tcnsg6h5cd700000gn/T/ipykernel_90229/2314894765.py:48: TqdmDeprecationWarning: This function will be removed in tqdm==5.0.0\n",
      "Please use `tqdm.notebook.tqdm` instead of `tqdm.tqdm_notebook`\n",
      "  for i,(X,y) in tqdm.tqdm_notebook(enumerate(train_loader)):\n"
     ]
    },
    {
     "data": {
      "application/vnd.jupyter.widget-view+json": {
       "model_id": "c3054fa64c0b414791089710426b3cc2",
       "version_major": 2,
       "version_minor": 0
      },
      "text/plain": [
       "0it [00:00, ?it/s]"
      ]
     },
     "metadata": {},
     "output_type": "display_data"
    },
    {
     "name": "stdout",
     "output_type": "stream",
     "text": [
      "Loss on Train 9 = 0.06617645945727783\n",
      "Accuracy: 0.9720486111111111\n",
      "              precision    recall  f1-score   support\n",
      "\n",
      "Non-All-Star       0.98      0.99      0.99      1795\n",
      "    All-Star       0.76      0.74      0.75       105\n",
      "\n",
      "    accuracy                           0.97      1900\n",
      "   macro avg       0.87      0.86      0.87      1900\n",
      "weighted avg       0.97      0.97      0.97      1900\n",
      "\n"
     ]
    },
    {
     "name": "stderr",
     "output_type": "stream",
     "text": [
      "/var/folders/qb/y1tbczls1jq3tcnsg6h5cd700000gn/T/ipykernel_90229/2314894765.py:48: TqdmDeprecationWarning: This function will be removed in tqdm==5.0.0\n",
      "Please use `tqdm.notebook.tqdm` instead of `tqdm.tqdm_notebook`\n",
      "  for i,(X,y) in tqdm.tqdm_notebook(enumerate(train_loader)):\n"
     ]
    },
    {
     "data": {
      "application/vnd.jupyter.widget-view+json": {
       "model_id": "0c26bf8fb6b8445a98d739b70ef387b6",
       "version_major": 2,
       "version_minor": 0
      },
      "text/plain": [
       "0it [00:00, ?it/s]"
      ]
     },
     "metadata": {},
     "output_type": "display_data"
    },
    {
     "name": "stdout",
     "output_type": "stream",
     "text": [
      "Loss on Train 10 = 0.0657668878212467\n",
      "Accuracy: 0.9710069444444444\n",
      "              precision    recall  f1-score   support\n",
      "\n",
      "Non-All-Star       0.98      0.99      0.98      1795\n",
      "    All-Star       0.75      0.73      0.74       105\n",
      "\n",
      "    accuracy                           0.97      1900\n",
      "   macro avg       0.87      0.86      0.86      1900\n",
      "weighted avg       0.97      0.97      0.97      1900\n",
      "\n"
     ]
    },
    {
     "name": "stderr",
     "output_type": "stream",
     "text": [
      "/var/folders/qb/y1tbczls1jq3tcnsg6h5cd700000gn/T/ipykernel_90229/2314894765.py:48: TqdmDeprecationWarning: This function will be removed in tqdm==5.0.0\n",
      "Please use `tqdm.notebook.tqdm` instead of `tqdm.tqdm_notebook`\n",
      "  for i,(X,y) in tqdm.tqdm_notebook(enumerate(train_loader)):\n"
     ]
    },
    {
     "data": {
      "application/vnd.jupyter.widget-view+json": {
       "model_id": "2c427391b9574099904e250217f2b3e6",
       "version_major": 2,
       "version_minor": 0
      },
      "text/plain": [
       "0it [00:00, ?it/s]"
      ]
     },
     "metadata": {},
     "output_type": "display_data"
    },
    {
     "name": "stdout",
     "output_type": "stream",
     "text": [
      "Loss on Train 11 = 0.06528849818213067\n",
      "Accuracy: 0.9720486111111111\n",
      "              precision    recall  f1-score   support\n",
      "\n",
      "Non-All-Star       0.99      0.99      0.99      1795\n",
      "    All-Star       0.75      0.75      0.75       105\n",
      "\n",
      "    accuracy                           0.97      1900\n",
      "   macro avg       0.87      0.87      0.87      1900\n",
      "weighted avg       0.97      0.97      0.97      1900\n",
      "\n"
     ]
    },
    {
     "name": "stderr",
     "output_type": "stream",
     "text": [
      "/var/folders/qb/y1tbczls1jq3tcnsg6h5cd700000gn/T/ipykernel_90229/2314894765.py:48: TqdmDeprecationWarning: This function will be removed in tqdm==5.0.0\n",
      "Please use `tqdm.notebook.tqdm` instead of `tqdm.tqdm_notebook`\n",
      "  for i,(X,y) in tqdm.tqdm_notebook(enumerate(train_loader)):\n"
     ]
    },
    {
     "data": {
      "application/vnd.jupyter.widget-view+json": {
       "model_id": "43a9e225272f4a68924cdae7e50ba908",
       "version_major": 2,
       "version_minor": 0
      },
      "text/plain": [
       "0it [00:00, ?it/s]"
      ]
     },
     "metadata": {},
     "output_type": "display_data"
    },
    {
     "name": "stdout",
     "output_type": "stream",
     "text": [
      "Loss on Train 12 = 0.064849576240343\n",
      "Accuracy: 0.9725694444444444\n",
      "              precision    recall  f1-score   support\n",
      "\n",
      "Non-All-Star       0.99      0.99      0.99      1795\n",
      "    All-Star       0.75      0.76      0.76       105\n",
      "\n",
      "    accuracy                           0.97      1900\n",
      "   macro avg       0.87      0.87      0.87      1900\n",
      "weighted avg       0.97      0.97      0.97      1900\n",
      "\n"
     ]
    },
    {
     "name": "stderr",
     "output_type": "stream",
     "text": [
      "/var/folders/qb/y1tbczls1jq3tcnsg6h5cd700000gn/T/ipykernel_90229/2314894765.py:48: TqdmDeprecationWarning: This function will be removed in tqdm==5.0.0\n",
      "Please use `tqdm.notebook.tqdm` instead of `tqdm.tqdm_notebook`\n",
      "  for i,(X,y) in tqdm.tqdm_notebook(enumerate(train_loader)):\n"
     ]
    },
    {
     "data": {
      "application/vnd.jupyter.widget-view+json": {
       "model_id": "29ba62c2714d4a81919dc71da9249579",
       "version_major": 2,
       "version_minor": 0
      },
      "text/plain": [
       "0it [00:00, ?it/s]"
      ]
     },
     "metadata": {},
     "output_type": "display_data"
    },
    {
     "name": "stdout",
     "output_type": "stream",
     "text": [
      "Loss on Train 13 = 0.06443609404845901\n",
      "Accuracy: 0.9736111111111111\n",
      "              precision    recall  f1-score   support\n",
      "\n",
      "Non-All-Star       0.99      0.99      0.99      1795\n",
      "    All-Star       0.76      0.78      0.77       105\n",
      "\n",
      "    accuracy                           0.97      1900\n",
      "   macro avg       0.87      0.88      0.88      1900\n",
      "weighted avg       0.97      0.97      0.97      1900\n",
      "\n"
     ]
    },
    {
     "name": "stderr",
     "output_type": "stream",
     "text": [
      "/var/folders/qb/y1tbczls1jq3tcnsg6h5cd700000gn/T/ipykernel_90229/2314894765.py:48: TqdmDeprecationWarning: This function will be removed in tqdm==5.0.0\n",
      "Please use `tqdm.notebook.tqdm` instead of `tqdm.tqdm_notebook`\n",
      "  for i,(X,y) in tqdm.tqdm_notebook(enumerate(train_loader)):\n"
     ]
    },
    {
     "data": {
      "application/vnd.jupyter.widget-view+json": {
       "model_id": "bdb430721f38436da2b8142048ee193f",
       "version_major": 2,
       "version_minor": 0
      },
      "text/plain": [
       "0it [00:00, ?it/s]"
      ]
     },
     "metadata": {},
     "output_type": "display_data"
    },
    {
     "name": "stdout",
     "output_type": "stream",
     "text": [
      "Loss on Train 14 = 0.0640220891543815\n",
      "Accuracy: 0.9725694444444444\n",
      "              precision    recall  f1-score   support\n",
      "\n",
      "Non-All-Star       0.99      0.99      0.99      1795\n",
      "    All-Star       0.75      0.76      0.76       105\n",
      "\n",
      "    accuracy                           0.97      1900\n",
      "   macro avg       0.87      0.87      0.87      1900\n",
      "weighted avg       0.97      0.97      0.97      1900\n",
      "\n"
     ]
    },
    {
     "name": "stderr",
     "output_type": "stream",
     "text": [
      "/var/folders/qb/y1tbczls1jq3tcnsg6h5cd700000gn/T/ipykernel_90229/2314894765.py:48: TqdmDeprecationWarning: This function will be removed in tqdm==5.0.0\n",
      "Please use `tqdm.notebook.tqdm` instead of `tqdm.tqdm_notebook`\n",
      "  for i,(X,y) in tqdm.tqdm_notebook(enumerate(train_loader)):\n"
     ]
    },
    {
     "data": {
      "application/vnd.jupyter.widget-view+json": {
       "model_id": "65841367e59b4ab99b6403881242a1b4",
       "version_major": 2,
       "version_minor": 0
      },
      "text/plain": [
       "0it [00:00, ?it/s]"
      ]
     },
     "metadata": {},
     "output_type": "display_data"
    },
    {
     "name": "stdout",
     "output_type": "stream",
     "text": [
      "Loss on Train 15 = 0.0636628045630251\n",
      "Accuracy: 0.9710069444444444\n",
      "              precision    recall  f1-score   support\n",
      "\n",
      "Non-All-Star       0.98      0.99      0.98      1795\n",
      "    All-Star       0.75      0.73      0.74       105\n",
      "\n",
      "    accuracy                           0.97      1900\n",
      "   macro avg       0.87      0.86      0.86      1900\n",
      "weighted avg       0.97      0.97      0.97      1900\n",
      "\n"
     ]
    },
    {
     "name": "stderr",
     "output_type": "stream",
     "text": [
      "/var/folders/qb/y1tbczls1jq3tcnsg6h5cd700000gn/T/ipykernel_90229/2314894765.py:48: TqdmDeprecationWarning: This function will be removed in tqdm==5.0.0\n",
      "Please use `tqdm.notebook.tqdm` instead of `tqdm.tqdm_notebook`\n",
      "  for i,(X,y) in tqdm.tqdm_notebook(enumerate(train_loader)):\n"
     ]
    },
    {
     "data": {
      "application/vnd.jupyter.widget-view+json": {
       "model_id": "623223c9075844f9a58a796198043e94",
       "version_major": 2,
       "version_minor": 0
      },
      "text/plain": [
       "0it [00:00, ?it/s]"
      ]
     },
     "metadata": {},
     "output_type": "display_data"
    },
    {
     "name": "stdout",
     "output_type": "stream",
     "text": [
      "Loss on Train 16 = 0.06319171418279784\n",
      "Accuracy: 0.9715277777777778\n",
      "              precision    recall  f1-score   support\n",
      "\n",
      "Non-All-Star       0.98      0.99      0.99      1795\n",
      "    All-Star       0.76      0.72      0.74       105\n",
      "\n",
      "    accuracy                           0.97      1900\n",
      "   macro avg       0.87      0.86      0.86      1900\n",
      "weighted avg       0.97      0.97      0.97      1900\n",
      "\n"
     ]
    },
    {
     "name": "stderr",
     "output_type": "stream",
     "text": [
      "/var/folders/qb/y1tbczls1jq3tcnsg6h5cd700000gn/T/ipykernel_90229/2314894765.py:48: TqdmDeprecationWarning: This function will be removed in tqdm==5.0.0\n",
      "Please use `tqdm.notebook.tqdm` instead of `tqdm.tqdm_notebook`\n",
      "  for i,(X,y) in tqdm.tqdm_notebook(enumerate(train_loader)):\n"
     ]
    },
    {
     "data": {
      "application/vnd.jupyter.widget-view+json": {
       "model_id": "f3f71509a9dc42d68b04abc4829d3159",
       "version_major": 2,
       "version_minor": 0
      },
      "text/plain": [
       "0it [00:00, ?it/s]"
      ]
     },
     "metadata": {},
     "output_type": "display_data"
    },
    {
     "name": "stdout",
     "output_type": "stream",
     "text": [
      "Loss on Train 17 = 0.06281926100501302\n",
      "Accuracy: 0.9715277777777778\n",
      "              precision    recall  f1-score   support\n",
      "\n",
      "Non-All-Star       0.98      0.99      0.99      1795\n",
      "    All-Star       0.76      0.72      0.74       105\n",
      "\n",
      "    accuracy                           0.97      1900\n",
      "   macro avg       0.87      0.86      0.86      1900\n",
      "weighted avg       0.97      0.97      0.97      1900\n",
      "\n"
     ]
    },
    {
     "name": "stderr",
     "output_type": "stream",
     "text": [
      "/var/folders/qb/y1tbczls1jq3tcnsg6h5cd700000gn/T/ipykernel_90229/2314894765.py:48: TqdmDeprecationWarning: This function will be removed in tqdm==5.0.0\n",
      "Please use `tqdm.notebook.tqdm` instead of `tqdm.tqdm_notebook`\n",
      "  for i,(X,y) in tqdm.tqdm_notebook(enumerate(train_loader)):\n"
     ]
    },
    {
     "data": {
      "application/vnd.jupyter.widget-view+json": {
       "model_id": "ea5a67cd1e314cd6a4a84b2165479c42",
       "version_major": 2,
       "version_minor": 0
      },
      "text/plain": [
       "0it [00:00, ?it/s]"
      ]
     },
     "metadata": {},
     "output_type": "display_data"
    },
    {
     "name": "stdout",
     "output_type": "stream",
     "text": [
      "Loss on Train 18 = 0.06243931781890797\n",
      "Accuracy: 0.970486111111111\n",
      "              precision    recall  f1-score   support\n",
      "\n",
      "Non-All-Star       0.98      0.99      0.98      1795\n",
      "    All-Star       0.76      0.70      0.73       105\n",
      "\n",
      "    accuracy                           0.97      1900\n",
      "   macro avg       0.87      0.85      0.86      1900\n",
      "weighted avg       0.97      0.97      0.97      1900\n",
      "\n"
     ]
    },
    {
     "name": "stderr",
     "output_type": "stream",
     "text": [
      "/var/folders/qb/y1tbczls1jq3tcnsg6h5cd700000gn/T/ipykernel_90229/2314894765.py:48: TqdmDeprecationWarning: This function will be removed in tqdm==5.0.0\n",
      "Please use `tqdm.notebook.tqdm` instead of `tqdm.tqdm_notebook`\n",
      "  for i,(X,y) in tqdm.tqdm_notebook(enumerate(train_loader)):\n"
     ]
    },
    {
     "data": {
      "application/vnd.jupyter.widget-view+json": {
       "model_id": "699ce18daa7a4cbda9731ce9c1764e4c",
       "version_major": 2,
       "version_minor": 0
      },
      "text/plain": [
       "0it [00:00, ?it/s]"
      ]
     },
     "metadata": {},
     "output_type": "display_data"
    },
    {
     "name": "stdout",
     "output_type": "stream",
     "text": [
      "Loss on Train 19 = 0.062122750328853726\n",
      "Accuracy: 0.9699652777777777\n",
      "              precision    recall  f1-score   support\n",
      "\n",
      "Non-All-Star       0.98      0.99      0.98      1795\n",
      "    All-Star       0.75      0.70      0.72       105\n",
      "\n",
      "    accuracy                           0.97      1900\n",
      "   macro avg       0.87      0.84      0.85      1900\n",
      "weighted avg       0.97      0.97      0.97      1900\n",
      "\n"
     ]
    }
   ],
   "source": [
    "set_seed(100)\n",
    "\n",
    "eval_loss_list = []\n",
    "train_loss_list = []\n",
    "eval_accuracy_list = []\n",
    "train_accuracy_list = []\n",
    "\n",
    "as_classifier = AllStarClassifier(LAYER_1=X_train.shape[1], LAYER_2=50, LAYER_3=25, LAYER_4=10)\n",
    "trained_nn = Train(as_classifier, train_loader, num_epochs, val_loader, learning_rate=learning_rate)\n"
   ]
  },
  {
   "cell_type": "code",
   "execution_count": 467,
   "metadata": {},
   "outputs": [
    {
     "name": "stdout",
     "output_type": "stream",
     "text": [
      "['__annotations__', '__call__', '__class__', '__closure__', '__code__', '__defaults__', '__delattr__', '__dict__', '__dir__', '__doc__', '__eq__', '__format__', '__ge__', '__get__', '__getattribute__', '__globals__', '__gt__', '__hash__', '__init__', '__init_subclass__', '__kwdefaults__', '__le__', '__lt__', '__module__', '__name__', '__ne__', '__new__', '__qualname__', '__reduce__', '__reduce_ex__', '__repr__', '__setattr__', '__sizeof__', '__str__', '__subclasshook__']\n",
      "True\n",
      "['__annotations__', '__call__', '__class__', '__closure__', '__code__', '__defaults__', '__delattr__', '__dict__', '__dir__', '__doc__', '__eq__', '__format__', '__ge__', '__get__', '__getattribute__', '__globals__', '__gt__', '__hash__', '__init__', '__init_subclass__', '__kwdefaults__', '__le__', '__lt__', '__module__', '__name__', '__ne__', '__new__', '__qualname__', '__reduce__', '__reduce_ex__', '__repr__', '__setattr__', '__sizeof__', '__str__', '__subclasshook__']\n"
     ]
    }
   ],
   "source": [
    "print(dir(tqdm.tqdm_notebook))\n",
    "print('tqdm_notebook' in dir(tqdm))\n",
    "print(dir(tqdm.tqdm_notebook))"
   ]
  },
  {
   "cell_type": "code",
   "execution_count": 468,
   "metadata": {},
   "outputs": [
    {
     "data": {
      "text/plain": [
       "[0.29160328667257085,\n",
       " 0.13620347100929175,\n",
       " 0.10427426216426675,\n",
       " 0.08841823950128931,\n",
       " 0.07453295511750285,\n",
       " 0.06993447067137995,\n",
       " 0.0686588509674262,\n",
       " 0.06755911354521842,\n",
       " 0.06674649285454323,\n",
       " 0.06617645945727783,\n",
       " 0.0657668878212467,\n",
       " 0.06528849818213067,\n",
       " 0.064849576240343,\n",
       " 0.06443609404845901,\n",
       " 0.0640220891543815,\n",
       " 0.0636628045630251,\n",
       " 0.06319171418279784,\n",
       " 0.06281926100501302,\n",
       " 0.06243931781890797,\n",
       " 0.062122750328853726]"
      ]
     },
     "execution_count": 468,
     "metadata": {},
     "output_type": "execute_result"
    }
   ],
   "source": [
    "train_loss_list"
   ]
  },
  {
   "cell_type": "code",
   "execution_count": 469,
   "metadata": {},
   "outputs": [],
   "source": [
    "import matplotlib.pyplot as plt\n",
    "from matplotlib.pyplot import figure\n",
    "%matplotlib inline"
   ]
  },
  {
   "cell_type": "code",
   "execution_count": 470,
   "metadata": {},
   "outputs": [
    {
     "data": {
      "text/plain": [
       "<matplotlib.legend.Legend at 0x2969730d0>"
      ]
     },
     "execution_count": 470,
     "metadata": {},
     "output_type": "execute_result"
    },
    {
     "data": {
      "image/png": "[encoded data removed]",
      "text/plain": [
       "<Figure size 776x480 with 1 Axes>"
      ]
     },
     "metadata": {
      "needs_background": "dark"
     },
     "output_type": "display_data"
    }
   ],
   "source": [
    "figure(figsize=(9.7, 6), dpi=80)\n",
    "\n",
    "plt.plot(train_loss_list, label='training loss')\n",
    "plt.plot(eval_loss_list, label='validation loss')\n",
    "plt.title('Loss vs. Epochs Completed')\n",
    "plt.xlabel(\"Epoch\")\n",
    "plt.ylabel(\"Binary Cross Entropy Loss\")\n",
    "plt.legend()\n",
    "\n",
    "#plt.savefig('loss_v_epoch.png')"
   ]
  },
  {
   "cell_type": "code",
   "execution_count": 471,
   "metadata": {},
   "outputs": [
    {
     "data": {
      "text/plain": [
       "<matplotlib.legend.Legend at 0x296407a60>"
      ]
     },
     "execution_count": 471,
     "metadata": {},
     "output_type": "execute_result"
    },
    {
     "data": {
      "image/png": "[encoded data removed]",
      "text/plain": [
       "<Figure size 776x480 with 1 Axes>"
      ]
     },
     "metadata": {
      "needs_background": "dark"
     },
     "output_type": "display_data"
    }
   ],
   "source": [
    "figure(figsize=(9.7,6), dpi=80)\n",
    "\n",
    "plt.plot(train_accuracy_list, label='training accuracy')\n",
    "plt.plot(eval_accuracy_list, label='validation accuracy')\n",
    "plt.title('Accuracy vs. Epochs Completed')\n",
    "plt.xlabel('Epoch')\n",
    "plt.ylabel('Accuracy')\n",
    "plt.legend()\n",
    "\n",
    "#plt.savefig('acc_v_epoch.png')"
   ]
  },
  {
   "cell_type": "code",
   "execution_count": null,
   "metadata": {},
   "outputs": [],
   "source": []
  }
 ],
 "metadata": {
  "colab": {
   "name": "CS 4641 - Model 1 Notebook",
   "provenance": []
  },
  "kernelspec": {
   "display_name": "Python 3 (ipykernel)",
   "language": "python",
   "name": "python3"
  },
  "language_info": {
   "codemirror_mode": {
    "name": "ipython",
    "version": 3
   },
   "file_extension": ".py",
   "mimetype": "text/x-python",
   "name": "python",
   "nbconvert_exporter": "python",
   "pygments_lexer": "ipython3",
   "version": "3.8.11"
  }
 },
 "nbformat": 4,
 "nbformat_minor": 1
}
