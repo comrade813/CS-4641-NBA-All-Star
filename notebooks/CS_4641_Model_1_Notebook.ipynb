{
  "cells": [
    {
      "cell_type": "code",
      "execution_count": 286,
      "metadata": {
        "id": "nEdYctuyj4Or"
      },
      "outputs": [],
      "source": [
        "# import libraries\n",
        "import numpy as np\n",
        "import torch\n",
        "import torch.nn as nn\n",
        "import torch.nn.functional as F\n",
        "import tqdm\n",
        "\n",
        "import pandas as pd\n",
        "import sklearn\n",
        "from sklearn.model_selection import train_test_split\n",
        "from torch.utils.data import Dataset, DataLoader\n",
        "\n",
        "\n"
      ]
    },
    {
      "cell_type": "code",
      "execution_count": 287,
      "metadata": {},
      "outputs": [
        {
          "name": "stdout",
          "output_type": "stream",
          "text": [
            "Requirement already satisfied: torch in /Users/manas/miniconda3/lib/python3.8/site-packages (1.11.0)\n",
            "Requirement already satisfied: typing-extensions in /Users/manas/miniconda3/lib/python3.8/site-packages (from torch) (4.1.1)\n"
          ]
        }
      ],
      "source": [
        "! pip install torch"
      ]
    },
    {
      "cell_type": "code",
      "execution_count": 288,
      "metadata": {},
      "outputs": [],
      "source": [
        "import random\n",
        "def set_seed(SEED):\n",
        "    random.seed(SEED)\n",
        "    np.random.seed(SEED)\n",
        "    torch.manual_seed(SEED)\n",
        "set_seed(40)"
      ]
    },
    {
      "cell_type": "code",
      "execution_count": 289,
      "metadata": {},
      "outputs": [
        {
          "name": "stdout",
          "output_type": "stream",
          "text": [
            "Index(['age', 'games_played', 'minutes_played', 'player_efficiency_rating',\n",
            "       'true_shooting_percentage', 'three_point_attempt_rate',\n",
            "       'free_throw_attempt_rate', 'offensive_rebound_percentage',\n",
            "       'defensive_rebound_percentage', 'total_rebound_percentage',\n",
            "       'assist_percentage', 'steal_percentage', 'block_percentage',\n",
            "       'turnover_percentage', 'usage_percentage', 'offensive_win_shares',\n",
            "       'defensive_win_shares', 'win_shares', 'win_shares_per_48_minutes',\n",
            "       'offensive_box_plus_minus', 'defensive_box_plus_minus',\n",
            "       'box_plus_minus', 'value_over_replacement_player', 'POS_CENTER',\n",
            "       'POS_POINT GUARD', 'POS_POWER FORWARD', 'POS_SHOOTING GUARD',\n",
            "       'POS_SMALL FORWARD'],\n",
            "      dtype='object') 0    0\n",
            "1    1\n",
            "2    0\n",
            "3    0\n",
            "4    0\n",
            "Name: is_all_star, dtype: int64\n"
          ]
        }
      ],
      "source": [
        "#Load Data\n",
        "partially_processed_path = './CS-4641-NBA-All-Star/data/partially_processed/advanced_player_season_totals.csv'\n",
        "dataset = pd.read_csv(partially_processed_path)\n",
        "\n",
        "#print(dataset.columns)\n",
        "#print(dataset)\n",
        "\n",
        "X, y = dataset.drop([\"name\", \"is_all_star\"], axis=1), dataset[\"is_all_star\"]\n",
        "#One-Hot Encode Player Position\n",
        "encoded = pd.get_dummies(X[\"positions\"], prefix=\"POS\")\n",
        "X = pd.merge(left=X.drop(\"positions\", axis=1), right=encoded, left_index=True, right_index=True)\n",
        "\n",
        "print(X.columns, y.head())"
      ]
    },
    {
      "cell_type": "code",
      "execution_count": 290,
      "metadata": {},
      "outputs": [
        {
          "name": "stdout",
          "output_type": "stream",
          "text": [
            "torch.Size([5698, 28]) torch.Size([1900, 28]) torch.Size([1900, 28])\n",
            "torch.Size([5698]) torch.Size([1900]) torch.Size([1900])\n"
          ]
        }
      ],
      "source": [
        "#split dataset into 70/15/15 for training, testing, validation\n",
        "SEED = 69\n",
        "train_ratio = 0.6\n",
        "test_ratio = 0.2\n",
        "val_ratio = 0.2\n",
        "\n",
        "X_train, X_tmp, y_train, y_tmp = train_test_split(X, y, test_size=test_ratio+val_ratio)\n",
        "X_test, X_val, y_test, y_val = train_test_split(X_tmp, y_tmp, test_size=val_ratio/(val_ratio + test_ratio))\n",
        "\n",
        "\n",
        "#convert data to tensors\n",
        "X_train, X_test, X_val = torch.LongTensor(X_train.values), torch.LongTensor(X_test.values), torch.LongTensor(X_val.values)\n",
        "y_train, y_test, y_val = torch.LongTensor(y_train.values), torch.LongTensor(y_test.values), torch.LongTensor(y_val.values)\n",
        "\n",
        "print(X_train.shape, X_test.shape, X_val.shape)\n",
        "print(y_train.shape, y_test.shape, y_val.shape)"
      ]
    },
    {
      "cell_type": "code",
      "execution_count": 291,
      "metadata": {},
      "outputs": [],
      "source": [
        "class dataset(Dataset):\n",
        "  def __init__(self,X,y):\n",
        "    self.X = X.float()\n",
        "    self.y = y.float()\n",
        "    self.length = self.X.shape[0]\n",
        " \n",
        "  def __getitem__(self,idx):\n",
        "    return self.X[idx],self.y[idx]\n",
        "  def __len__(self):\n",
        "    return self.length"
      ]
    },
    {
      "cell_type": "code",
      "execution_count": 292,
      "metadata": {},
      "outputs": [],
      "source": [
        "class AllStarClassifier(nn.Module):\n",
        "    def __init__(self, LAYER_1=30, LAYER_2=10, LAYER_3 = 10):\n",
        "      super(AllStarClassifier, self).__init__()\n",
        "      # dense layers\n",
        "      self.layer1 = nn.Linear(LAYER_1, LAYER_2)\n",
        "      self.layer2 = nn.Linear(LAYER_2,  LAYER_3)\n",
        "      self.layer3 = nn.Linear(LAYER_3,  1)\n",
        "\n",
        "    def forward(self, X):\n",
        "\n",
        "      X = self.layer1(X)\n",
        "      X = F.relu(X)\n",
        "      X = self.layer2(X)\n",
        "      X = F.relu(X)\n",
        "      X = self.layer3(X)\n",
        "      return torch.sigmoid(X)"
      ]
    },
    {
      "cell_type": "code",
      "execution_count": 301,
      "metadata": {},
      "outputs": [],
      "source": [
        "loss_fn = nn.BCELoss()\n",
        "\n",
        "learning_rate = 0.005\n",
        "num_epochs = 15\n",
        "batch_size = 32"
      ]
    },
    {
      "cell_type": "code",
      "execution_count": 302,
      "metadata": {},
      "outputs": [],
      "source": [
        "train_set = dataset(X_train,y_train)\n",
        "test_set = dataset(X_test,y_test)\n",
        "val_set = dataset(X_val,y_val)\n",
        "#DataLoader\n",
        "train_loader = DataLoader(train_set,batch_size=batch_size,shuffle=False)\n",
        "test_loader = DataLoader(test_set,batch_size=batch_size,shuffle=False)\n",
        "val_loader = DataLoader(val_set,batch_size=batch_size,shuffle=False)"
      ]
    },
    {
      "cell_type": "code",
      "execution_count": 303,
      "metadata": {},
      "outputs": [],
      "source": [
        "def EvalNet(dev_loader, net):\n",
        "    num_correct = 0\n",
        "    epoch_accuracy = []\n",
        "    epoch_loss = []\n",
        "    for i,(X,y) in enumerate(dev_loader):\n",
        "        output = net.forward(X)\n",
        "\n",
        "        loss = loss_fn(output,y.reshape(-1,1))\n",
        "        epoch_loss.append(loss.detach().numpy())\n",
        "\n",
        "        accuracy = (output.reshape(-1).detach().numpy().round() == y.detach().numpy()).sum()/X.shape[0]\n",
        "        epoch_accuracy.append(accuracy)\n",
        "    eval_loss_list.append(sum(epoch_loss)/len(epoch_loss))\n",
        "    eval_accuracy_list.append(sum(epoch_accuracy) / len(epoch_accuracy))\n",
        "    print(\"Accuracy: %s\" % (sum(epoch_accuracy) / len(epoch_accuracy)))\n",
        "    return y\n",
        "\n",
        "def Train(net, train_loader, n_iter, dev_loader, learning_rate=0.01):\n",
        "  print(\"Start Training!\")\n",
        "  optimizer = torch.optim.Adam(net.parameters(), lr=learning_rate)\n",
        "\n",
        "  for epoch in range(n_iter):\n",
        "    total_loss = 0.0\n",
        "    epoch_accuracy = []\n",
        "    epoch_loss = []\n",
        "    net.train()   #Put the network into training mode\n",
        "    for i,(X,y) in tqdm.notebook.tqdm(enumerate(train_loader)):\n",
        "      output = net(X)\n",
        "      \n",
        "      loss = loss_fn(output,y.reshape(-1,1))\n",
        "      epoch_loss.append(loss.detach().numpy())\n",
        "\n",
        "      accuracy = (output.reshape(-1).detach().numpy().round() == y.detach().numpy()).sum()/(X.shape[0])\n",
        "      epoch_accuracy.append(accuracy)\n",
        "\n",
        "      optimizer.zero_grad()\n",
        "      loss.backward()\n",
        "      optimizer.step()\n",
        "      \n",
        "\n",
        "    train_accuracy_list.append(sum(epoch_accuracy)/len(epoch_accuracy))\n",
        "    train_loss_list.append(sum(epoch_loss)/len(epoch_loss))\n",
        "    \n",
        "    net.eval()\n",
        "    with torch.no_grad():\n",
        "      print(f\"Loss on Train {epoch} = {sum(epoch_loss)/len(epoch_loss)}\")\n",
        "      EvalNet(dev_loader, net)\n",
        "  return net"
      ]
    },
    {
      "cell_type": "code",
      "execution_count": 304,
      "metadata": {},
      "outputs": [
        {
          "name": "stdout",
          "output_type": "stream",
          "text": [
            "Start Training!\n"
          ]
        },
        {
          "data": {
            "application/vnd.jupyter.widget-view+json": {
              "model_id": "b0e3fea1181f4e5c9626e84c5854d902",
              "version_major": 2,
              "version_minor": 0
            },
            "text/plain": [
              "0it [00:00, ?it/s]"
            ]
          },
          "metadata": {},
          "output_type": "display_data"
        },
        {
          "name": "stdout",
          "output_type": "stream",
          "text": [
            "Loss on Train 0 = 0.42376610833934286\n",
            "Accuracy: 0.9444444444444444\n"
          ]
        },
        {
          "data": {
            "application/vnd.jupyter.widget-view+json": {
              "model_id": "632eaefcf16a4d26a60f8d739898b67d",
              "version_major": 2,
              "version_minor": 0
            },
            "text/plain": [
              "0it [00:00, ?it/s]"
            ]
          },
          "metadata": {},
          "output_type": "display_data"
        },
        {
          "name": "stdout",
          "output_type": "stream",
          "text": [
            "Loss on Train 1 = 0.14273303922255362\n",
            "Accuracy: 0.9444444444444444\n"
          ]
        },
        {
          "data": {
            "application/vnd.jupyter.widget-view+json": {
              "model_id": "f15546cba10a44c7a3388a9585e9a787",
              "version_major": 2,
              "version_minor": 0
            },
            "text/plain": [
              "0it [00:00, ?it/s]"
            ]
          },
          "metadata": {},
          "output_type": "display_data"
        },
        {
          "name": "stdout",
          "output_type": "stream",
          "text": [
            "Loss on Train 2 = 0.11142666731550041\n",
            "Accuracy: 0.9449652777777777\n"
          ]
        },
        {
          "data": {
            "application/vnd.jupyter.widget-view+json": {
              "model_id": "45919afd95254411baf6349c58f3a707",
              "version_major": 2,
              "version_minor": 0
            },
            "text/plain": [
              "0it [00:00, ?it/s]"
            ]
          },
          "metadata": {},
          "output_type": "display_data"
        },
        {
          "name": "stdout",
          "output_type": "stream",
          "text": [
            "Loss on Train 3 = 0.10796716272949329\n",
            "Accuracy: 0.954861111111111\n"
          ]
        },
        {
          "data": {
            "application/vnd.jupyter.widget-view+json": {
              "model_id": "679d084929ca4c489a9af7ddef1b3ad9",
              "version_major": 2,
              "version_minor": 0
            },
            "text/plain": [
              "0it [00:00, ?it/s]"
            ]
          },
          "metadata": {},
          "output_type": "display_data"
        },
        {
          "name": "stdout",
          "output_type": "stream",
          "text": [
            "Loss on Train 4 = 0.10763277907468191\n",
            "Accuracy: 0.9538194444444444\n"
          ]
        },
        {
          "data": {
            "application/vnd.jupyter.widget-view+json": {
              "model_id": "6c7494aa7378447e9bc6079fa7198eae",
              "version_major": 2,
              "version_minor": 0
            },
            "text/plain": [
              "0it [00:00, ?it/s]"
            ]
          },
          "metadata": {},
          "output_type": "display_data"
        },
        {
          "name": "stdout",
          "output_type": "stream",
          "text": [
            "Loss on Train 5 = 0.09872414724766043\n",
            "Accuracy: 0.9585069444444444\n"
          ]
        },
        {
          "data": {
            "application/vnd.jupyter.widget-view+json": {
              "model_id": "a0afe3ce246047dfa3dcee7d25bf8eed",
              "version_major": 2,
              "version_minor": 0
            },
            "text/plain": [
              "0it [00:00, ?it/s]"
            ]
          },
          "metadata": {},
          "output_type": "display_data"
        },
        {
          "name": "stdout",
          "output_type": "stream",
          "text": [
            "Loss on Train 6 = 0.10375909081220565\n",
            "Accuracy: 0.967013888888889\n"
          ]
        },
        {
          "data": {
            "application/vnd.jupyter.widget-view+json": {
              "model_id": "c0e60464dd884d6dbdd0793e25d52656",
              "version_major": 2,
              "version_minor": 0
            },
            "text/plain": [
              "0it [00:00, ?it/s]"
            ]
          },
          "metadata": {},
          "output_type": "display_data"
        },
        {
          "name": "stdout",
          "output_type": "stream",
          "text": [
            "Loss on Train 7 = 0.09736828856864767\n",
            "Accuracy: 0.9550347222222223\n"
          ]
        },
        {
          "data": {
            "application/vnd.jupyter.widget-view+json": {
              "model_id": "04537c3a199749738e97401a424c1333",
              "version_major": 2,
              "version_minor": 0
            },
            "text/plain": [
              "0it [00:00, ?it/s]"
            ]
          },
          "metadata": {},
          "output_type": "display_data"
        },
        {
          "name": "stdout",
          "output_type": "stream",
          "text": [
            "Loss on Train 8 = 0.0957809988456107\n",
            "Accuracy: 0.968576388888889\n"
          ]
        },
        {
          "data": {
            "application/vnd.jupyter.widget-view+json": {
              "model_id": "d11c8eb7b2004e96a5a2ff03bf4973bd",
              "version_major": 2,
              "version_minor": 0
            },
            "text/plain": [
              "0it [00:00, ?it/s]"
            ]
          },
          "metadata": {},
          "output_type": "display_data"
        },
        {
          "name": "stdout",
          "output_type": "stream",
          "text": [
            "Loss on Train 9 = 0.0922495735153639\n",
            "Accuracy: 0.9694444444444444\n"
          ]
        },
        {
          "data": {
            "application/vnd.jupyter.widget-view+json": {
              "model_id": "eb79f44b941d49a2baf8d4c61e92b054",
              "version_major": 2,
              "version_minor": 0
            },
            "text/plain": [
              "0it [00:00, ?it/s]"
            ]
          },
          "metadata": {},
          "output_type": "display_data"
        },
        {
          "name": "stdout",
          "output_type": "stream",
          "text": [
            "Loss on Train 10 = 0.09526743122191798\n",
            "Accuracy: 0.960763888888889\n"
          ]
        },
        {
          "data": {
            "application/vnd.jupyter.widget-view+json": {
              "model_id": "08bb9ef7778c49ca9768c0133461e051",
              "version_major": 2,
              "version_minor": 0
            },
            "text/plain": [
              "0it [00:00, ?it/s]"
            ]
          },
          "metadata": {},
          "output_type": "display_data"
        },
        {
          "name": "stdout",
          "output_type": "stream",
          "text": [
            "Loss on Train 11 = 0.09339249386015093\n",
            "Accuracy: 0.9715277777777778\n"
          ]
        },
        {
          "data": {
            "application/vnd.jupyter.widget-view+json": {
              "model_id": "87785527bb694a159509b49c0290aee4",
              "version_major": 2,
              "version_minor": 0
            },
            "text/plain": [
              "0it [00:00, ?it/s]"
            ]
          },
          "metadata": {},
          "output_type": "display_data"
        },
        {
          "name": "stdout",
          "output_type": "stream",
          "text": [
            "Loss on Train 12 = 0.0932245252266339\n",
            "Accuracy: 0.9680555555555556\n"
          ]
        },
        {
          "data": {
            "application/vnd.jupyter.widget-view+json": {
              "model_id": "8927383416cb42ce968b202df90975dc",
              "version_major": 2,
              "version_minor": 0
            },
            "text/plain": [
              "0it [00:00, ?it/s]"
            ]
          },
          "metadata": {},
          "output_type": "display_data"
        },
        {
          "name": "stdout",
          "output_type": "stream",
          "text": [
            "Loss on Train 13 = 0.09044994886602957\n",
            "Accuracy: 0.9696180555555556\n"
          ]
        },
        {
          "data": {
            "application/vnd.jupyter.widget-view+json": {
              "model_id": "f738b94fda4e411d928764ff919a0808",
              "version_major": 2,
              "version_minor": 0
            },
            "text/plain": [
              "0it [00:00, ?it/s]"
            ]
          },
          "metadata": {},
          "output_type": "display_data"
        },
        {
          "name": "stdout",
          "output_type": "stream",
          "text": [
            "Loss on Train 14 = 0.0900632692240803\n",
            "Accuracy: 0.9659722222222222\n"
          ]
        }
      ],
      "source": [
        "set_seed(100)\n",
        "\n",
        "eval_loss_list = []\n",
        "train_loss_list = []\n",
        "eval_accuracy_list = []\n",
        "train_accuracy_list = []\n",
        "\n",
        "as_classifier = AllStarClassifier(LAYER_1=X_train.shape[1], LAYER_2=10, LAYER_3=10)\n",
        "trained_nn = Train(as_classifier, train_loader, num_epochs, val_loader)\n"
      ]
    },
    {
      "cell_type": "code",
      "execution_count": null,
      "metadata": {},
      "outputs": [
        {
          "name": "stdout",
          "output_type": "stream",
          "text": [
            "['__annotations__', '__call__', '__class__', '__closure__', '__code__', '__defaults__', '__delattr__', '__dict__', '__dir__', '__doc__', '__eq__', '__format__', '__ge__', '__get__', '__getattribute__', '__globals__', '__gt__', '__hash__', '__init__', '__init_subclass__', '__kwdefaults__', '__le__', '__lt__', '__module__', '__name__', '__ne__', '__new__', '__qualname__', '__reduce__', '__reduce_ex__', '__repr__', '__setattr__', '__sizeof__', '__str__', '__subclasshook__']\n",
            "True\n"
          ]
        }
      ],
      "source": [
        "print(dir(tqdm.tqdm_notebook))\n",
        "print('tqdm_notebook' in dir(tqdm))"
      ]
    },
    {
      "cell_type": "code",
      "execution_count": 305,
      "metadata": {},
      "outputs": [
        {
          "data": {
            "text/plain": [
              "[0.42376610833934286,\n",
              " 0.14273303922255362,\n",
              " 0.11142666731550041,\n",
              " 0.10796716272949329,\n",
              " 0.10763277907468191,\n",
              " 0.09872414724766043,\n",
              " 0.10375909081220565,\n",
              " 0.09736828856864767,\n",
              " 0.0957809988456107,\n",
              " 0.0922495735153639,\n",
              " 0.09526743122191798,\n",
              " 0.09339249386015093,\n",
              " 0.0932245252266339,\n",
              " 0.09044994886602957,\n",
              " 0.0900632692240803]"
            ]
          },
          "execution_count": 305,
          "metadata": {},
          "output_type": "execute_result"
        }
      ],
      "source": [
        "train_loss_list"
      ]
    },
    {
      "cell_type": "code",
      "execution_count": 306,
      "metadata": {},
      "outputs": [
        {
          "data": {
            "text/plain": [
              "<matplotlib.legend.Legend at 0x2ad66f400>"
            ]
          },
          "execution_count": 306,
          "metadata": {},
          "output_type": "execute_result"
        },
        {
          "data": {
            "image/png": "[encoded data removed]",
            "text/plain": [
              "<Figure size 432x288 with 1 Axes>"
            ]
          },
          "metadata": {
            "needs_background": "dark"
          },
          "output_type": "display_data"
        }
      ],
      "source": [
        "import matplotlib.pyplot as plt\n",
        "%matplotlib inline\n",
        "\n",
        "plt.plot(train_loss_list, label='training loss')\n",
        "plt.plot(eval_loss_list, label='validation loss')\n",
        "plt.title('Loss vs. Epochs Completed')\n",
        "plt.legend()"
      ]
    },
    {
      "cell_type": "code",
      "execution_count": 307,
      "metadata": {},
      "outputs": [
        {
          "data": {
            "text/plain": [
              "<matplotlib.legend.Legend at 0x2adc00e50>"
            ]
          },
          "execution_count": 307,
          "metadata": {},
          "output_type": "execute_result"
        },
        {
          "data": {
            "image/png": "[encoded data removed]",
            "text/plain": [
              "<Figure size 432x288 with 1 Axes>"
            ]
          },
          "metadata": {
            "needs_background": "dark"
          },
          "output_type": "display_data"
        }
      ],
      "source": [
        "import matplotlib.pyplot as plt\n",
        "%matplotlib inline\n",
        "\n",
        "plt.plot(train_accuracy_list, label='training loss')\n",
        "plt.plot(eval_accuracy_list, label='validation loss')\n",
        "plt.title('Accuracy at the end of each epoch')\n",
        "plt.legend()"
      ]
    }
  ],
  "metadata": {
    "colab": {
      "name": "CS 4641 - Model 1 Notebook",
      "provenance": []
    },
    "kernelspec": {
      "display_name": "Python 3",
      "name": "python3"
    },
    "language_info": {
      "codemirror_mode": {
        "name": "ipython",
        "version": 3
      },
      "file_extension": ".py",
      "mimetype": "text/x-python",
      "name": "python",
      "nbconvert_exporter": "python",
      "pygments_lexer": "ipython3",
      "version": "3.8.11"
    }
  },
  "nbformat": 4,
  "nbformat_minor": 0
}
