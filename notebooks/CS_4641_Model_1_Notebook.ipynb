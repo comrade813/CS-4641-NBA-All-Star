{
 "cells": [
  {
   "cell_type": "code",
   "execution_count": 1,
   "metadata": {
    "id": "nEdYctuyj4Or"
   },
   "outputs": [],
   "source": [
    "# import libraries\n",
    "import numpy as np\n",
    "import torch\n",
    "import torch.nn as nn\n",
    "import torch.nn.functional as F\n",
    "import tqdm\n",
    "\n",
    "import pandas as pd\n",
    "import sklearn\n",
    "from sklearn.model_selection import train_test_split\n",
    "from sklearn.metrics import classification_report\n",
    "from torch.utils.data import Dataset, DataLoader\n",
    "\n",
    "\n"
   ]
  },
  {
   "cell_type": "code",
   "execution_count": 2,
   "metadata": {},
   "outputs": [
    {
     "name": "stdout",
     "output_type": "stream",
     "text": [
      "Requirement already satisfied: torch in /Library/Frameworks/Python.framework/Versions/3.8/lib/python3.8/site-packages (1.10.2)\r\n",
      "Requirement already satisfied: typing-extensions in /Library/Frameworks/Python.framework/Versions/3.8/lib/python3.8/site-packages (from torch) (3.7.4.3)\r\n"
     ]
    }
   ],
   "source": [
    "! pip install torch"
   ]
  },
  {
   "cell_type": "code",
   "execution_count": 3,
   "metadata": {},
   "outputs": [],
   "source": [
    "import random\n",
    "def set_seed(SEED):\n",
    "    random.seed(SEED)\n",
    "    np.random.seed(SEED)\n",
    "    torch.manual_seed(SEED)\n",
    "set_seed(40)"
   ]
  },
  {
   "cell_type": "code",
   "execution_count": 4,
   "metadata": {},
   "outputs": [],
   "source": [
    "#Load Data\n",
    "fully_processed_path = '../data/fully_processed/full_None_None.csv'\n",
    "dataset = pd.read_csv(fully_processed_path)\n",
    "\n",
    "#print(dataset.columns)\n",
    "#print(dataset)\n",
    "\n",
    "#X, y = dataset.drop([\"name\", \"is_all_star\"], axis=1), dataset[\"is_all_star\"]\n",
    "\n",
    "X = dataset.drop(['name'],axis=1)\n"
   ]
  },
  {
   "cell_type": "code",
   "execution_count": 5,
   "metadata": {},
   "outputs": [],
   "source": [
    "#normalize every player feature based on position and season"
   ]
  },
  {
   "cell_type": "code",
   "execution_count": 6,
   "metadata": {},
   "outputs": [],
   "source": [
    "SEED = 69\n",
    "train_ratio = 0.3\n",
    "test_ratio = 0.4\n",
    "val_ratio = 0.4\n",
    "\n",
    "X_train, X_tmp = train_test_split(X, test_size=test_ratio+val_ratio)\n",
    "X_test, X_val = train_test_split(X_tmp,test_size=val_ratio/(val_ratio + test_ratio))"
   ]
  },
  {
   "cell_type": "code",
   "execution_count": 7,
   "metadata": {},
   "outputs": [],
   "source": [
    "\n",
    "all_stars = X_train[X_train['is_all_star'] == 1]\n",
    "non_all_stars = X_train[X_train['is_all_star'] == 0]\n",
    "all_stars = all_stars.sample(n=non_all_stars.shape[0], replace = True)\n",
    "X_train = pd.concat([all_stars, non_all_stars])\n",
    "X_train = X_train.sample(frac=1)\n"
   ]
  },
  {
   "cell_type": "code",
   "execution_count": 8,
   "metadata": {},
   "outputs": [
    {
     "data": {
      "text/html": [
       "<div>\n",
       "<style scoped>\n",
       "    .dataframe tbody tr th:only-of-type {\n",
       "        vertical-align: middle;\n",
       "    }\n",
       "\n",
       "    .dataframe tbody tr th {\n",
       "        vertical-align: top;\n",
       "    }\n",
       "\n",
       "    .dataframe thead th {\n",
       "        text-align: right;\n",
       "    }\n",
       "</style>\n",
       "<table border=\"1\" class=\"dataframe\">\n",
       "  <thead>\n",
       "    <tr style=\"text-align: right;\">\n",
       "      <th></th>\n",
       "      <th>age</th>\n",
       "      <th>games_played</th>\n",
       "      <th>minutes_played</th>\n",
       "      <th>player_efficiency_rating</th>\n",
       "      <th>true_shooting_percentage</th>\n",
       "      <th>three_point_attempt_rate</th>\n",
       "      <th>free_throw_attempt_rate</th>\n",
       "      <th>offensive_rebound_percentage</th>\n",
       "      <th>defensive_rebound_percentage</th>\n",
       "      <th>total_rebound_percentage</th>\n",
       "      <th>...</th>\n",
       "      <th>usage_percentage</th>\n",
       "      <th>offensive_win_shares</th>\n",
       "      <th>defensive_win_shares</th>\n",
       "      <th>win_shares</th>\n",
       "      <th>win_shares_per_48_minutes</th>\n",
       "      <th>offensive_box_plus_minus</th>\n",
       "      <th>defensive_box_plus_minus</th>\n",
       "      <th>box_plus_minus</th>\n",
       "      <th>value_over_replacement_player</th>\n",
       "      <th>is_all_star</th>\n",
       "    </tr>\n",
       "  </thead>\n",
       "  <tbody>\n",
       "    <tr>\n",
       "      <th>8653</th>\n",
       "      <td>30</td>\n",
       "      <td>73</td>\n",
       "      <td>1826</td>\n",
       "      <td>12.1</td>\n",
       "      <td>0.585</td>\n",
       "      <td>0.681</td>\n",
       "      <td>0.138</td>\n",
       "      <td>1.9</td>\n",
       "      <td>12.2</td>\n",
       "      <td>7.1</td>\n",
       "      <td>...</td>\n",
       "      <td>13.4</td>\n",
       "      <td>1.6</td>\n",
       "      <td>2.6</td>\n",
       "      <td>4.2</td>\n",
       "      <td>0.112</td>\n",
       "      <td>-0.5</td>\n",
       "      <td>1.8</td>\n",
       "      <td>1.3</td>\n",
       "      <td>1.5</td>\n",
       "      <td>0</td>\n",
       "    </tr>\n",
       "    <tr>\n",
       "      <th>3452</th>\n",
       "      <td>24</td>\n",
       "      <td>81</td>\n",
       "      <td>2246</td>\n",
       "      <td>15.1</td>\n",
       "      <td>0.541</td>\n",
       "      <td>0.278</td>\n",
       "      <td>0.285</td>\n",
       "      <td>3.8</td>\n",
       "      <td>14.6</td>\n",
       "      <td>9.1</td>\n",
       "      <td>...</td>\n",
       "      <td>22.0</td>\n",
       "      <td>3.0</td>\n",
       "      <td>2.3</td>\n",
       "      <td>5.3</td>\n",
       "      <td>0.113</td>\n",
       "      <td>0.6</td>\n",
       "      <td>-0.4</td>\n",
       "      <td>0.2</td>\n",
       "      <td>1.2</td>\n",
       "      <td>0</td>\n",
       "    </tr>\n",
       "    <tr>\n",
       "      <th>3044</th>\n",
       "      <td>26</td>\n",
       "      <td>76</td>\n",
       "      <td>1505</td>\n",
       "      <td>7.6</td>\n",
       "      <td>0.430</td>\n",
       "      <td>0.063</td>\n",
       "      <td>0.179</td>\n",
       "      <td>4.1</td>\n",
       "      <td>9.1</td>\n",
       "      <td>6.6</td>\n",
       "      <td>...</td>\n",
       "      <td>12.0</td>\n",
       "      <td>-0.3</td>\n",
       "      <td>1.0</td>\n",
       "      <td>0.7</td>\n",
       "      <td>0.022</td>\n",
       "      <td>-3.6</td>\n",
       "      <td>0.5</td>\n",
       "      <td>-3.2</td>\n",
       "      <td>-0.4</td>\n",
       "      <td>0</td>\n",
       "    </tr>\n",
       "    <tr>\n",
       "      <th>2353</th>\n",
       "      <td>23</td>\n",
       "      <td>61</td>\n",
       "      <td>712</td>\n",
       "      <td>9.3</td>\n",
       "      <td>0.495</td>\n",
       "      <td>0.273</td>\n",
       "      <td>0.280</td>\n",
       "      <td>1.5</td>\n",
       "      <td>10.7</td>\n",
       "      <td>6.1</td>\n",
       "      <td>...</td>\n",
       "      <td>15.0</td>\n",
       "      <td>-0.3</td>\n",
       "      <td>0.7</td>\n",
       "      <td>0.5</td>\n",
       "      <td>0.033</td>\n",
       "      <td>-3.4</td>\n",
       "      <td>0.6</td>\n",
       "      <td>-2.8</td>\n",
       "      <td>-0.1</td>\n",
       "      <td>0</td>\n",
       "    </tr>\n",
       "    <tr>\n",
       "      <th>1422</th>\n",
       "      <td>23</td>\n",
       "      <td>39</td>\n",
       "      <td>306</td>\n",
       "      <td>6.3</td>\n",
       "      <td>0.281</td>\n",
       "      <td>0.029</td>\n",
       "      <td>0.072</td>\n",
       "      <td>11.3</td>\n",
       "      <td>15.8</td>\n",
       "      <td>13.5</td>\n",
       "      <td>...</td>\n",
       "      <td>12.3</td>\n",
       "      <td>-0.5</td>\n",
       "      <td>0.4</td>\n",
       "      <td>0.0</td>\n",
       "      <td>-0.006</td>\n",
       "      <td>-6.2</td>\n",
       "      <td>1.0</td>\n",
       "      <td>-5.2</td>\n",
       "      <td>-0.2</td>\n",
       "      <td>0</td>\n",
       "    </tr>\n",
       "    <tr>\n",
       "      <th>...</th>\n",
       "      <td>...</td>\n",
       "      <td>...</td>\n",
       "      <td>...</td>\n",
       "      <td>...</td>\n",
       "      <td>...</td>\n",
       "      <td>...</td>\n",
       "      <td>...</td>\n",
       "      <td>...</td>\n",
       "      <td>...</td>\n",
       "      <td>...</td>\n",
       "      <td>...</td>\n",
       "      <td>...</td>\n",
       "      <td>...</td>\n",
       "      <td>...</td>\n",
       "      <td>...</td>\n",
       "      <td>...</td>\n",
       "      <td>...</td>\n",
       "      <td>...</td>\n",
       "      <td>...</td>\n",
       "      <td>...</td>\n",
       "      <td>...</td>\n",
       "    </tr>\n",
       "    <tr>\n",
       "      <th>8416</th>\n",
       "      <td>24</td>\n",
       "      <td>21</td>\n",
       "      <td>312</td>\n",
       "      <td>10.5</td>\n",
       "      <td>0.531</td>\n",
       "      <td>0.449</td>\n",
       "      <td>0.153</td>\n",
       "      <td>3.9</td>\n",
       "      <td>15.9</td>\n",
       "      <td>9.7</td>\n",
       "      <td>...</td>\n",
       "      <td>15.0</td>\n",
       "      <td>0.1</td>\n",
       "      <td>0.3</td>\n",
       "      <td>0.4</td>\n",
       "      <td>0.064</td>\n",
       "      <td>-2.4</td>\n",
       "      <td>0.0</td>\n",
       "      <td>-2.4</td>\n",
       "      <td>0.0</td>\n",
       "      <td>0</td>\n",
       "    </tr>\n",
       "    <tr>\n",
       "      <th>4813</th>\n",
       "      <td>29</td>\n",
       "      <td>27</td>\n",
       "      <td>781</td>\n",
       "      <td>15.1</td>\n",
       "      <td>0.539</td>\n",
       "      <td>0.000</td>\n",
       "      <td>0.346</td>\n",
       "      <td>10.8</td>\n",
       "      <td>21.4</td>\n",
       "      <td>16.2</td>\n",
       "      <td>...</td>\n",
       "      <td>17.2</td>\n",
       "      <td>0.8</td>\n",
       "      <td>0.9</td>\n",
       "      <td>1.7</td>\n",
       "      <td>0.103</td>\n",
       "      <td>-0.3</td>\n",
       "      <td>-0.1</td>\n",
       "      <td>-0.5</td>\n",
       "      <td>0.3</td>\n",
       "      <td>0</td>\n",
       "    </tr>\n",
       "    <tr>\n",
       "      <th>2399</th>\n",
       "      <td>24</td>\n",
       "      <td>24</td>\n",
       "      <td>190</td>\n",
       "      <td>7.0</td>\n",
       "      <td>0.525</td>\n",
       "      <td>0.000</td>\n",
       "      <td>0.379</td>\n",
       "      <td>5.4</td>\n",
       "      <td>20.5</td>\n",
       "      <td>12.8</td>\n",
       "      <td>...</td>\n",
       "      <td>22.1</td>\n",
       "      <td>-0.5</td>\n",
       "      <td>0.3</td>\n",
       "      <td>-0.2</td>\n",
       "      <td>-0.040</td>\n",
       "      <td>-9.0</td>\n",
       "      <td>1.1</td>\n",
       "      <td>-7.9</td>\n",
       "      <td>-0.3</td>\n",
       "      <td>0</td>\n",
       "    </tr>\n",
       "    <tr>\n",
       "      <th>7361</th>\n",
       "      <td>24</td>\n",
       "      <td>76</td>\n",
       "      <td>2487</td>\n",
       "      <td>20.6</td>\n",
       "      <td>0.630</td>\n",
       "      <td>0.003</td>\n",
       "      <td>0.402</td>\n",
       "      <td>16.6</td>\n",
       "      <td>13.9</td>\n",
       "      <td>15.3</td>\n",
       "      <td>...</td>\n",
       "      <td>16.7</td>\n",
       "      <td>6.7</td>\n",
       "      <td>3.0</td>\n",
       "      <td>9.7</td>\n",
       "      <td>0.187</td>\n",
       "      <td>1.7</td>\n",
       "      <td>-0.6</td>\n",
       "      <td>1.1</td>\n",
       "      <td>2.0</td>\n",
       "      <td>0</td>\n",
       "    </tr>\n",
       "    <tr>\n",
       "      <th>2035</th>\n",
       "      <td>22</td>\n",
       "      <td>26</td>\n",
       "      <td>159</td>\n",
       "      <td>8.0</td>\n",
       "      <td>0.414</td>\n",
       "      <td>0.000</td>\n",
       "      <td>0.778</td>\n",
       "      <td>8.9</td>\n",
       "      <td>12.1</td>\n",
       "      <td>10.5</td>\n",
       "      <td>...</td>\n",
       "      <td>24.9</td>\n",
       "      <td>-0.4</td>\n",
       "      <td>0.2</td>\n",
       "      <td>-0.2</td>\n",
       "      <td>-0.054</td>\n",
       "      <td>-6.4</td>\n",
       "      <td>-2.8</td>\n",
       "      <td>-9.2</td>\n",
       "      <td>-0.3</td>\n",
       "      <td>0</td>\n",
       "    </tr>\n",
       "  </tbody>\n",
       "</table>\n",
       "<p>1780 rows × 24 columns</p>\n",
       "</div>"
      ],
      "text/plain": [
       "      age  games_played  minutes_played  player_efficiency_rating  \\\n",
       "8653   30            73            1826                      12.1   \n",
       "3452   24            81            2246                      15.1   \n",
       "3044   26            76            1505                       7.6   \n",
       "2353   23            61             712                       9.3   \n",
       "1422   23            39             306                       6.3   \n",
       "...   ...           ...             ...                       ...   \n",
       "8416   24            21             312                      10.5   \n",
       "4813   29            27             781                      15.1   \n",
       "2399   24            24             190                       7.0   \n",
       "7361   24            76            2487                      20.6   \n",
       "2035   22            26             159                       8.0   \n",
       "\n",
       "      true_shooting_percentage  three_point_attempt_rate  \\\n",
       "8653                     0.585                     0.681   \n",
       "3452                     0.541                     0.278   \n",
       "3044                     0.430                     0.063   \n",
       "2353                     0.495                     0.273   \n",
       "1422                     0.281                     0.029   \n",
       "...                        ...                       ...   \n",
       "8416                     0.531                     0.449   \n",
       "4813                     0.539                     0.000   \n",
       "2399                     0.525                     0.000   \n",
       "7361                     0.630                     0.003   \n",
       "2035                     0.414                     0.000   \n",
       "\n",
       "      free_throw_attempt_rate  offensive_rebound_percentage  \\\n",
       "8653                    0.138                           1.9   \n",
       "3452                    0.285                           3.8   \n",
       "3044                    0.179                           4.1   \n",
       "2353                    0.280                           1.5   \n",
       "1422                    0.072                          11.3   \n",
       "...                       ...                           ...   \n",
       "8416                    0.153                           3.9   \n",
       "4813                    0.346                          10.8   \n",
       "2399                    0.379                           5.4   \n",
       "7361                    0.402                          16.6   \n",
       "2035                    0.778                           8.9   \n",
       "\n",
       "      defensive_rebound_percentage  total_rebound_percentage  ...  \\\n",
       "8653                          12.2                       7.1  ...   \n",
       "3452                          14.6                       9.1  ...   \n",
       "3044                           9.1                       6.6  ...   \n",
       "2353                          10.7                       6.1  ...   \n",
       "1422                          15.8                      13.5  ...   \n",
       "...                            ...                       ...  ...   \n",
       "8416                          15.9                       9.7  ...   \n",
       "4813                          21.4                      16.2  ...   \n",
       "2399                          20.5                      12.8  ...   \n",
       "7361                          13.9                      15.3  ...   \n",
       "2035                          12.1                      10.5  ...   \n",
       "\n",
       "      usage_percentage  offensive_win_shares  defensive_win_shares  \\\n",
       "8653              13.4                   1.6                   2.6   \n",
       "3452              22.0                   3.0                   2.3   \n",
       "3044              12.0                  -0.3                   1.0   \n",
       "2353              15.0                  -0.3                   0.7   \n",
       "1422              12.3                  -0.5                   0.4   \n",
       "...                ...                   ...                   ...   \n",
       "8416              15.0                   0.1                   0.3   \n",
       "4813              17.2                   0.8                   0.9   \n",
       "2399              22.1                  -0.5                   0.3   \n",
       "7361              16.7                   6.7                   3.0   \n",
       "2035              24.9                  -0.4                   0.2   \n",
       "\n",
       "      win_shares  win_shares_per_48_minutes  offensive_box_plus_minus  \\\n",
       "8653         4.2                      0.112                      -0.5   \n",
       "3452         5.3                      0.113                       0.6   \n",
       "3044         0.7                      0.022                      -3.6   \n",
       "2353         0.5                      0.033                      -3.4   \n",
       "1422         0.0                     -0.006                      -6.2   \n",
       "...          ...                        ...                       ...   \n",
       "8416         0.4                      0.064                      -2.4   \n",
       "4813         1.7                      0.103                      -0.3   \n",
       "2399        -0.2                     -0.040                      -9.0   \n",
       "7361         9.7                      0.187                       1.7   \n",
       "2035        -0.2                     -0.054                      -6.4   \n",
       "\n",
       "      defensive_box_plus_minus  box_plus_minus  value_over_replacement_player  \\\n",
       "8653                       1.8             1.3                            1.5   \n",
       "3452                      -0.4             0.2                            1.2   \n",
       "3044                       0.5            -3.2                           -0.4   \n",
       "2353                       0.6            -2.8                           -0.1   \n",
       "1422                       1.0            -5.2                           -0.2   \n",
       "...                        ...             ...                            ...   \n",
       "8416                       0.0            -2.4                            0.0   \n",
       "4813                      -0.1            -0.5                            0.3   \n",
       "2399                       1.1            -7.9                           -0.3   \n",
       "7361                      -0.6             1.1                            2.0   \n",
       "2035                      -2.8            -9.2                           -0.3   \n",
       "\n",
       "      is_all_star  \n",
       "8653            0  \n",
       "3452            0  \n",
       "3044            0  \n",
       "2353            0  \n",
       "1422            0  \n",
       "...           ...  \n",
       "8416            0  \n",
       "4813            0  \n",
       "2399            0  \n",
       "7361            0  \n",
       "2035            0  \n",
       "\n",
       "[1780 rows x 24 columns]"
      ]
     },
     "execution_count": 8,
     "metadata": {},
     "output_type": "execute_result"
    }
   ],
   "source": [
    "#X.head()\n",
    "X_train[X_train['is_all_star'] == 0]"
   ]
  },
  {
   "cell_type": "code",
   "execution_count": 9,
   "metadata": {},
   "outputs": [
    {
     "name": "stdout",
     "output_type": "stream",
     "text": [
      "torch.Size([3560, 23]) torch.Size([3799, 23]) torch.Size([3800, 23])\n",
      "torch.Size([3560]) torch.Size([3799]) torch.Size([3800])\n"
     ]
    }
   ],
   "source": [
    "'''\n",
    "#split dataset into 60/20/20 for training, testing, validation\n",
    "SEED = 69\n",
    "train_ratio = 0.6\n",
    "test_ratio = 0.2\n",
    "val_ratio = 0.2\n",
    "\n",
    "\n",
    "\n",
    "X, y = X.drop(columns=['is_all_star']), X['is_all_star']\n",
    "\n",
    "X_train, X_tmp, y_train, y_tmp = train_test_split(X, y, test_size=test_ratio+val_ratio)\n",
    "X_test, X_val, y_test, y_val = train_test_split(X_tmp, y_tmp, test_size=val_ratio/(val_ratio + test_ratio))\n",
    "'''\n",
    "X_train, y_train = X_train.drop(columns=['is_all_star']), X_train['is_all_star']\n",
    "X_test, y_test = X_test.drop(columns=['is_all_star']), X_test['is_all_star']\n",
    "X_val, y_val = X_val.drop(columns=['is_all_star']), X_val['is_all_star']\n",
    "\n",
    "#convert data to tensors\n",
    "X_train, X_test, X_val = torch.LongTensor(X_train.values), torch.LongTensor(X_test.values), torch.LongTensor(X_val.values)\n",
    "y_train, y_test, y_val = torch.LongTensor(y_train.values), torch.LongTensor(y_test.values), torch.LongTensor(y_val.values)\n",
    "\n",
    "print(X_train.shape, X_test.shape, X_val.shape)\n",
    "print(y_train.shape, y_test.shape, y_val.shape)"
   ]
  },
  {
   "cell_type": "code",
   "execution_count": 10,
   "metadata": {},
   "outputs": [],
   "source": [
    "class dataset(Dataset):\n",
    "  def __init__(self,X,y):\n",
    "    self.X = X.float()\n",
    "    self.y = y.float()\n",
    "    self.length = self.X.shape[0]\n",
    " \n",
    "  def __getitem__(self,idx):\n",
    "    return self.X[idx],self.y[idx]\n",
    "  def __len__(self):\n",
    "    return self.length"
   ]
  },
  {
   "cell_type": "code",
   "execution_count": 11,
   "metadata": {},
   "outputs": [],
   "source": [
    "class AllStarClassifier(nn.Module):\n",
    "    def __init__(self, LAYER_1=30, LAYER_2=10, LAYER_3 = 10, LAYER_4 = 10):\n",
    "      super(AllStarClassifier, self).__init__()\n",
    "      # dense layers\n",
    "      self.layer1 = nn.Linear(LAYER_1, LAYER_2)\n",
    "      self.layer2 = nn.Linear(LAYER_2,  LAYER_3)\n",
    "      self.layer3 = nn.Linear(LAYER_3,  LAYER_4)\n",
    "      self.layer4 = nn.Linear(LAYER_4,  1)\n",
    "\n",
    "    def forward(self, X):\n",
    "\n",
    "      X = self.layer1(X)\n",
    "      X = F.relu(X)\n",
    "      X = self.layer2(X)\n",
    "      X = F.relu(X)\n",
    "      X = self.layer3(X)\n",
    "      X = F.relu(X)\n",
    "      X = self.layer4(X)\n",
    "      return torch.sigmoid(X)"
   ]
  },
  {
   "cell_type": "code",
   "execution_count": 12,
   "metadata": {},
   "outputs": [],
   "source": [
    "loss_fn = nn.BCELoss()\n",
    "\n",
    "learning_rate = 0.1\n",
    "num_epochs = 10\n",
    "batch_size = 16"
   ]
  },
  {
   "cell_type": "code",
   "execution_count": 13,
   "metadata": {},
   "outputs": [],
   "source": [
    "train_set = dataset(X_train,y_train)\n",
    "test_set = dataset(X_test,y_test)\n",
    "val_set = dataset(X_val,y_val)\n",
    "#DataLoader\n",
    "train_loader = DataLoader(train_set,batch_size=batch_size,shuffle=False)\n",
    "test_loader = DataLoader(test_set,batch_size=batch_size,shuffle=False)\n",
    "val_loader = DataLoader(val_set,batch_size=batch_size,shuffle=False)"
   ]
  },
  {
   "cell_type": "code",
   "execution_count": 14,
   "metadata": {},
   "outputs": [],
   "source": [
    "def EvalNet(dev_loader, net):\n",
    "    num_correct = 0\n",
    "    epoch_accuracy = []\n",
    "    epoch_loss = []\n",
    "    y_pred = []\n",
    "    y_actual = []\n",
    "    for i,(X,y) in enumerate(dev_loader):\n",
    "        output = net.forward(X)\n",
    "\n",
    "        loss = loss_fn(output,y.reshape(-1,1))\n",
    "        epoch_loss.append(loss.detach().numpy())\n",
    "\n",
    "        #get pred and actual values\n",
    "        y_pred.append(output.detach().numpy().round().reshape((output.shape[0])))\n",
    "        y_actual.append(y.detach().numpy().reshape((y.shape[0])))\n",
    "\n",
    "        accuracy = (output.reshape(-1).detach().numpy().round() == y.detach().numpy()).sum()/X.shape[0]\n",
    "        epoch_accuracy.append(accuracy)\n",
    "\n",
    "    eval_loss_list.append(sum(epoch_loss)/len(epoch_loss))\n",
    "    eval_accuracy_list.append(sum(epoch_accuracy) / len(epoch_accuracy))\n",
    "\n",
    "    y_pred = np.concatenate(y_pred)\n",
    "    y_actual = np.concatenate(y_actual)\n",
    "\n",
    "    print(\"Accuracy: %s\" % (sum(epoch_accuracy) / len(epoch_accuracy)))\n",
    "\n",
    "    return y_actual, y_pred\n",
    "\n",
    "def Metrics(dev_loader, net):\n",
    "  y, y_pred = EvalNet(dev_loader, net)\n",
    "  conversion_dict = {0: 'Non-All-Star' ,1: 'All-Star'}\n",
    "  processed_y, processed_y_pred = [],[]\n",
    "  for i in range(len(y)):\n",
    "    processed_y.append(conversion_dict[y[i]])\n",
    "    processed_y_pred.append(conversion_dict[y_pred[i]])\n",
    "  print(classification_report(processed_y, processed_y_pred, labels=['Non-All-Star', 'All-Star']))\n",
    "\n",
    "def Train(net, train_loader, n_iter, dev_loader, learning_rate=0.01):\n",
    "  print(\"Start Training!\")\n",
    "  optimizer = torch.optim.Adam(net.parameters(), lr=learning_rate)\n",
    "\n",
    "  for epoch in range(n_iter):\n",
    "    total_loss = 0.0\n",
    "    epoch_accuracy = []\n",
    "    epoch_loss = []\n",
    "    net.train()   #Put the network into training mode\n",
    "    for i,(X,y) in tqdm.tqdm_notebook(enumerate(train_loader)):\n",
    "      output = net(X)\n",
    "      \n",
    "      loss = loss_fn(output,y.reshape(-1,1))\n",
    "      epoch_loss.append(loss.detach().numpy())\n",
    "\n",
    "      accuracy = (output.reshape(-1).detach().numpy().round() == y.detach().numpy()).sum()/(X.shape[0])\n",
    "      epoch_accuracy.append(accuracy)\n",
    "\n",
    "      optimizer.zero_grad()\n",
    "      loss.backward()\n",
    "      optimizer.step()\n",
    "      \n",
    "\n",
    "    train_accuracy_list.append(sum(epoch_accuracy)/len(epoch_accuracy))\n",
    "    train_loss_list.append(sum(epoch_loss)/len(epoch_loss))\n",
    "    \n",
    "    net.eval()\n",
    "    with torch.no_grad():\n",
    "      print(f\"Loss on Train {epoch} = {sum(epoch_loss)/len(epoch_loss)}\")\n",
    "      Metrics(dev_loader, net)\n",
    "  return net"
   ]
  },
  {
   "cell_type": "code",
   "execution_count": 15,
   "metadata": {},
   "outputs": [
    {
     "name": "stdout",
     "output_type": "stream",
     "text": [
      "Start Training!\n"
     ]
    },
    {
     "name": "stderr",
     "output_type": "stream",
     "text": [
      "/var/folders/v4/j3sr0tsj41l028ps5j38z4fw0000gn/T/ipykernel_33845/1717566840.py:48: TqdmDeprecationWarning: This function will be removed in tqdm==5.0.0\n",
      "Please use `tqdm.notebook.tqdm` instead of `tqdm.tqdm_notebook`\n",
      "  for i,(X,y) in tqdm.tqdm_notebook(enumerate(train_loader)):\n"
     ]
    },
    {
     "data": {
      "application/vnd.jupyter.widget-view+json": {
       "model_id": "a151731858ca47f8922d60af90c960d4",
       "version_major": 2,
       "version_minor": 0
      },
      "text/plain": [
       "0it [00:00, ?it/s]"
      ]
     },
     "metadata": {},
     "output_type": "display_data"
    },
    {
     "name": "stdout",
     "output_type": "stream",
     "text": [
      "Loss on Train 0 = 0.5353066163145908\n",
      "Accuracy: 0.7738970588235294\n",
      "              precision    recall  f1-score   support\n",
      "\n",
      "Non-All-Star       1.00      0.77      0.87      3607\n",
      "    All-Star       0.18      0.94      0.30       193\n",
      "\n",
      "    accuracy                           0.77      3800\n",
      "   macro avg       0.59      0.85      0.58      3800\n",
      "weighted avg       0.95      0.77      0.84      3800\n",
      "\n"
     ]
    },
    {
     "name": "stderr",
     "output_type": "stream",
     "text": [
      "/var/folders/v4/j3sr0tsj41l028ps5j38z4fw0000gn/T/ipykernel_33845/1717566840.py:48: TqdmDeprecationWarning: This function will be removed in tqdm==5.0.0\n",
      "Please use `tqdm.notebook.tqdm` instead of `tqdm.tqdm_notebook`\n",
      "  for i,(X,y) in tqdm.tqdm_notebook(enumerate(train_loader)):\n"
     ]
    },
    {
     "data": {
      "application/vnd.jupyter.widget-view+json": {
       "model_id": "8e001b4c39b34ae784ac84791c861294",
       "version_major": 2,
       "version_minor": 0
      },
      "text/plain": [
       "0it [00:00, ?it/s]"
      ]
     },
     "metadata": {},
     "output_type": "display_data"
    },
    {
     "name": "stdout",
     "output_type": "stream",
     "text": [
      "Loss on Train 1 = 0.29599030546409666\n",
      "Accuracy: 0.9330357142857143\n",
      "              precision    recall  f1-score   support\n",
      "\n",
      "Non-All-Star       0.99      0.94      0.96      3607\n",
      "    All-Star       0.42      0.89      0.57       193\n",
      "\n",
      "    accuracy                           0.93      3800\n",
      "   macro avg       0.71      0.91      0.77      3800\n",
      "weighted avg       0.96      0.93      0.94      3800\n",
      "\n"
     ]
    },
    {
     "name": "stderr",
     "output_type": "stream",
     "text": [
      "/var/folders/v4/j3sr0tsj41l028ps5j38z4fw0000gn/T/ipykernel_33845/1717566840.py:48: TqdmDeprecationWarning: This function will be removed in tqdm==5.0.0\n",
      "Please use `tqdm.notebook.tqdm` instead of `tqdm.tqdm_notebook`\n",
      "  for i,(X,y) in tqdm.tqdm_notebook(enumerate(train_loader)):\n"
     ]
    },
    {
     "data": {
      "application/vnd.jupyter.widget-view+json": {
       "model_id": "35fc835a96c6451587d26e8e49f4bc47",
       "version_major": 2,
       "version_minor": 0
      },
      "text/plain": [
       "0it [00:00, ?it/s]"
      ]
     },
     "metadata": {},
     "output_type": "display_data"
    },
    {
     "name": "stdout",
     "output_type": "stream",
     "text": [
      "Loss on Train 2 = 0.19498692072025864\n",
      "Accuracy: 0.8792016806722689\n",
      "              precision    recall  f1-score   support\n",
      "\n",
      "Non-All-Star       1.00      0.87      0.93      3607\n",
      "    All-Star       0.29      0.98      0.45       193\n",
      "\n",
      "    accuracy                           0.88      3800\n",
      "   macro avg       0.65      0.93      0.69      3800\n",
      "weighted avg       0.96      0.88      0.91      3800\n",
      "\n"
     ]
    },
    {
     "name": "stderr",
     "output_type": "stream",
     "text": [
      "/var/folders/v4/j3sr0tsj41l028ps5j38z4fw0000gn/T/ipykernel_33845/1717566840.py:48: TqdmDeprecationWarning: This function will be removed in tqdm==5.0.0\n",
      "Please use `tqdm.notebook.tqdm` instead of `tqdm.tqdm_notebook`\n",
      "  for i,(X,y) in tqdm.tqdm_notebook(enumerate(train_loader)):\n"
     ]
    },
    {
     "data": {
      "application/vnd.jupyter.widget-view+json": {
       "model_id": "fd4b8317c11e44c58fa026a667bc1942",
       "version_major": 2,
       "version_minor": 0
      },
      "text/plain": [
       "0it [00:00, ?it/s]"
      ]
     },
     "metadata": {},
     "output_type": "display_data"
    },
    {
     "name": "stdout",
     "output_type": "stream",
     "text": [
      "Loss on Train 3 = 0.1787925328466323\n",
      "Accuracy: 0.9338235294117647\n",
      "              precision    recall  f1-score   support\n",
      "\n",
      "Non-All-Star       1.00      0.93      0.96      3607\n",
      "    All-Star       0.43      0.93      0.59       193\n",
      "\n",
      "    accuracy                           0.93      3800\n",
      "   macro avg       0.71      0.93      0.78      3800\n",
      "weighted avg       0.97      0.93      0.94      3800\n",
      "\n"
     ]
    },
    {
     "name": "stderr",
     "output_type": "stream",
     "text": [
      "/var/folders/v4/j3sr0tsj41l028ps5j38z4fw0000gn/T/ipykernel_33845/1717566840.py:48: TqdmDeprecationWarning: This function will be removed in tqdm==5.0.0\n",
      "Please use `tqdm.notebook.tqdm` instead of `tqdm.tqdm_notebook`\n",
      "  for i,(X,y) in tqdm.tqdm_notebook(enumerate(train_loader)):\n"
     ]
    },
    {
     "data": {
      "application/vnd.jupyter.widget-view+json": {
       "model_id": "58a809dea5454aafbccf5a8a2a05cff2",
       "version_major": 2,
       "version_minor": 0
      },
      "text/plain": [
       "0it [00:00, ?it/s]"
      ]
     },
     "metadata": {},
     "output_type": "display_data"
    },
    {
     "name": "stdout",
     "output_type": "stream",
     "text": [
      "Loss on Train 4 = 0.19550806496943862\n",
      "Accuracy: 0.835609243697479\n",
      "              precision    recall  f1-score   support\n",
      "\n",
      "Non-All-Star       1.00      0.83      0.91      3607\n",
      "    All-Star       0.23      0.99      0.38       193\n",
      "\n",
      "    accuracy                           0.84      3800\n",
      "   macro avg       0.62      0.91      0.64      3800\n",
      "weighted avg       0.96      0.84      0.88      3800\n",
      "\n"
     ]
    },
    {
     "name": "stderr",
     "output_type": "stream",
     "text": [
      "/var/folders/v4/j3sr0tsj41l028ps5j38z4fw0000gn/T/ipykernel_33845/1717566840.py:48: TqdmDeprecationWarning: This function will be removed in tqdm==5.0.0\n",
      "Please use `tqdm.notebook.tqdm` instead of `tqdm.tqdm_notebook`\n",
      "  for i,(X,y) in tqdm.tqdm_notebook(enumerate(train_loader)):\n"
     ]
    },
    {
     "data": {
      "application/vnd.jupyter.widget-view+json": {
       "model_id": "e2d437527dec4a8fbceca2dcddd3a82b",
       "version_major": 2,
       "version_minor": 0
      },
      "text/plain": [
       "0it [00:00, ?it/s]"
      ]
     },
     "metadata": {},
     "output_type": "display_data"
    },
    {
     "name": "stdout",
     "output_type": "stream",
     "text": [
      "Loss on Train 5 = 0.1703230688189712\n",
      "Accuracy: 0.8529411764705882\n",
      "              precision    recall  f1-score   support\n",
      "\n",
      "Non-All-Star       1.00      0.85      0.92      3607\n",
      "    All-Star       0.26      0.99      0.41       193\n",
      "\n",
      "    accuracy                           0.85      3800\n",
      "   macro avg       0.63      0.92      0.66      3800\n",
      "weighted avg       0.96      0.85      0.89      3800\n",
      "\n"
     ]
    },
    {
     "name": "stderr",
     "output_type": "stream",
     "text": [
      "/var/folders/v4/j3sr0tsj41l028ps5j38z4fw0000gn/T/ipykernel_33845/1717566840.py:48: TqdmDeprecationWarning: This function will be removed in tqdm==5.0.0\n",
      "Please use `tqdm.notebook.tqdm` instead of `tqdm.tqdm_notebook`\n",
      "  for i,(X,y) in tqdm.tqdm_notebook(enumerate(train_loader)):\n"
     ]
    },
    {
     "data": {
      "application/vnd.jupyter.widget-view+json": {
       "model_id": "b5af7ff7a78c4461b8566643f059bced",
       "version_major": 2,
       "version_minor": 0
      },
      "text/plain": [
       "0it [00:00, ?it/s]"
      ]
     },
     "metadata": {},
     "output_type": "display_data"
    },
    {
     "name": "stdout",
     "output_type": "stream",
     "text": [
      "Loss on Train 6 = 0.1635461298314512\n",
      "Accuracy: 0.9017857142857143\n",
      "              precision    recall  f1-score   support\n",
      "\n",
      "Non-All-Star       1.00      0.90      0.95      3607\n",
      "    All-Star       0.34      0.97      0.50       193\n",
      "\n",
      "    accuracy                           0.90      3800\n",
      "   macro avg       0.67      0.94      0.72      3800\n",
      "weighted avg       0.96      0.90      0.92      3800\n",
      "\n"
     ]
    },
    {
     "name": "stderr",
     "output_type": "stream",
     "text": [
      "/var/folders/v4/j3sr0tsj41l028ps5j38z4fw0000gn/T/ipykernel_33845/1717566840.py:48: TqdmDeprecationWarning: This function will be removed in tqdm==5.0.0\n",
      "Please use `tqdm.notebook.tqdm` instead of `tqdm.tqdm_notebook`\n",
      "  for i,(X,y) in tqdm.tqdm_notebook(enumerate(train_loader)):\n"
     ]
    },
    {
     "data": {
      "application/vnd.jupyter.widget-view+json": {
       "model_id": "7800117ad7374f3286b08e053699576f",
       "version_major": 2,
       "version_minor": 0
      },
      "text/plain": [
       "0it [00:00, ?it/s]"
      ]
     },
     "metadata": {},
     "output_type": "display_data"
    },
    {
     "name": "stdout",
     "output_type": "stream",
     "text": [
      "Loss on Train 7 = 0.18970341955816933\n",
      "Accuracy: 0.9380252100840336\n",
      "              precision    recall  f1-score   support\n",
      "\n",
      "Non-All-Star       1.00      0.94      0.97      3607\n",
      "    All-Star       0.45      0.93      0.61       193\n",
      "\n",
      "    accuracy                           0.94      3800\n",
      "   macro avg       0.72      0.94      0.79      3800\n",
      "weighted avg       0.97      0.94      0.95      3800\n",
      "\n"
     ]
    },
    {
     "name": "stderr",
     "output_type": "stream",
     "text": [
      "/var/folders/v4/j3sr0tsj41l028ps5j38z4fw0000gn/T/ipykernel_33845/1717566840.py:48: TqdmDeprecationWarning: This function will be removed in tqdm==5.0.0\n",
      "Please use `tqdm.notebook.tqdm` instead of `tqdm.tqdm_notebook`\n",
      "  for i,(X,y) in tqdm.tqdm_notebook(enumerate(train_loader)):\n"
     ]
    },
    {
     "data": {
      "application/vnd.jupyter.widget-view+json": {
       "model_id": "4b94fdad9a8f428186f4b03136b1e676",
       "version_major": 2,
       "version_minor": 0
      },
      "text/plain": [
       "0it [00:00, ?it/s]"
      ]
     },
     "metadata": {},
     "output_type": "display_data"
    },
    {
     "name": "stdout",
     "output_type": "stream",
     "text": [
      "Loss on Train 8 = 0.16043961843717927\n",
      "Accuracy: 0.9296218487394958\n",
      "              precision    recall  f1-score   support\n",
      "\n",
      "Non-All-Star       1.00      0.93      0.96      3607\n",
      "    All-Star       0.42      0.94      0.58       193\n",
      "\n",
      "    accuracy                           0.93      3800\n",
      "   macro avg       0.71      0.93      0.77      3800\n",
      "weighted avg       0.97      0.93      0.94      3800\n",
      "\n"
     ]
    },
    {
     "name": "stderr",
     "output_type": "stream",
     "text": [
      "/var/folders/v4/j3sr0tsj41l028ps5j38z4fw0000gn/T/ipykernel_33845/1717566840.py:48: TqdmDeprecationWarning: This function will be removed in tqdm==5.0.0\n",
      "Please use `tqdm.notebook.tqdm` instead of `tqdm.tqdm_notebook`\n",
      "  for i,(X,y) in tqdm.tqdm_notebook(enumerate(train_loader)):\n"
     ]
    },
    {
     "data": {
      "application/vnd.jupyter.widget-view+json": {
       "model_id": "1191cb8cb4e4483ca377bcf438ad199d",
       "version_major": 2,
       "version_minor": 0
      },
      "text/plain": [
       "0it [00:00, ?it/s]"
      ]
     },
     "metadata": {},
     "output_type": "display_data"
    },
    {
     "name": "stdout",
     "output_type": "stream",
     "text": [
      "Loss on Train 9 = 0.15661990665517447\n",
      "Accuracy: 0.9338235294117647\n",
      "              precision    recall  f1-score   support\n",
      "\n",
      "Non-All-Star       1.00      0.93      0.96      3607\n",
      "    All-Star       0.43      0.93      0.59       193\n",
      "\n",
      "    accuracy                           0.93      3800\n",
      "   macro avg       0.71      0.93      0.78      3800\n",
      "weighted avg       0.97      0.93      0.95      3800\n",
      "\n"
     ]
    }
   ],
   "source": [
    "set_seed(100)\n",
    "\n",
    "eval_loss_list = []\n",
    "train_loss_list = []\n",
    "eval_accuracy_list = []\n",
    "train_accuracy_list = []\n",
    "\n",
    "as_classifier = AllStarClassifier(LAYER_1=X_train.shape[1], LAYER_2=30, LAYER_3=15, LAYER_4=5)\n",
    "trained_nn = Train(as_classifier, train_loader, num_epochs, val_loader)\n"
   ]
  },
  {
   "cell_type": "code",
   "execution_count": 16,
   "metadata": {},
   "outputs": [
    {
     "name": "stdout",
     "output_type": "stream",
     "text": [
      "['__annotations__', '__call__', '__class__', '__closure__', '__code__', '__defaults__', '__delattr__', '__dict__', '__dir__', '__doc__', '__eq__', '__format__', '__ge__', '__get__', '__getattribute__', '__globals__', '__gt__', '__hash__', '__init__', '__init_subclass__', '__kwdefaults__', '__le__', '__lt__', '__module__', '__name__', '__ne__', '__new__', '__qualname__', '__reduce__', '__reduce_ex__', '__repr__', '__setattr__', '__sizeof__', '__str__', '__subclasshook__']\n",
      "True\n",
      "['__annotations__', '__call__', '__class__', '__closure__', '__code__', '__defaults__', '__delattr__', '__dict__', '__dir__', '__doc__', '__eq__', '__format__', '__ge__', '__get__', '__getattribute__', '__globals__', '__gt__', '__hash__', '__init__', '__init_subclass__', '__kwdefaults__', '__le__', '__lt__', '__module__', '__name__', '__ne__', '__new__', '__qualname__', '__reduce__', '__reduce_ex__', '__repr__', '__setattr__', '__sizeof__', '__str__', '__subclasshook__']\n"
     ]
    }
   ],
   "source": [
    "print(dir(tqdm.tqdm_notebook))\n",
    "print('tqdm_notebook' in dir(tqdm))\n",
    "print(dir(tqdm.tqdm_notebook))"
   ]
  },
  {
   "cell_type": "code",
   "execution_count": 17,
   "metadata": {},
   "outputs": [
    {
     "data": {
      "text/plain": [
       "[0.5353066163145908,\n",
       " 0.29599030546409666,\n",
       " 0.19498692072025864,\n",
       " 0.1787925328466323,\n",
       " 0.19550806496943862,\n",
       " 0.1703230688189712,\n",
       " 0.1635461298314512,\n",
       " 0.18970341955816933,\n",
       " 0.16043961843717927,\n",
       " 0.15661990665517447]"
      ]
     },
     "execution_count": 17,
     "metadata": {},
     "output_type": "execute_result"
    }
   ],
   "source": [
    "train_loss_list"
   ]
  },
  {
   "cell_type": "code",
   "execution_count": 18,
   "metadata": {},
   "outputs": [
    {
     "data": {
      "text/plain": [
       "<matplotlib.legend.Legend at 0x7fc234825160>"
      ]
     },
     "execution_count": 18,
     "metadata": {},
     "output_type": "execute_result"
    },
    {
     "data": {
      "image/png": "[encoded data removed]",
      "text/plain": [
       "<Figure size 432x288 with 1 Axes>"
      ]
     },
     "metadata": {
      "needs_background": "light"
     },
     "output_type": "display_data"
    }
   ],
   "source": [
    "import matplotlib.pyplot as plt\n",
    "%matplotlib inline\n",
    "\n",
    "plt.plot(train_loss_list, label='training loss')\n",
    "plt.plot(eval_loss_list, label='validation loss')\n",
    "plt.title('Loss vs. Epochs Completed')\n",
    "plt.legend()"
   ]
  },
  {
   "cell_type": "code",
   "execution_count": 19,
   "metadata": {},
   "outputs": [
    {
     "data": {
      "text/plain": [
       "<matplotlib.legend.Legend at 0x7fc234910eb0>"
      ]
     },
     "execution_count": 19,
     "metadata": {},
     "output_type": "execute_result"
    },
    {
     "data": {
      "image/png": "[encoded data removed]",
      "text/plain": [
       "<Figure size 432x288 with 1 Axes>"
      ]
     },
     "metadata": {
      "needs_background": "light"
     },
     "output_type": "display_data"
    }
   ],
   "source": [
    "import matplotlib.pyplot as plt\n",
    "%matplotlib inline\n",
    "\n",
    "plt.plot(train_accuracy_list, label='training accuracy')\n",
    "plt.plot(eval_accuracy_list, label='validation accuracy')\n",
    "plt.title('Accuracy at the end of each epoch')\n",
    "plt.legend()"
   ]
  }
 ],
 "metadata": {
  "colab": {
   "name": "CS 4641 - Model 1 Notebook",
   "provenance": []
  },
  "kernelspec": {
   "display_name": "Python 3 (ipykernel)",
   "language": "python",
   "name": "python3"
  },
  "language_info": {
   "codemirror_mode": {
    "name": "ipython",
    "version": 3
   },
   "file_extension": ".py",
   "mimetype": "text/x-python",
   "name": "python",
   "nbconvert_exporter": "python",
   "pygments_lexer": "ipython3",
   "version": "3.8.3"
  }
 },
 "nbformat": 4,
 "nbformat_minor": 1
}
