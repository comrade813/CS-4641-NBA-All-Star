{
 "cells": [
  {
   "cell_type": "code",
   "execution_count": 1,
   "metadata": {
    "id": "nEdYctuyj4Or"
   },
   "outputs": [],
   "source": [
    "# import libraries\n",
    "import numpy as np\n",
    "import torch\n",
    "import torch.nn as nn\n",
    "import torch.nn.functional as F\n",
    "import tqdm\n",
    "\n",
    "import pandas as pd\n",
    "import sklearn\n",
    "from sklearn.model_selection import train_test_split\n",
    "from torch.utils.data import Dataset, DataLoader\n",
    "\n",
    "\n"
   ]
  },
  {
   "cell_type": "code",
   "execution_count": 2,
   "metadata": {},
   "outputs": [
    {
     "name": "stdout",
     "output_type": "stream",
     "text": [
      "Requirement already satisfied: torch in /Library/Frameworks/Python.framework/Versions/3.8/lib/python3.8/site-packages (1.10.2)\r\n",
      "Requirement already satisfied: typing-extensions in /Library/Frameworks/Python.framework/Versions/3.8/lib/python3.8/site-packages (from torch) (3.7.4.3)\r\n"
     ]
    }
   ],
   "source": [
    "! pip install torch"
   ]
  },
  {
   "cell_type": "code",
   "execution_count": 3,
   "metadata": {},
   "outputs": [],
   "source": [
    "import random\n",
    "def set_seed(SEED):\n",
    "    random.seed(SEED)\n",
    "    np.random.seed(SEED)\n",
    "    torch.manual_seed(SEED)\n",
    "set_seed(40)"
   ]
  },
  {
   "cell_type": "code",
   "execution_count": 4,
   "metadata": {},
   "outputs": [
    {
     "name": "stdout",
     "output_type": "stream",
     "text": [
      "Index(['pca_0', 'pca_1', 'pca_2', 'pca_3'], dtype='object') 0    0\n",
      "1    1\n",
      "2    0\n",
      "3    0\n",
      "4    0\n",
      "Name: is_all_star, dtype: int64\n"
     ]
    }
   ],
   "source": [
    "#Load Data\n",
    "partially_processed_path = '../data/fully_processed/full_PCA.csv'\n",
    "dataset = pd.read_csv(partially_processed_path)\n",
    "encoded = True\n",
    "\n",
    "#print(dataset.columns)\n",
    "#print(dataset)\n",
    "\n",
    "X, y = dataset.drop([\"name\", \"is_all_star\"], axis=1), dataset[\"is_all_star\"]\n",
    "#One-Hot Encode Player Position\n",
    "if not encoded:\n",
    "    encoded = pd.get_dummies(X[\"positions\"], prefix=\"POS\")\n",
    "    X = pd.merge(left=X.drop(\"positions\", axis=1), right=encoded, left_index=True, right_index=True)\n",
    "\n",
    "print(X.columns, y.head())"
   ]
  },
  {
   "cell_type": "code",
   "execution_count": 5,
   "metadata": {},
   "outputs": [
    {
     "name": "stdout",
     "output_type": "stream",
     "text": [
      "torch.Size([5698, 4]) torch.Size([1900, 4]) torch.Size([1900, 4])\n",
      "torch.Size([5698]) torch.Size([1900]) torch.Size([1900])\n"
     ]
    }
   ],
   "source": [
    "#split dataset into 70/15/15 for training, testing, validation\n",
    "SEED = 69\n",
    "train_ratio = 0.6\n",
    "test_ratio = 0.2\n",
    "val_ratio = 0.2\n",
    "\n",
    "X_train, X_tmp, y_train, y_tmp = train_test_split(X, y, test_size=test_ratio+val_ratio)\n",
    "X_test, X_val, y_test, y_val = train_test_split(X_tmp, y_tmp, test_size=val_ratio/(val_ratio + test_ratio))\n",
    "\n",
    "\n",
    "#convert data to tensors\n",
    "X_train, X_test, X_val = torch.LongTensor(X_train.values), torch.LongTensor(X_test.values), torch.LongTensor(X_val.values)\n",
    "y_train, y_test, y_val = torch.LongTensor(y_train.values), torch.LongTensor(y_test.values), torch.LongTensor(y_val.values)\n",
    "\n",
    "print(X_train.shape, X_test.shape, X_val.shape)\n",
    "print(y_train.shape, y_test.shape, y_val.shape)"
   ]
  },
  {
   "cell_type": "code",
   "execution_count": 6,
   "metadata": {},
   "outputs": [],
   "source": [
    "class dataset(Dataset):\n",
    "  def __init__(self,X,y):\n",
    "    self.X = X.float()\n",
    "    self.y = y.float()\n",
    "    self.length = self.X.shape[0]\n",
    " \n",
    "  def __getitem__(self,idx):\n",
    "    return self.X[idx],self.y[idx]\n",
    "  def __len__(self):\n",
    "    return self.length"
   ]
  },
  {
   "cell_type": "code",
   "execution_count": 7,
   "metadata": {},
   "outputs": [],
   "source": [
    "class AllStarClassifier(nn.Module):\n",
    "    def __init__(self, LAYER_1=30, LAYER_2=10, LAYER_3 = 10):\n",
    "      super(AllStarClassifier, self).__init__()\n",
    "      # dense layers\n",
    "      self.layer1 = nn.Linear(LAYER_1, LAYER_2)\n",
    "      self.layer2 = nn.Linear(LAYER_2,  LAYER_3)\n",
    "      self.layer3 = nn.Linear(LAYER_3,  1)\n",
    "\n",
    "    def forward(self, X):\n",
    "\n",
    "      X = self.layer1(X)\n",
    "      X = F.relu(X)\n",
    "      X = self.layer2(X)\n",
    "      X = F.relu(X)\n",
    "      X = self.layer3(X)\n",
    "      return torch.sigmoid(X)"
   ]
  },
  {
   "cell_type": "code",
   "execution_count": 8,
   "metadata": {},
   "outputs": [],
   "source": [
    "loss_fn = nn.BCELoss()\n",
    "\n",
    "learning_rate = 0.005\n",
    "num_epochs = 15\n",
    "batch_size = 32"
   ]
  },
  {
   "cell_type": "code",
   "execution_count": 9,
   "metadata": {},
   "outputs": [],
   "source": [
    "train_set = dataset(X_train,y_train)\n",
    "test_set = dataset(X_test,y_test)\n",
    "val_set = dataset(X_val,y_val)\n",
    "#DataLoader\n",
    "train_loader = DataLoader(train_set,batch_size=batch_size,shuffle=False)\n",
    "test_loader = DataLoader(test_set,batch_size=batch_size,shuffle=False)\n",
    "val_loader = DataLoader(val_set,batch_size=batch_size,shuffle=False)"
   ]
  },
  {
   "cell_type": "code",
   "execution_count": 10,
   "metadata": {},
   "outputs": [],
   "source": [
    "def EvalNet(dev_loader, net):\n",
    "    num_correct = 0\n",
    "    epoch_accuracy = []\n",
    "    epoch_loss = []\n",
    "    for i,(X,y) in enumerate(dev_loader):\n",
    "        output = net.forward(X)\n",
    "\n",
    "        loss = loss_fn(output,y.reshape(-1,1))\n",
    "        epoch_loss.append(loss.detach().numpy())\n",
    "\n",
    "        accuracy = (output.reshape(-1).detach().numpy().round() == y.detach().numpy()).sum()/X.shape[0]\n",
    "        epoch_accuracy.append(accuracy)\n",
    "    eval_loss_list.append(sum(epoch_loss)/len(epoch_loss))\n",
    "    eval_accuracy_list.append(sum(epoch_accuracy) / len(epoch_accuracy))\n",
    "    print(\"Accuracy: %s\" % (sum(epoch_accuracy) / len(epoch_accuracy)))\n",
    "    return y\n",
    "\n",
    "def Train(net, train_loader, n_iter, dev_loader, learning_rate=0.01):\n",
    "  print(\"Start Training!\")\n",
    "  optimizer = torch.optim.Adam(net.parameters(), lr=learning_rate)\n",
    "\n",
    "  for epoch in range(n_iter):\n",
    "    total_loss = 0.0\n",
    "    epoch_accuracy = []\n",
    "    epoch_loss = []\n",
    "    net.train()   #Put the network into training mode\n",
    "    for i,(X,y) in tqdm.notebook.tqdm(enumerate(train_loader)):\n",
    "      output = net(X)\n",
    "      \n",
    "      loss = loss_fn(output,y.reshape(-1,1))\n",
    "      epoch_loss.append(loss.detach().numpy())\n",
    "\n",
    "      accuracy = (output.reshape(-1).detach().numpy().round() == y.detach().numpy()).sum()/(X.shape[0])\n",
    "      epoch_accuracy.append(accuracy)\n",
    "\n",
    "      optimizer.zero_grad()\n",
    "      loss.backward()\n",
    "      optimizer.step()\n",
    "      \n",
    "\n",
    "    train_accuracy_list.append(sum(epoch_accuracy)/len(epoch_accuracy))\n",
    "    train_loss_list.append(sum(epoch_loss)/len(epoch_loss))\n",
    "    \n",
    "    net.eval()\n",
    "    with torch.no_grad():\n",
    "      print(f\"Loss on Train {epoch} = {sum(epoch_loss)/len(epoch_loss)}\")\n",
    "      EvalNet(dev_loader, net)\n",
    "  return net"
   ]
  },
  {
   "cell_type": "code",
   "execution_count": 11,
   "metadata": {},
   "outputs": [
    {
     "name": "stdout",
     "output_type": "stream",
     "text": [
      "Start Training!\n"
     ]
    },
    {
     "data": {
      "application/vnd.jupyter.widget-view+json": {
       "model_id": "c7cabd7eee3f4a66a2ebfd0457888d25",
       "version_major": 2,
       "version_minor": 0
      },
      "text/plain": [
       "0it [00:00, ?it/s]"
      ]
     },
     "metadata": {},
     "output_type": "display_data"
    },
    {
     "name": "stdout",
     "output_type": "stream",
     "text": [
      "Loss on Train 0 = 0.4667288805351608\n",
      "Accuracy: 0.937673611111111\n"
     ]
    },
    {
     "data": {
      "application/vnd.jupyter.widget-view+json": {
       "model_id": "d08af614923844ddbeda0c4ac01f72d3",
       "version_major": 2,
       "version_minor": 0
      },
      "text/plain": [
       "0it [00:00, ?it/s]"
      ]
     },
     "metadata": {},
     "output_type": "display_data"
    },
    {
     "name": "stdout",
     "output_type": "stream",
     "text": [
      "Loss on Train 1 = 0.17926072575283294\n",
      "Accuracy: 0.9423611111111111\n"
     ]
    },
    {
     "data": {
      "application/vnd.jupyter.widget-view+json": {
       "model_id": "36a4c6d71e064372af285e2d3a328bed",
       "version_major": 2,
       "version_minor": 0
      },
      "text/plain": [
       "0it [00:00, ?it/s]"
      ]
     },
     "metadata": {},
     "output_type": "display_data"
    },
    {
     "name": "stdout",
     "output_type": "stream",
     "text": [
      "Loss on Train 2 = 0.15150621994421806\n",
      "Accuracy: 0.9444444444444444\n"
     ]
    },
    {
     "data": {
      "application/vnd.jupyter.widget-view+json": {
       "model_id": "eb6b9b31fb404eb18428796861157097",
       "version_major": 2,
       "version_minor": 0
      },
      "text/plain": [
       "0it [00:00, ?it/s]"
      ]
     },
     "metadata": {},
     "output_type": "display_data"
    },
    {
     "name": "stdout",
     "output_type": "stream",
     "text": [
      "Loss on Train 3 = 0.11684432140273152\n",
      "Accuracy: 0.945486111111111\n"
     ]
    },
    {
     "data": {
      "application/vnd.jupyter.widget-view+json": {
       "model_id": "6e5e514ee1534a5e91403fe0c30c85e8",
       "version_major": 2,
       "version_minor": 0
      },
      "text/plain": [
       "0it [00:00, ?it/s]"
      ]
     },
     "metadata": {},
     "output_type": "display_data"
    },
    {
     "name": "stdout",
     "output_type": "stream",
     "text": [
      "Loss on Train 4 = 0.10852022776926488\n",
      "Accuracy: 0.9449652777777777\n"
     ]
    },
    {
     "data": {
      "application/vnd.jupyter.widget-view+json": {
       "model_id": "a452ad97cc28426eacc1807792dae2c7",
       "version_major": 2,
       "version_minor": 0
      },
      "text/plain": [
       "0it [00:00, ?it/s]"
      ]
     },
     "metadata": {},
     "output_type": "display_data"
    },
    {
     "name": "stdout",
     "output_type": "stream",
     "text": [
      "Loss on Train 5 = 0.10719005504945636\n",
      "Accuracy: 0.9460069444444444\n"
     ]
    },
    {
     "data": {
      "application/vnd.jupyter.widget-view+json": {
       "model_id": "4cfa7ceba750424e944cb48f6927ec7a",
       "version_major": 2,
       "version_minor": 0
      },
      "text/plain": [
       "0it [00:00, ?it/s]"
      ]
     },
     "metadata": {},
     "output_type": "display_data"
    },
    {
     "name": "stdout",
     "output_type": "stream",
     "text": [
      "Loss on Train 6 = 0.09985047929358341\n",
      "Accuracy: 0.9522569444444444\n"
     ]
    },
    {
     "data": {
      "application/vnd.jupyter.widget-view+json": {
       "model_id": "922b0ffe9ab24c849ade3a31fe0730c0",
       "version_major": 2,
       "version_minor": 0
      },
      "text/plain": [
       "0it [00:00, ?it/s]"
      ]
     },
     "metadata": {},
     "output_type": "display_data"
    },
    {
     "name": "stdout",
     "output_type": "stream",
     "text": [
      "Loss on Train 7 = 0.09511419525370002\n",
      "Accuracy: 0.9559027777777778\n"
     ]
    },
    {
     "data": {
      "application/vnd.jupyter.widget-view+json": {
       "model_id": "6d9e2a7aa95d48e1a8f6d8304de66bf8",
       "version_major": 2,
       "version_minor": 0
      },
      "text/plain": [
       "0it [00:00, ?it/s]"
      ]
     },
     "metadata": {},
     "output_type": "display_data"
    },
    {
     "name": "stdout",
     "output_type": "stream",
     "text": [
      "Loss on Train 8 = 0.10187661579912251\n",
      "Accuracy: 0.970486111111111\n"
     ]
    },
    {
     "data": {
      "application/vnd.jupyter.widget-view+json": {
       "model_id": "dc18ef6d1c3045aaafdb343b52d01550",
       "version_major": 2,
       "version_minor": 0
      },
      "text/plain": [
       "0it [00:00, ?it/s]"
      ]
     },
     "metadata": {},
     "output_type": "display_data"
    },
    {
     "name": "stdout",
     "output_type": "stream",
     "text": [
      "Loss on Train 9 = 0.09476310178876839\n",
      "Accuracy: 0.9710069444444444\n"
     ]
    },
    {
     "data": {
      "application/vnd.jupyter.widget-view+json": {
       "model_id": "ff5182c2c7cf4a20beb45b042761d049",
       "version_major": 2,
       "version_minor": 0
      },
      "text/plain": [
       "0it [00:00, ?it/s]"
      ]
     },
     "metadata": {},
     "output_type": "display_data"
    },
    {
     "name": "stdout",
     "output_type": "stream",
     "text": [
      "Loss on Train 10 = 0.09263263157550662\n",
      "Accuracy: 0.965625\n"
     ]
    },
    {
     "data": {
      "application/vnd.jupyter.widget-view+json": {
       "model_id": "c5da34a61f414d2c8961819af9dcd4e7",
       "version_major": 2,
       "version_minor": 0
      },
      "text/plain": [
       "0it [00:00, ?it/s]"
      ]
     },
     "metadata": {},
     "output_type": "display_data"
    },
    {
     "name": "stdout",
     "output_type": "stream",
     "text": [
      "Loss on Train 11 = 0.08830004819674032\n",
      "Accuracy: 0.9699652777777777\n"
     ]
    },
    {
     "data": {
      "application/vnd.jupyter.widget-view+json": {
       "model_id": "9846eece6059452baac64de96a767202",
       "version_major": 2,
       "version_minor": 0
      },
      "text/plain": [
       "0it [00:00, ?it/s]"
      ]
     },
     "metadata": {},
     "output_type": "display_data"
    },
    {
     "name": "stdout",
     "output_type": "stream",
     "text": [
      "Loss on Train 12 = 0.08706009890962205\n",
      "Accuracy: 0.9699652777777777\n"
     ]
    },
    {
     "data": {
      "application/vnd.jupyter.widget-view+json": {
       "model_id": "832ff1dfba8b433ba60c1aa0be97b6cc",
       "version_major": 2,
       "version_minor": 0
      },
      "text/plain": [
       "0it [00:00, ?it/s]"
      ]
     },
     "metadata": {},
     "output_type": "display_data"
    },
    {
     "name": "stdout",
     "output_type": "stream",
     "text": [
      "Loss on Train 13 = 0.08772182480208368\n",
      "Accuracy: 0.968923611111111\n"
     ]
    },
    {
     "data": {
      "application/vnd.jupyter.widget-view+json": {
       "model_id": "f60940c34719450e8acff7e4294be334",
       "version_major": 2,
       "version_minor": 0
      },
      "text/plain": [
       "0it [00:00, ?it/s]"
      ]
     },
     "metadata": {},
     "output_type": "display_data"
    },
    {
     "name": "stdout",
     "output_type": "stream",
     "text": [
      "Loss on Train 14 = 0.0877959479281273\n",
      "Accuracy: 0.9666666666666667\n"
     ]
    }
   ],
   "source": [
    "set_seed(100)\n",
    "\n",
    "eval_loss_list = []\n",
    "train_loss_list = []\n",
    "eval_accuracy_list = []\n",
    "train_accuracy_list = []\n",
    "\n",
    "as_classifier = AllStarClassifier(LAYER_1=X_train.shape[1], LAYER_2=10, LAYER_3=10)\n",
    "trained_nn = Train(as_classifier, train_loader, num_epochs, val_loader)\n"
   ]
  },
  {
   "cell_type": "code",
   "execution_count": 12,
   "metadata": {},
   "outputs": [
    {
     "name": "stdout",
     "output_type": "stream",
     "text": [
      "['__annotations__', '__call__', '__class__', '__closure__', '__code__', '__defaults__', '__delattr__', '__dict__', '__dir__', '__doc__', '__eq__', '__format__', '__ge__', '__get__', '__getattribute__', '__globals__', '__gt__', '__hash__', '__init__', '__init_subclass__', '__kwdefaults__', '__le__', '__lt__', '__module__', '__name__', '__ne__', '__new__', '__qualname__', '__reduce__', '__reduce_ex__', '__repr__', '__setattr__', '__sizeof__', '__str__', '__subclasshook__']\n",
      "True\n"
     ]
    }
   ],
   "source": [
    "print(dir(tqdm.tqdm_notebook))\n",
    "print('tqdm_notebook' in dir(tqdm))"
   ]
  },
  {
   "cell_type": "code",
   "execution_count": 13,
   "metadata": {},
   "outputs": [
    {
     "data": {
      "text/plain": [
       "[0.4667288805351608,\n",
       " 0.17926072575283294,\n",
       " 0.15150621994421806,\n",
       " 0.11684432140273152,\n",
       " 0.10852022776926488,\n",
       " 0.10719005504945636,\n",
       " 0.09985047929358341,\n",
       " 0.09511419525370002,\n",
       " 0.10187661579912251,\n",
       " 0.09476310178876839,\n",
       " 0.09263263157550662,\n",
       " 0.08830004819674032,\n",
       " 0.08706009890962205,\n",
       " 0.08772182480208368,\n",
       " 0.0877959479281273]"
      ]
     },
     "execution_count": 13,
     "metadata": {},
     "output_type": "execute_result"
    }
   ],
   "source": [
    "train_loss_list"
   ]
  },
  {
   "cell_type": "code",
   "execution_count": 14,
   "metadata": {},
   "outputs": [
    {
     "data": {
      "text/plain": [
       "<matplotlib.legend.Legend at 0x7fd08f953490>"
      ]
     },
     "execution_count": 14,
     "metadata": {},
     "output_type": "execute_result"
    },
    {
     "data": {
      "image/png": "[encoded data removed]",
      "text/plain": [
       "<Figure size 432x288 with 1 Axes>"
      ]
     },
     "metadata": {
      "needs_background": "light"
     },
     "output_type": "display_data"
    }
   ],
   "source": [
    "import matplotlib.pyplot as plt\n",
    "%matplotlib inline\n",
    "\n",
    "plt.plot(train_loss_list, label='training loss')\n",
    "plt.plot(eval_loss_list, label='validation loss')\n",
    "plt.title('Loss vs. Epochs Completed')\n",
    "plt.legend()"
   ]
  },
  {
   "cell_type": "code",
   "execution_count": 15,
   "metadata": {},
   "outputs": [
    {
     "data": {
      "text/plain": [
       "<matplotlib.legend.Legend at 0x7fd08fa69520>"
      ]
     },
     "execution_count": 15,
     "metadata": {},
     "output_type": "execute_result"
    },
    {
     "data": {
      "image/png": "[encoded data removed]",
      "text/plain": [
       "<Figure size 432x288 with 1 Axes>"
      ]
     },
     "metadata": {
      "needs_background": "light"
     },
     "output_type": "display_data"
    }
   ],
   "source": [
    "import matplotlib.pyplot as plt\n",
    "%matplotlib inline\n",
    "\n",
    "plt.plot(train_accuracy_list, label='training accuracy')\n",
    "plt.plot(eval_accuracy_list, label='validation accuracy')\n",
    "plt.title('Accuracy at the end of each epoch')\n",
    "plt.legend()"
   ]
  },
  {
   "cell_type": "code",
   "execution_count": null,
   "metadata": {},
   "outputs": [],
   "source": []
  }
 ],
 "metadata": {
  "colab": {
   "name": "CS 4641 - Model 1 Notebook",
   "provenance": []
  },
  "kernelspec": {
   "display_name": "Python 3 (ipykernel)",
   "language": "python",
   "name": "python3"
  },
  "language_info": {
   "codemirror_mode": {
    "name": "ipython",
    "version": 3
   },
   "file_extension": ".py",
   "mimetype": "text/x-python",
   "name": "python",
   "nbconvert_exporter": "python",
   "pygments_lexer": "ipython3",
   "version": "3.8.3"
  }
 },
 "nbformat": 4,
 "nbformat_minor": 1
}
