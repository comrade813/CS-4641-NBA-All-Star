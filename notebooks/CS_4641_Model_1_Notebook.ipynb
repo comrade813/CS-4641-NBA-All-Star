{
  "cells": [
    {
      "cell_type": "code",
      "execution_count": 184,
      "metadata": {
        "id": "nEdYctuyj4Or"
      },
      "outputs": [],
      "source": [
        "# import libraries\n",
        "import numpy as np\n",
        "import torch\n",
        "import torch.nn as nn\n",
        "import torch.nn.functional as F\n",
        "import tqdm\n",
        "\n",
        "import pandas as pd\n",
        "import sklearn\n",
        "from sklearn.model_selection import train_test_split\n",
        "from sklearn.metrics import classification_report\n",
        "from torch.utils.data import Dataset, DataLoader\n",
        "\n",
        "\n"
      ]
    },
    {
      "cell_type": "code",
      "execution_count": 185,
      "metadata": {},
      "outputs": [
        {
          "name": "stdout",
          "output_type": "stream",
          "text": [
            "Requirement already satisfied: torch in /Users/manas/miniconda3/lib/python3.8/site-packages (1.11.0)\n",
            "Requirement already satisfied: typing-extensions in /Users/manas/miniconda3/lib/python3.8/site-packages (from torch) (4.1.1)\n"
          ]
        }
      ],
      "source": [
        "! pip install torch"
      ]
    },
    {
      "cell_type": "code",
      "execution_count": 186,
      "metadata": {},
      "outputs": [],
      "source": [
        "import random\n",
        "def set_seed(SEED):\n",
        "    random.seed(SEED)\n",
        "    np.random.seed(SEED)\n",
        "    torch.manual_seed(SEED)\n",
        "set_seed(40)"
      ]
    },
    {
      "cell_type": "code",
      "execution_count": 187,
      "metadata": {},
      "outputs": [],
      "source": [
        "#Load Data\n",
        "partially_processed_path = './CS-4641-NBA-All-Star/data/partially_processed/advanced_player_season_totals.csv'\n",
        "dataset = pd.read_csv(partially_processed_path)\n",
        "\n",
        "#print(dataset.columns)\n",
        "#print(dataset)\n",
        "\n",
        "#X, y = dataset.drop([\"name\", \"is_all_star\"], axis=1), dataset[\"is_all_star\"]\n",
        "\n",
        "X = dataset.drop(['name'],axis=1)\n",
        "\n",
        "#One-Hot Encode Player Position\n",
        "encoded = pd.get_dummies(X[\"positions\"], prefix=\"POS\")\n",
        "X = pd.merge(left=X.drop(\"positions\", axis=1), right=encoded, left_index=True, right_index=True)\n"
      ]
    },
    {
      "cell_type": "code",
      "execution_count": 188,
      "metadata": {},
      "outputs": [],
      "source": [
        "#normalize every player feature based on position and season\n",
        "positions = ['POS_CENTER', 'POS_POINT GUARD', 'POS_POWER FORWARD', 'POS_SHOOTING GUARD', 'POS_SMALL FORWARD']\n",
        "years = X['season'].unique()\n",
        "\n",
        "working_X = []\n",
        "for pos in positions:\n",
        "    for year in years:\n",
        "        #get players for a particular year and find means and variances for every feature\n",
        "        #current = X.where(X[pos] == 1 & X['season'] == year)\n",
        "\n",
        "        current = X[(X[pos] == 1) & (X['season'] == year)]\n",
        "        current = current.drop(columns=['season'])\n",
        "\n",
        "        all_star_col = current['is_all_star']\n",
        "        current = current.drop(columns=['is_all_star'])        \n",
        "\n",
        "        position_cols = current[positions]\n",
        "        current = current.drop(columns=positions)\n",
        "\n",
        "        current = (current - current.mean())/current.std()\n",
        "        current[positions] = position_cols\n",
        "        current['is_all_star'] = all_star_col\n",
        "        working_X.append(current)\n",
        "\n",
        "X = pd.concat(working_X)"
      ]
    },
    {
      "cell_type": "code",
      "execution_count": 189,
      "metadata": {},
      "outputs": [],
      "source": [
        "SEED = 69\n",
        "train_ratio = 0.3\n",
        "test_ratio = 0.4\n",
        "val_ratio = 0.4\n",
        "\n",
        "X_train, X_tmp = train_test_split(X, test_size=test_ratio+val_ratio)\n",
        "X_test, X_val = train_test_split(X_tmp,test_size=val_ratio/(val_ratio + test_ratio))"
      ]
    },
    {
      "cell_type": "code",
      "execution_count": 190,
      "metadata": {},
      "outputs": [],
      "source": [
        "\n",
        "all_stars = X_train[X_train['is_all_star'] == 1]\n",
        "non_all_stars = X_train[X_train['is_all_star'] == 0]\n",
        "all_stars = all_stars.sample(n=non_all_stars.shape[0], replace = True)\n",
        "X_train = pd.concat([all_stars, non_all_stars])\n",
        "X_train = X_train.sample(frac=1)\n"
      ]
    },
    {
      "cell_type": "code",
      "execution_count": 191,
      "metadata": {},
      "outputs": [
        {
          "data": {
            "text/html": [
              "<div>\n",
              "<style scoped>\n",
              "    .dataframe tbody tr th:only-of-type {\n",
              "        vertical-align: middle;\n",
              "    }\n",
              "\n",
              "    .dataframe tbody tr th {\n",
              "        vertical-align: top;\n",
              "    }\n",
              "\n",
              "    .dataframe thead th {\n",
              "        text-align: right;\n",
              "    }\n",
              "</style>\n",
              "<table border=\"1\" class=\"dataframe\">\n",
              "  <thead>\n",
              "    <tr style=\"text-align: right;\">\n",
              "      <th></th>\n",
              "      <th>age</th>\n",
              "      <th>games_played</th>\n",
              "      <th>minutes_played</th>\n",
              "      <th>player_efficiency_rating</th>\n",
              "      <th>true_shooting_percentage</th>\n",
              "      <th>three_point_attempt_rate</th>\n",
              "      <th>free_throw_attempt_rate</th>\n",
              "      <th>offensive_rebound_percentage</th>\n",
              "      <th>defensive_rebound_percentage</th>\n",
              "      <th>total_rebound_percentage</th>\n",
              "      <th>...</th>\n",
              "      <th>offensive_box_plus_minus</th>\n",
              "      <th>defensive_box_plus_minus</th>\n",
              "      <th>box_plus_minus</th>\n",
              "      <th>value_over_replacement_player</th>\n",
              "      <th>POS_CENTER</th>\n",
              "      <th>POS_POINT GUARD</th>\n",
              "      <th>POS_POWER FORWARD</th>\n",
              "      <th>POS_SHOOTING GUARD</th>\n",
              "      <th>POS_SMALL FORWARD</th>\n",
              "      <th>is_all_star</th>\n",
              "    </tr>\n",
              "  </thead>\n",
              "  <tbody>\n",
              "    <tr>\n",
              "      <th>6734</th>\n",
              "      <td>-0.753171</td>\n",
              "      <td>0.674269</td>\n",
              "      <td>1.178913</td>\n",
              "      <td>1.071485</td>\n",
              "      <td>0.311723</td>\n",
              "      <td>-0.835645</td>\n",
              "      <td>-0.010022</td>\n",
              "      <td>0.046861</td>\n",
              "      <td>0.849945</td>\n",
              "      <td>0.692235</td>\n",
              "      <td>...</td>\n",
              "      <td>0.831510</td>\n",
              "      <td>0.775970</td>\n",
              "      <td>1.047724</td>\n",
              "      <td>1.659642</td>\n",
              "      <td>0</td>\n",
              "      <td>0</td>\n",
              "      <td>0</td>\n",
              "      <td>1</td>\n",
              "      <td>0</td>\n",
              "      <td>0</td>\n",
              "    </tr>\n",
              "    <tr>\n",
              "      <th>5428</th>\n",
              "      <td>-0.415603</td>\n",
              "      <td>0.196471</td>\n",
              "      <td>-0.138489</td>\n",
              "      <td>0.116430</td>\n",
              "      <td>0.675130</td>\n",
              "      <td>-0.359998</td>\n",
              "      <td>-0.265388</td>\n",
              "      <td>-0.000679</td>\n",
              "      <td>0.281979</td>\n",
              "      <td>0.127318</td>\n",
              "      <td>...</td>\n",
              "      <td>-0.221953</td>\n",
              "      <td>0.053915</td>\n",
              "      <td>-0.120694</td>\n",
              "      <td>-0.558297</td>\n",
              "      <td>1</td>\n",
              "      <td>0</td>\n",
              "      <td>0</td>\n",
              "      <td>0</td>\n",
              "      <td>0</td>\n",
              "      <td>0</td>\n",
              "    </tr>\n",
              "    <tr>\n",
              "      <th>7575</th>\n",
              "      <td>1.787309</td>\n",
              "      <td>-0.054050</td>\n",
              "      <td>-0.426781</td>\n",
              "      <td>0.001226</td>\n",
              "      <td>0.255264</td>\n",
              "      <td>-0.612402</td>\n",
              "      <td>0.139133</td>\n",
              "      <td>-0.385126</td>\n",
              "      <td>-0.624088</td>\n",
              "      <td>-0.635888</td>\n",
              "      <td>...</td>\n",
              "      <td>-0.242846</td>\n",
              "      <td>0.005211</td>\n",
              "      <td>-0.188984</td>\n",
              "      <td>-0.503370</td>\n",
              "      <td>1</td>\n",
              "      <td>0</td>\n",
              "      <td>0</td>\n",
              "      <td>0</td>\n",
              "      <td>0</td>\n",
              "      <td>0</td>\n",
              "    </tr>\n",
              "    <tr>\n",
              "      <th>3173</th>\n",
              "      <td>1.560288</td>\n",
              "      <td>-0.971294</td>\n",
              "      <td>-1.049221</td>\n",
              "      <td>-0.185901</td>\n",
              "      <td>0.611906</td>\n",
              "      <td>-0.543943</td>\n",
              "      <td>1.434163</td>\n",
              "      <td>0.103573</td>\n",
              "      <td>-0.575430</td>\n",
              "      <td>-0.159298</td>\n",
              "      <td>...</td>\n",
              "      <td>-0.430955</td>\n",
              "      <td>0.312872</td>\n",
              "      <td>-0.310481</td>\n",
              "      <td>-0.585643</td>\n",
              "      <td>0</td>\n",
              "      <td>0</td>\n",
              "      <td>1</td>\n",
              "      <td>0</td>\n",
              "      <td>0</td>\n",
              "      <td>0</td>\n",
              "    </tr>\n",
              "    <tr>\n",
              "      <th>8599</th>\n",
              "      <td>2.165727</td>\n",
              "      <td>0.152439</td>\n",
              "      <td>0.546904</td>\n",
              "      <td>-0.850383</td>\n",
              "      <td>-0.264555</td>\n",
              "      <td>1.714113</td>\n",
              "      <td>-0.812321</td>\n",
              "      <td>-0.937894</td>\n",
              "      <td>-0.204741</td>\n",
              "      <td>-0.739111</td>\n",
              "      <td>...</td>\n",
              "      <td>-0.060725</td>\n",
              "      <td>0.892359</td>\n",
              "      <td>0.560640</td>\n",
              "      <td>0.524044</td>\n",
              "      <td>1</td>\n",
              "      <td>0</td>\n",
              "      <td>0</td>\n",
              "      <td>0</td>\n",
              "      <td>0</td>\n",
              "      <td>0</td>\n",
              "    </tr>\n",
              "    <tr>\n",
              "      <th>...</th>\n",
              "      <td>...</td>\n",
              "      <td>...</td>\n",
              "      <td>...</td>\n",
              "      <td>...</td>\n",
              "      <td>...</td>\n",
              "      <td>...</td>\n",
              "      <td>...</td>\n",
              "      <td>...</td>\n",
              "      <td>...</td>\n",
              "      <td>...</td>\n",
              "      <td>...</td>\n",
              "      <td>...</td>\n",
              "      <td>...</td>\n",
              "      <td>...</td>\n",
              "      <td>...</td>\n",
              "      <td>...</td>\n",
              "      <td>...</td>\n",
              "      <td>...</td>\n",
              "      <td>...</td>\n",
              "      <td>...</td>\n",
              "      <td>...</td>\n",
              "    </tr>\n",
              "    <tr>\n",
              "      <th>8498</th>\n",
              "      <td>-0.746268</td>\n",
              "      <td>0.559457</td>\n",
              "      <td>0.703148</td>\n",
              "      <td>-0.251388</td>\n",
              "      <td>-0.017507</td>\n",
              "      <td>-1.231603</td>\n",
              "      <td>0.171642</td>\n",
              "      <td>1.448986</td>\n",
              "      <td>1.048166</td>\n",
              "      <td>1.214917</td>\n",
              "      <td>...</td>\n",
              "      <td>-0.288336</td>\n",
              "      <td>0.664468</td>\n",
              "      <td>-0.000786</td>\n",
              "      <td>-0.314937</td>\n",
              "      <td>0</td>\n",
              "      <td>1</td>\n",
              "      <td>0</td>\n",
              "      <td>0</td>\n",
              "      <td>0</td>\n",
              "      <td>0</td>\n",
              "    </tr>\n",
              "    <tr>\n",
              "      <th>9427</th>\n",
              "      <td>-0.386264</td>\n",
              "      <td>-0.110302</td>\n",
              "      <td>-0.607398</td>\n",
              "      <td>0.098357</td>\n",
              "      <td>0.528173</td>\n",
              "      <td>1.806973</td>\n",
              "      <td>-0.406064</td>\n",
              "      <td>-1.204617</td>\n",
              "      <td>-1.493168</td>\n",
              "      <td>-1.697390</td>\n",
              "      <td>...</td>\n",
              "      <td>0.414008</td>\n",
              "      <td>-1.012785</td>\n",
              "      <td>-0.062613</td>\n",
              "      <td>-0.393005</td>\n",
              "      <td>0</td>\n",
              "      <td>0</td>\n",
              "      <td>0</td>\n",
              "      <td>0</td>\n",
              "      <td>1</td>\n",
              "      <td>0</td>\n",
              "    </tr>\n",
              "    <tr>\n",
              "      <th>1472</th>\n",
              "      <td>-1.223415</td>\n",
              "      <td>0.644979</td>\n",
              "      <td>0.163050</td>\n",
              "      <td>0.280581</td>\n",
              "      <td>-0.407911</td>\n",
              "      <td>1.831858</td>\n",
              "      <td>-0.820090</td>\n",
              "      <td>0.203803</td>\n",
              "      <td>1.011576</td>\n",
              "      <td>0.868915</td>\n",
              "      <td>...</td>\n",
              "      <td>0.319873</td>\n",
              "      <td>0.214764</td>\n",
              "      <td>0.332995</td>\n",
              "      <td>0.014023</td>\n",
              "      <td>0</td>\n",
              "      <td>0</td>\n",
              "      <td>1</td>\n",
              "      <td>0</td>\n",
              "      <td>0</td>\n",
              "      <td>0</td>\n",
              "    </tr>\n",
              "    <tr>\n",
              "      <th>321</th>\n",
              "      <td>0.869016</td>\n",
              "      <td>0.631595</td>\n",
              "      <td>0.332159</td>\n",
              "      <td>0.296298</td>\n",
              "      <td>1.186729</td>\n",
              "      <td>1.562071</td>\n",
              "      <td>0.037470</td>\n",
              "      <td>-0.280423</td>\n",
              "      <td>-0.397267</td>\n",
              "      <td>-0.455031</td>\n",
              "      <td>...</td>\n",
              "      <td>0.746876</td>\n",
              "      <td>-0.172002</td>\n",
              "      <td>0.572104</td>\n",
              "      <td>0.214527</td>\n",
              "      <td>0</td>\n",
              "      <td>0</td>\n",
              "      <td>0</td>\n",
              "      <td>1</td>\n",
              "      <td>0</td>\n",
              "      <td>0</td>\n",
              "    </tr>\n",
              "    <tr>\n",
              "      <th>741</th>\n",
              "      <td>-0.286169</td>\n",
              "      <td>0.915106</td>\n",
              "      <td>1.391398</td>\n",
              "      <td>0.063027</td>\n",
              "      <td>-0.060906</td>\n",
              "      <td>0.630056</td>\n",
              "      <td>-0.225606</td>\n",
              "      <td>-0.456567</td>\n",
              "      <td>-0.437194</td>\n",
              "      <td>-0.688128</td>\n",
              "      <td>...</td>\n",
              "      <td>0.193471</td>\n",
              "      <td>-0.474314</td>\n",
              "      <td>0.004656</td>\n",
              "      <td>-0.488637</td>\n",
              "      <td>0</td>\n",
              "      <td>0</td>\n",
              "      <td>0</td>\n",
              "      <td>0</td>\n",
              "      <td>1</td>\n",
              "      <td>0</td>\n",
              "    </tr>\n",
              "  </tbody>\n",
              "</table>\n",
              "<p>1792 rows × 29 columns</p>\n",
              "</div>"
            ],
            "text/plain": [
              "           age  games_played  minutes_played  player_efficiency_rating  \\\n",
              "6734 -0.753171      0.674269        1.178913                  1.071485   \n",
              "5428 -0.415603      0.196471       -0.138489                  0.116430   \n",
              "7575  1.787309     -0.054050       -0.426781                  0.001226   \n",
              "3173  1.560288     -0.971294       -1.049221                 -0.185901   \n",
              "8599  2.165727      0.152439        0.546904                 -0.850383   \n",
              "...        ...           ...             ...                       ...   \n",
              "8498 -0.746268      0.559457        0.703148                 -0.251388   \n",
              "9427 -0.386264     -0.110302       -0.607398                  0.098357   \n",
              "1472 -1.223415      0.644979        0.163050                  0.280581   \n",
              "321   0.869016      0.631595        0.332159                  0.296298   \n",
              "741  -0.286169      0.915106        1.391398                  0.063027   \n",
              "\n",
              "      true_shooting_percentage  three_point_attempt_rate  \\\n",
              "6734                  0.311723                 -0.835645   \n",
              "5428                  0.675130                 -0.359998   \n",
              "7575                  0.255264                 -0.612402   \n",
              "3173                  0.611906                 -0.543943   \n",
              "8599                 -0.264555                  1.714113   \n",
              "...                        ...                       ...   \n",
              "8498                 -0.017507                 -1.231603   \n",
              "9427                  0.528173                  1.806973   \n",
              "1472                 -0.407911                  1.831858   \n",
              "321                   1.186729                  1.562071   \n",
              "741                  -0.060906                  0.630056   \n",
              "\n",
              "      free_throw_attempt_rate  offensive_rebound_percentage  \\\n",
              "6734                -0.010022                      0.046861   \n",
              "5428                -0.265388                     -0.000679   \n",
              "7575                 0.139133                     -0.385126   \n",
              "3173                 1.434163                      0.103573   \n",
              "8599                -0.812321                     -0.937894   \n",
              "...                       ...                           ...   \n",
              "8498                 0.171642                      1.448986   \n",
              "9427                -0.406064                     -1.204617   \n",
              "1472                -0.820090                      0.203803   \n",
              "321                  0.037470                     -0.280423   \n",
              "741                 -0.225606                     -0.456567   \n",
              "\n",
              "      defensive_rebound_percentage  total_rebound_percentage  ...  \\\n",
              "6734                      0.849945                  0.692235  ...   \n",
              "5428                      0.281979                  0.127318  ...   \n",
              "7575                     -0.624088                 -0.635888  ...   \n",
              "3173                     -0.575430                 -0.159298  ...   \n",
              "8599                     -0.204741                 -0.739111  ...   \n",
              "...                            ...                       ...  ...   \n",
              "8498                      1.048166                  1.214917  ...   \n",
              "9427                     -1.493168                 -1.697390  ...   \n",
              "1472                      1.011576                  0.868915  ...   \n",
              "321                      -0.397267                 -0.455031  ...   \n",
              "741                      -0.437194                 -0.688128  ...   \n",
              "\n",
              "      offensive_box_plus_minus  defensive_box_plus_minus  box_plus_minus  \\\n",
              "6734                  0.831510                  0.775970        1.047724   \n",
              "5428                 -0.221953                  0.053915       -0.120694   \n",
              "7575                 -0.242846                  0.005211       -0.188984   \n",
              "3173                 -0.430955                  0.312872       -0.310481   \n",
              "8599                 -0.060725                  0.892359        0.560640   \n",
              "...                        ...                       ...             ...   \n",
              "8498                 -0.288336                  0.664468       -0.000786   \n",
              "9427                  0.414008                 -1.012785       -0.062613   \n",
              "1472                  0.319873                  0.214764        0.332995   \n",
              "321                   0.746876                 -0.172002        0.572104   \n",
              "741                   0.193471                 -0.474314        0.004656   \n",
              "\n",
              "      value_over_replacement_player  POS_CENTER  POS_POINT GUARD  \\\n",
              "6734                       1.659642           0                0   \n",
              "5428                      -0.558297           1                0   \n",
              "7575                      -0.503370           1                0   \n",
              "3173                      -0.585643           0                0   \n",
              "8599                       0.524044           1                0   \n",
              "...                             ...         ...              ...   \n",
              "8498                      -0.314937           0                1   \n",
              "9427                      -0.393005           0                0   \n",
              "1472                       0.014023           0                0   \n",
              "321                        0.214527           0                0   \n",
              "741                       -0.488637           0                0   \n",
              "\n",
              "      POS_POWER FORWARD  POS_SHOOTING GUARD  POS_SMALL FORWARD  is_all_star  \n",
              "6734                  0                   1                  0            0  \n",
              "5428                  0                   0                  0            0  \n",
              "7575                  0                   0                  0            0  \n",
              "3173                  1                   0                  0            0  \n",
              "8599                  0                   0                  0            0  \n",
              "...                 ...                 ...                ...          ...  \n",
              "8498                  0                   0                  0            0  \n",
              "9427                  0                   0                  1            0  \n",
              "1472                  1                   0                  0            0  \n",
              "321                   0                   1                  0            0  \n",
              "741                   0                   0                  1            0  \n",
              "\n",
              "[1792 rows x 29 columns]"
            ]
          },
          "execution_count": 191,
          "metadata": {},
          "output_type": "execute_result"
        }
      ],
      "source": [
        "#X.head()\n",
        "X_train[X_train['is_all_star'] == 0]"
      ]
    },
    {
      "cell_type": "code",
      "execution_count": 192,
      "metadata": {},
      "outputs": [
        {
          "name": "stdout",
          "output_type": "stream",
          "text": [
            "torch.Size([3584, 28]) torch.Size([3799, 28]) torch.Size([3800, 28])\n",
            "torch.Size([3584]) torch.Size([3799]) torch.Size([3800])\n"
          ]
        }
      ],
      "source": [
        "'''\n",
        "#split dataset into 60/20/20 for training, testing, validation\n",
        "SEED = 69\n",
        "train_ratio = 0.6\n",
        "test_ratio = 0.2\n",
        "val_ratio = 0.2\n",
        "\n",
        "\n",
        "\n",
        "X, y = X.drop(columns=['is_all_star']), X['is_all_star']\n",
        "\n",
        "X_train, X_tmp, y_train, y_tmp = train_test_split(X, y, test_size=test_ratio+val_ratio)\n",
        "X_test, X_val, y_test, y_val = train_test_split(X_tmp, y_tmp, test_size=val_ratio/(val_ratio + test_ratio))\n",
        "'''\n",
        "X_train, y_train = X_train.drop(columns=['is_all_star']), X_train['is_all_star']\n",
        "X_test, y_test = X_test.drop(columns=['is_all_star']), X_test['is_all_star']\n",
        "X_val, y_val = X_val.drop(columns=['is_all_star']), X_val['is_all_star']\n",
        "\n",
        "#convert data to tensors\n",
        "X_train, X_test, X_val = torch.LongTensor(X_train.values), torch.LongTensor(X_test.values), torch.LongTensor(X_val.values)\n",
        "y_train, y_test, y_val = torch.LongTensor(y_train.values), torch.LongTensor(y_test.values), torch.LongTensor(y_val.values)\n",
        "\n",
        "print(X_train.shape, X_test.shape, X_val.shape)\n",
        "print(y_train.shape, y_test.shape, y_val.shape)"
      ]
    },
    {
      "cell_type": "code",
      "execution_count": 193,
      "metadata": {},
      "outputs": [],
      "source": [
        "class dataset(Dataset):\n",
        "  def __init__(self,X,y):\n",
        "    self.X = X.float()\n",
        "    self.y = y.float()\n",
        "    self.length = self.X.shape[0]\n",
        " \n",
        "  def __getitem__(self,idx):\n",
        "    return self.X[idx],self.y[idx]\n",
        "  def __len__(self):\n",
        "    return self.length"
      ]
    },
    {
      "cell_type": "code",
      "execution_count": 194,
      "metadata": {},
      "outputs": [],
      "source": [
        "class AllStarClassifier(nn.Module):\n",
        "    def __init__(self, LAYER_1=30, LAYER_2=10, LAYER_3 = 10, LAYER_4 = 10):\n",
        "      super(AllStarClassifier, self).__init__()\n",
        "      # dense layers\n",
        "      self.layer1 = nn.Linear(LAYER_1, LAYER_2)\n",
        "      self.layer2 = nn.Linear(LAYER_2,  LAYER_3)\n",
        "      self.layer3 = nn.Linear(LAYER_3,  LAYER_4)\n",
        "      self.layer4 = nn.Linear(LAYER_4,  1)\n",
        "\n",
        "    def forward(self, X):\n",
        "\n",
        "      X = self.layer1(X)\n",
        "      X = F.relu(X)\n",
        "      X = self.layer2(X)\n",
        "      X = F.relu(X)\n",
        "      X = self.layer3(X)\n",
        "      X = F.relu(X)\n",
        "      X = self.layer4(X)\n",
        "      return torch.sigmoid(X)"
      ]
    },
    {
      "cell_type": "code",
      "execution_count": 195,
      "metadata": {},
      "outputs": [],
      "source": [
        "loss_fn = nn.BCELoss()\n",
        "\n",
        "learning_rate = 0.1\n",
        "num_epochs = 10\n",
        "batch_size = 16"
      ]
    },
    {
      "cell_type": "code",
      "execution_count": 196,
      "metadata": {},
      "outputs": [],
      "source": [
        "train_set = dataset(X_train,y_train)\n",
        "test_set = dataset(X_test,y_test)\n",
        "val_set = dataset(X_val,y_val)\n",
        "#DataLoader\n",
        "train_loader = DataLoader(train_set,batch_size=batch_size,shuffle=False)\n",
        "test_loader = DataLoader(test_set,batch_size=batch_size,shuffle=False)\n",
        "val_loader = DataLoader(val_set,batch_size=batch_size,shuffle=False)"
      ]
    },
    {
      "cell_type": "code",
      "execution_count": 197,
      "metadata": {},
      "outputs": [],
      "source": [
        "def EvalNet(dev_loader, net):\n",
        "    num_correct = 0\n",
        "    epoch_accuracy = []\n",
        "    epoch_loss = []\n",
        "    y_pred = []\n",
        "    y_actual = []\n",
        "    for i,(X,y) in enumerate(dev_loader):\n",
        "        output = net.forward(X)\n",
        "\n",
        "        loss = loss_fn(output,y.reshape(-1,1))\n",
        "        epoch_loss.append(loss.detach().numpy())\n",
        "\n",
        "        #get pred and actual values\n",
        "        y_pred.append(output.detach().numpy().round().reshape((output.shape[0])))\n",
        "        y_actual.append(y.detach().numpy().reshape((y.shape[0])))\n",
        "\n",
        "        accuracy = (output.reshape(-1).detach().numpy().round() == y.detach().numpy()).sum()/X.shape[0]\n",
        "        epoch_accuracy.append(accuracy)\n",
        "\n",
        "    eval_loss_list.append(sum(epoch_loss)/len(epoch_loss))\n",
        "    eval_accuracy_list.append(sum(epoch_accuracy) / len(epoch_accuracy))\n",
        "\n",
        "    y_pred = np.concatenate(y_pred)\n",
        "    y_actual = np.concatenate(y_actual)\n",
        "\n",
        "    print(\"Accuracy: %s\" % (sum(epoch_accuracy) / len(epoch_accuracy)))\n",
        "\n",
        "    return y_actual, y_pred\n",
        "\n",
        "def Metrics(dev_loader, net):\n",
        "  y, y_pred = EvalNet(dev_loader, net)\n",
        "  conversion_dict = {0: 'Non-All-Star' ,1: 'All-Star'}\n",
        "  processed_y, processed_y_pred = [],[]\n",
        "  for i in range(len(y)):\n",
        "    processed_y.append(conversion_dict[y[i]])\n",
        "    processed_y_pred.append(conversion_dict[y_pred[i]])\n",
        "  print(classification_report(processed_y, processed_y_pred, labels=['Non-All-Star', 'All-Star']))\n",
        "\n",
        "def Train(net, train_loader, n_iter, dev_loader, learning_rate=0.01):\n",
        "  print(\"Start Training!\")\n",
        "  optimizer = torch.optim.Adam(net.parameters(), lr=learning_rate)\n",
        "\n",
        "  for epoch in range(n_iter):\n",
        "    total_loss = 0.0\n",
        "    epoch_accuracy = []\n",
        "    epoch_loss = []\n",
        "    net.train()   #Put the network into training mode\n",
        "    for i,(X,y) in tqdm.tqdm_notebook(enumerate(train_loader)):\n",
        "      output = net(X)\n",
        "      \n",
        "      loss = loss_fn(output,y.reshape(-1,1))\n",
        "      epoch_loss.append(loss.detach().numpy())\n",
        "\n",
        "      accuracy = (output.reshape(-1).detach().numpy().round() == y.detach().numpy()).sum()/(X.shape[0])\n",
        "      epoch_accuracy.append(accuracy)\n",
        "\n",
        "      optimizer.zero_grad()\n",
        "      loss.backward()\n",
        "      optimizer.step()\n",
        "      \n",
        "\n",
        "    train_accuracy_list.append(sum(epoch_accuracy)/len(epoch_accuracy))\n",
        "    train_loss_list.append(sum(epoch_loss)/len(epoch_loss))\n",
        "    \n",
        "    net.eval()\n",
        "    with torch.no_grad():\n",
        "      print(f\"Loss on Train {epoch} = {sum(epoch_loss)/len(epoch_loss)}\")\n",
        "      Metrics(dev_loader, net)\n",
        "  return net"
      ]
    },
    {
      "cell_type": "code",
      "execution_count": 198,
      "metadata": {},
      "outputs": [
        {
          "name": "stdout",
          "output_type": "stream",
          "text": [
            "Start Training!\n"
          ]
        },
        {
          "name": "stderr",
          "output_type": "stream",
          "text": [
            "/var/folders/qb/y1tbczls1jq3tcnsg6h5cd700000gn/T/ipykernel_49053/1717566840.py:48: TqdmDeprecationWarning: This function will be removed in tqdm==5.0.0\n",
            "Please use `tqdm.notebook.tqdm` instead of `tqdm.tqdm_notebook`\n",
            "  for i,(X,y) in tqdm.tqdm_notebook(enumerate(train_loader)):\n"
          ]
        },
        {
          "data": {
            "application/vnd.jupyter.widget-view+json": {
              "model_id": "6d75fbd7fdb740a384a6976971d3c7ab",
              "version_major": 2,
              "version_minor": 0
            },
            "text/plain": [
              "0it [00:00, ?it/s]"
            ]
          },
          "metadata": {},
          "output_type": "display_data"
        },
        {
          "name": "stdout",
          "output_type": "stream",
          "text": [
            "Loss on Train 0 = 0.16610859768531686\n",
            "Accuracy: 0.9514180672268907\n",
            "              precision    recall  f1-score   support\n",
            "\n",
            "Non-All-Star       0.99      0.96      0.97      3600\n",
            "    All-Star       0.52      0.87      0.65       200\n",
            "\n",
            "    accuracy                           0.95      3800\n",
            "   macro avg       0.76      0.91      0.81      3800\n",
            "weighted avg       0.97      0.95      0.96      3800\n",
            "\n"
          ]
        },
        {
          "name": "stderr",
          "output_type": "stream",
          "text": [
            "/var/folders/qb/y1tbczls1jq3tcnsg6h5cd700000gn/T/ipykernel_49053/1717566840.py:48: TqdmDeprecationWarning: This function will be removed in tqdm==5.0.0\n",
            "Please use `tqdm.notebook.tqdm` instead of `tqdm.tqdm_notebook`\n",
            "  for i,(X,y) in tqdm.tqdm_notebook(enumerate(train_loader)):\n"
          ]
        },
        {
          "data": {
            "application/vnd.jupyter.widget-view+json": {
              "model_id": "bab745660842421c805d94874f18f39d",
              "version_major": 2,
              "version_minor": 0
            },
            "text/plain": [
              "0it [00:00, ?it/s]"
            ]
          },
          "metadata": {},
          "output_type": "display_data"
        },
        {
          "name": "stdout",
          "output_type": "stream",
          "text": [
            "Loss on Train 1 = 0.10523391344967033\n",
            "Accuracy: 0.9351365546218487\n",
            "              precision    recall  f1-score   support\n",
            "\n",
            "Non-All-Star       1.00      0.94      0.96      3600\n",
            "    All-Star       0.44      0.92      0.60       200\n",
            "\n",
            "    accuracy                           0.94      3800\n",
            "   macro avg       0.72      0.93      0.78      3800\n",
            "weighted avg       0.97      0.94      0.95      3800\n",
            "\n"
          ]
        },
        {
          "name": "stderr",
          "output_type": "stream",
          "text": [
            "/var/folders/qb/y1tbczls1jq3tcnsg6h5cd700000gn/T/ipykernel_49053/1717566840.py:48: TqdmDeprecationWarning: This function will be removed in tqdm==5.0.0\n",
            "Please use `tqdm.notebook.tqdm` instead of `tqdm.tqdm_notebook`\n",
            "  for i,(X,y) in tqdm.tqdm_notebook(enumerate(train_loader)):\n"
          ]
        },
        {
          "data": {
            "application/vnd.jupyter.widget-view+json": {
              "model_id": "5d11c2e31c994e4e8661d08c39f80a50",
              "version_major": 2,
              "version_minor": 0
            },
            "text/plain": [
              "0it [00:00, ?it/s]"
            ]
          },
          "metadata": {},
          "output_type": "display_data"
        },
        {
          "name": "stdout",
          "output_type": "stream",
          "text": [
            "Loss on Train 2 = 0.0767824810183291\n",
            "Accuracy: 0.9556197478991597\n",
            "              precision    recall  f1-score   support\n",
            "\n",
            "Non-All-Star       0.99      0.96      0.98      3600\n",
            "    All-Star       0.55      0.85      0.67       200\n",
            "\n",
            "    accuracy                           0.96      3800\n",
            "   macro avg       0.77      0.91      0.82      3800\n",
            "weighted avg       0.97      0.96      0.96      3800\n",
            "\n"
          ]
        },
        {
          "name": "stderr",
          "output_type": "stream",
          "text": [
            "/var/folders/qb/y1tbczls1jq3tcnsg6h5cd700000gn/T/ipykernel_49053/1717566840.py:48: TqdmDeprecationWarning: This function will be removed in tqdm==5.0.0\n",
            "Please use `tqdm.notebook.tqdm` instead of `tqdm.tqdm_notebook`\n",
            "  for i,(X,y) in tqdm.tqdm_notebook(enumerate(train_loader)):\n"
          ]
        },
        {
          "data": {
            "application/vnd.jupyter.widget-view+json": {
              "model_id": "3aa71c28e6f1459fbea188142c7d8c47",
              "version_major": 2,
              "version_minor": 0
            },
            "text/plain": [
              "0it [00:00, ?it/s]"
            ]
          },
          "metadata": {},
          "output_type": "display_data"
        },
        {
          "name": "stdout",
          "output_type": "stream",
          "text": [
            "Loss on Train 3 = 0.06461969367540275\n",
            "Accuracy: 0.9566701680672269\n",
            "              precision    recall  f1-score   support\n",
            "\n",
            "Non-All-Star       0.99      0.96      0.98      3600\n",
            "    All-Star       0.56      0.84      0.67       200\n",
            "\n",
            "    accuracy                           0.96      3800\n",
            "   macro avg       0.77      0.90      0.82      3800\n",
            "weighted avg       0.97      0.96      0.96      3800\n",
            "\n"
          ]
        },
        {
          "name": "stderr",
          "output_type": "stream",
          "text": [
            "/var/folders/qb/y1tbczls1jq3tcnsg6h5cd700000gn/T/ipykernel_49053/1717566840.py:48: TqdmDeprecationWarning: This function will be removed in tqdm==5.0.0\n",
            "Please use `tqdm.notebook.tqdm` instead of `tqdm.tqdm_notebook`\n",
            "  for i,(X,y) in tqdm.tqdm_notebook(enumerate(train_loader)):\n"
          ]
        },
        {
          "data": {
            "application/vnd.jupyter.widget-view+json": {
              "model_id": "7d8ce68e4bf84e8dbd089d5170a8ec06",
              "version_major": 2,
              "version_minor": 0
            },
            "text/plain": [
              "0it [00:00, ?it/s]"
            ]
          },
          "metadata": {},
          "output_type": "display_data"
        },
        {
          "name": "stdout",
          "output_type": "stream",
          "text": [
            "Loss on Train 4 = 0.0662438799154188\n",
            "Accuracy: 0.9532563025210085\n",
            "              precision    recall  f1-score   support\n",
            "\n",
            "Non-All-Star       0.99      0.96      0.97      3600\n",
            "    All-Star       0.53      0.84      0.66       200\n",
            "\n",
            "    accuracy                           0.95      3800\n",
            "   macro avg       0.76      0.90      0.81      3800\n",
            "weighted avg       0.97      0.95      0.96      3800\n",
            "\n"
          ]
        },
        {
          "name": "stderr",
          "output_type": "stream",
          "text": [
            "/var/folders/qb/y1tbczls1jq3tcnsg6h5cd700000gn/T/ipykernel_49053/1717566840.py:48: TqdmDeprecationWarning: This function will be removed in tqdm==5.0.0\n",
            "Please use `tqdm.notebook.tqdm` instead of `tqdm.tqdm_notebook`\n",
            "  for i,(X,y) in tqdm.tqdm_notebook(enumerate(train_loader)):\n"
          ]
        },
        {
          "data": {
            "application/vnd.jupyter.widget-view+json": {
              "model_id": "7be05c205cd646858b393389407f23e4",
              "version_major": 2,
              "version_minor": 0
            },
            "text/plain": [
              "0it [00:00, ?it/s]"
            ]
          },
          "metadata": {},
          "output_type": "display_data"
        },
        {
          "name": "stdout",
          "output_type": "stream",
          "text": [
            "Loss on Train 5 = 0.05706683878815966\n",
            "Accuracy: 0.961922268907563\n",
            "              precision    recall  f1-score   support\n",
            "\n",
            "Non-All-Star       0.99      0.97      0.98      3600\n",
            "    All-Star       0.61      0.75      0.67       200\n",
            "\n",
            "    accuracy                           0.96      3800\n",
            "   macro avg       0.80      0.86      0.83      3800\n",
            "weighted avg       0.97      0.96      0.96      3800\n",
            "\n"
          ]
        },
        {
          "name": "stderr",
          "output_type": "stream",
          "text": [
            "/var/folders/qb/y1tbczls1jq3tcnsg6h5cd700000gn/T/ipykernel_49053/1717566840.py:48: TqdmDeprecationWarning: This function will be removed in tqdm==5.0.0\n",
            "Please use `tqdm.notebook.tqdm` instead of `tqdm.tqdm_notebook`\n",
            "  for i,(X,y) in tqdm.tqdm_notebook(enumerate(train_loader)):\n"
          ]
        },
        {
          "data": {
            "application/vnd.jupyter.widget-view+json": {
              "model_id": "bdfe2c341626452bac93aa67e1b47b1a",
              "version_major": 2,
              "version_minor": 0
            },
            "text/plain": [
              "0it [00:00, ?it/s]"
            ]
          },
          "metadata": {},
          "output_type": "display_data"
        },
        {
          "name": "stdout",
          "output_type": "stream",
          "text": [
            "Loss on Train 6 = 0.05007954952348622\n",
            "Accuracy: 0.9571953781512605\n",
            "              precision    recall  f1-score   support\n",
            "\n",
            "Non-All-Star       0.99      0.96      0.98      3600\n",
            "    All-Star       0.56      0.83      0.67       200\n",
            "\n",
            "    accuracy                           0.96      3800\n",
            "   macro avg       0.78      0.90      0.82      3800\n",
            "weighted avg       0.97      0.96      0.96      3800\n",
            "\n"
          ]
        },
        {
          "name": "stderr",
          "output_type": "stream",
          "text": [
            "/var/folders/qb/y1tbczls1jq3tcnsg6h5cd700000gn/T/ipykernel_49053/1717566840.py:48: TqdmDeprecationWarning: This function will be removed in tqdm==5.0.0\n",
            "Please use `tqdm.notebook.tqdm` instead of `tqdm.tqdm_notebook`\n",
            "  for i,(X,y) in tqdm.tqdm_notebook(enumerate(train_loader)):\n"
          ]
        },
        {
          "data": {
            "application/vnd.jupyter.widget-view+json": {
              "model_id": "6cbe67b0ac7a416c887a76ef9794ef33",
              "version_major": 2,
              "version_minor": 0
            },
            "text/plain": [
              "0it [00:00, ?it/s]"
            ]
          },
          "metadata": {},
          "output_type": "display_data"
        },
        {
          "name": "stdout",
          "output_type": "stream",
          "text": [
            "Loss on Train 7 = 0.039425772136382875\n",
            "Accuracy: 0.9600840336134454\n",
            "              precision    recall  f1-score   support\n",
            "\n",
            "Non-All-Star       0.99      0.97      0.98      3600\n",
            "    All-Star       0.60      0.74      0.66       200\n",
            "\n",
            "    accuracy                           0.96      3800\n",
            "   macro avg       0.79      0.86      0.82      3800\n",
            "weighted avg       0.96      0.96      0.96      3800\n",
            "\n"
          ]
        },
        {
          "name": "stderr",
          "output_type": "stream",
          "text": [
            "/var/folders/qb/y1tbczls1jq3tcnsg6h5cd700000gn/T/ipykernel_49053/1717566840.py:48: TqdmDeprecationWarning: This function will be removed in tqdm==5.0.0\n",
            "Please use `tqdm.notebook.tqdm` instead of `tqdm.tqdm_notebook`\n",
            "  for i,(X,y) in tqdm.tqdm_notebook(enumerate(train_loader)):\n"
          ]
        },
        {
          "data": {
            "application/vnd.jupyter.widget-view+json": {
              "model_id": "d8162b60c73b4abb80be0cc4453b2334",
              "version_major": 2,
              "version_minor": 0
            },
            "text/plain": [
              "0it [00:00, ?it/s]"
            ]
          },
          "metadata": {},
          "output_type": "display_data"
        },
        {
          "name": "stdout",
          "output_type": "stream",
          "text": [
            "Loss on Train 8 = 0.036916705579902294\n",
            "Accuracy: 0.9529936974789915\n",
            "              precision    recall  f1-score   support\n",
            "\n",
            "Non-All-Star       0.99      0.96      0.97      3600\n",
            "    All-Star       0.54      0.78      0.63       200\n",
            "\n",
            "    accuracy                           0.95      3800\n",
            "   macro avg       0.76      0.87      0.80      3800\n",
            "weighted avg       0.96      0.95      0.96      3800\n",
            "\n"
          ]
        },
        {
          "name": "stderr",
          "output_type": "stream",
          "text": [
            "/var/folders/qb/y1tbczls1jq3tcnsg6h5cd700000gn/T/ipykernel_49053/1717566840.py:48: TqdmDeprecationWarning: This function will be removed in tqdm==5.0.0\n",
            "Please use `tqdm.notebook.tqdm` instead of `tqdm.tqdm_notebook`\n",
            "  for i,(X,y) in tqdm.tqdm_notebook(enumerate(train_loader)):\n"
          ]
        },
        {
          "data": {
            "application/vnd.jupyter.widget-view+json": {
              "model_id": "644ac346e94f4ce6b23f61a84876c6ce",
              "version_major": 2,
              "version_minor": 0
            },
            "text/plain": [
              "0it [00:00, ?it/s]"
            ]
          },
          "metadata": {},
          "output_type": "display_data"
        },
        {
          "name": "stdout",
          "output_type": "stream",
          "text": [
            "Loss on Train 9 = 0.04114928427004218\n",
            "Accuracy: 0.9582457983193278\n",
            "              precision    recall  f1-score   support\n",
            "\n",
            "Non-All-Star       0.99      0.97      0.98      3600\n",
            "    All-Star       0.58      0.76      0.66       200\n",
            "\n",
            "    accuracy                           0.96      3800\n",
            "   macro avg       0.78      0.86      0.82      3800\n",
            "weighted avg       0.96      0.96      0.96      3800\n",
            "\n"
          ]
        }
      ],
      "source": [
        "set_seed(100)\n",
        "\n",
        "eval_loss_list = []\n",
        "train_loss_list = []\n",
        "eval_accuracy_list = []\n",
        "train_accuracy_list = []\n",
        "\n",
        "as_classifier = AllStarClassifier(LAYER_1=X_train.shape[1], LAYER_2=30, LAYER_3=15, LAYER_4=5)\n",
        "trained_nn = Train(as_classifier, train_loader, num_epochs, val_loader)\n"
      ]
    },
    {
      "cell_type": "code",
      "execution_count": 199,
      "metadata": {},
      "outputs": [
        {
          "name": "stdout",
          "output_type": "stream",
          "text": [
            "['__annotations__', '__call__', '__class__', '__closure__', '__code__', '__defaults__', '__delattr__', '__dict__', '__dir__', '__doc__', '__eq__', '__format__', '__ge__', '__get__', '__getattribute__', '__globals__', '__gt__', '__hash__', '__init__', '__init_subclass__', '__kwdefaults__', '__le__', '__lt__', '__module__', '__name__', '__ne__', '__new__', '__qualname__', '__reduce__', '__reduce_ex__', '__repr__', '__setattr__', '__sizeof__', '__str__', '__subclasshook__']\n",
            "True\n",
            "['__annotations__', '__call__', '__class__', '__closure__', '__code__', '__defaults__', '__delattr__', '__dict__', '__dir__', '__doc__', '__eq__', '__format__', '__ge__', '__get__', '__getattribute__', '__globals__', '__gt__', '__hash__', '__init__', '__init_subclass__', '__kwdefaults__', '__le__', '__lt__', '__module__', '__name__', '__ne__', '__new__', '__qualname__', '__reduce__', '__reduce_ex__', '__repr__', '__setattr__', '__sizeof__', '__str__', '__subclasshook__']\n"
          ]
        }
      ],
      "source": [
        "print(dir(tqdm.tqdm_notebook))\n",
        "print('tqdm_notebook' in dir(tqdm))\n",
        "print(dir(tqdm.tqdm_notebook))"
      ]
    },
    {
      "cell_type": "code",
      "execution_count": 200,
      "metadata": {},
      "outputs": [
        {
          "data": {
            "text/plain": [
              "[0.16610859768531686,\n",
              " 0.10523391344967033,\n",
              " 0.0767824810183291,\n",
              " 0.06461969367540275,\n",
              " 0.0662438799154188,\n",
              " 0.05706683878815966,\n",
              " 0.05007954952348622,\n",
              " 0.039425772136382875,\n",
              " 0.036916705579902294,\n",
              " 0.04114928427004218]"
            ]
          },
          "execution_count": 200,
          "metadata": {},
          "output_type": "execute_result"
        }
      ],
      "source": [
        "train_loss_list"
      ]
    },
    {
      "cell_type": "code",
      "execution_count": 201,
      "metadata": {},
      "outputs": [
        {
          "data": {
            "text/plain": [
              "<matplotlib.legend.Legend at 0x177791070>"
            ]
          },
          "execution_count": 201,
          "metadata": {},
          "output_type": "execute_result"
        },
        {
          "data": {
            "image/png": "[encoded data removed]",
            "text/plain": [
              "<Figure size 432x288 with 1 Axes>"
            ]
          },
          "metadata": {
            "needs_background": "dark"
          },
          "output_type": "display_data"
        }
      ],
      "source": [
        "import matplotlib.pyplot as plt\n",
        "%matplotlib inline\n",
        "\n",
        "plt.plot(train_loss_list, label='training loss')\n",
        "plt.plot(eval_loss_list, label='validation loss')\n",
        "plt.title('Loss vs. Epochs Completed')\n",
        "plt.legend()"
      ]
    },
    {
      "cell_type": "code",
      "execution_count": 202,
      "metadata": {},
      "outputs": [
        {
          "data": {
            "text/plain": [
              "<matplotlib.legend.Legend at 0x2a1f44880>"
            ]
          },
          "execution_count": 202,
          "metadata": {},
          "output_type": "execute_result"
        },
        {
          "data": {
            "image/png": "[encoded data removed]",
            "text/plain": [
              "<Figure size 432x288 with 1 Axes>"
            ]
          },
          "metadata": {
            "needs_background": "dark"
          },
          "output_type": "display_data"
        }
      ],
      "source": [
        "import matplotlib.pyplot as plt\n",
        "%matplotlib inline\n",
        "\n",
        "plt.plot(train_accuracy_list, label='training accuracy')\n",
        "plt.plot(eval_accuracy_list, label='validation accuracy')\n",
        "plt.title('Accuracy at the end of each epoch')\n",
        "plt.legend()"
      ]
    }
  ],
  "metadata": {
    "colab": {
      "name": "CS 4641 - Model 1 Notebook",
      "provenance": []
    },
    "kernelspec": {
      "display_name": "Python 3",
      "name": "python3"
    },
    "language_info": {
      "codemirror_mode": {
        "name": "ipython",
        "version": 3
      },
      "file_extension": ".py",
      "mimetype": "text/x-python",
      "name": "python",
      "nbconvert_exporter": "python",
      "pygments_lexer": "ipython3",
      "version": "3.8.11"
    }
  },
  "nbformat": 4,
  "nbformat_minor": 0
}
